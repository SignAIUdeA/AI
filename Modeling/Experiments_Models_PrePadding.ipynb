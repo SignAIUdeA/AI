{
 "cells": [
  {
   "cell_type": "markdown",
   "id": "47c46c3e-59bb-4d18-a4d9-31bed86fa2b6",
   "metadata": {},
   "source": [
    "# First Iteration with Recurrent Neural Networks and Post Padding"
   ]
  },
  {
   "cell_type": "code",
   "execution_count": 1,
   "id": "c235c84e-96df-4c9c-af66-4c495812b9b4",
   "metadata": {},
   "outputs": [
    {
     "name": "stderr",
     "output_type": "stream",
     "text": [
      "2023-10-24 17:20:03.733376: I tensorflow/tsl/cuda/cudart_stub.cc:28] Could not find cuda drivers on your machine, GPU will not be used.\n",
      "2023-10-24 17:20:04.385348: I tensorflow/tsl/cuda/cudart_stub.cc:28] Could not find cuda drivers on your machine, GPU will not be used.\n",
      "2023-10-24 17:20:04.390695: I tensorflow/core/platform/cpu_feature_guard.cc:182] This TensorFlow binary is optimized to use available CPU instructions in performance-critical operations.\n",
      "To enable the following instructions: AVX2 FMA, in other operations, rebuild TensorFlow with the appropriate compiler flags.\n",
      "2023-10-24 17:20:08.600664: W tensorflow/compiler/tf2tensorrt/utils/py_utils.cc:38] TF-TRT Warning: Could not find TensorRT\n"
     ]
    }
   ],
   "source": [
    "import pandas as pd\n",
    "import numpy as np\n",
    "from progress.bar import Bar\n",
    "#from hmmlearn import hmm\n",
    "from sklearn.model_selection import train_test_split\n",
    "from tensorflow.keras.models import Sequential\n",
    "from tensorflow.keras.layers import LSTM, Dense\n",
    "from tensorflow.keras.utils import to_categorical, pad_sequences"
   ]
  },
  {
   "cell_type": "code",
   "execution_count": 2,
   "id": "16c960a1-e3e9-4203-aaa9-ecbb7bb9db51",
   "metadata": {},
   "outputs": [
    {
     "data": {
      "text/html": [
       "<div>\n",
       "<style scoped>\n",
       "    .dataframe tbody tr th:only-of-type {\n",
       "        vertical-align: middle;\n",
       "    }\n",
       "\n",
       "    .dataframe tbody tr th {\n",
       "        vertical-align: top;\n",
       "    }\n",
       "\n",
       "    .dataframe thead th {\n",
       "        text-align: right;\n",
       "    }\n",
       "</style>\n",
       "<table border=\"1\" class=\"dataframe\">\n",
       "  <thead>\n",
       "    <tr style=\"text-align: right;\">\n",
       "      <th></th>\n",
       "      <th>Class</th>\n",
       "    </tr>\n",
       "    <tr>\n",
       "      <th>File</th>\n",
       "      <th></th>\n",
       "    </tr>\n",
       "  </thead>\n",
       "  <tbody>\n",
       "    <tr>\n",
       "      <th>S1V3C1M3A Clip166.npy</th>\n",
       "      <td>1</td>\n",
       "    </tr>\n",
       "    <tr>\n",
       "      <th>S1V1C1M1A Clip18.npy</th>\n",
       "      <td>1</td>\n",
       "    </tr>\n",
       "    <tr>\n",
       "      <th>S1V4C1M4A Clip241.npy</th>\n",
       "      <td>1</td>\n",
       "    </tr>\n",
       "    <tr>\n",
       "      <th>S1V4C1M4A Clip239.npy</th>\n",
       "      <td>1</td>\n",
       "    </tr>\n",
       "    <tr>\n",
       "      <th>S1V4C1M4A Clip245.npy</th>\n",
       "      <td>1</td>\n",
       "    </tr>\n",
       "  </tbody>\n",
       "</table>\n",
       "</div>"
      ],
      "text/plain": [
       "                       Class\n",
       "File                        \n",
       "S1V3C1M3A Clip166.npy      1\n",
       "S1V1C1M1A Clip18.npy       1\n",
       "S1V4C1M4A Clip241.npy      1\n",
       "S1V4C1M4A Clip239.npy      1\n",
       "S1V4C1M4A Clip245.npy      1"
      ]
     },
     "execution_count": 2,
     "metadata": {},
     "output_type": "execute_result"
    }
   ],
   "source": [
    "df = pd.read_csv(\"./Metadata/data_curated.csv\")\n",
    "df.set_index(\"File\", inplace=True)\n",
    "df.head()"
   ]
  },
  {
   "cell_type": "code",
   "execution_count": 3,
   "id": "a82d777c-f87b-499d-b809-e30ba9bf1138",
   "metadata": {},
   "outputs": [],
   "source": [
    "X_list = []\n",
    "y_list = []\n",
    "with Bar(\"Processing...\", max = df.size) as bar:\n",
    "    for file_name, class_name in df.iterrows():\n",
    "        np_element = np.load(f\"../Clean_Data/{class_name.iloc[0]}/{file_name}\").T\n",
    "        padding_element = pad_sequences(np_element,maxlen=97, padding='pre', value=0.01)\n",
    "        X_list.append(padding_element.T)#[:33,:])\n",
    "        y_list.append(class_name.iloc[0])\n",
    "        bar.next()"
   ]
  },
  {
   "cell_type": "code",
   "execution_count": 4,
   "id": "37618267-575a-4e7b-95e1-936773813465",
   "metadata": {},
   "outputs": [
    {
     "name": "stdout",
     "output_type": "stream",
     "text": [
      "97\n"
     ]
    }
   ],
   "source": [
    "min_arr = 1000\n",
    "for arr in X_list:\n",
    "    aux_arr = arr.shape[0]\n",
    "    if aux_arr < min_arr:\n",
    "        min_arr = aux_arr\n",
    "print(min_arr)"
   ]
  },
  {
   "cell_type": "code",
   "execution_count": 5,
   "id": "27246541-2e25-43a0-97c9-d37e823a351b",
   "metadata": {},
   "outputs": [
    {
     "name": "stdout",
     "output_type": "stream",
     "text": [
      "97\n"
     ]
    }
   ],
   "source": [
    "max_arr = 0\n",
    "for arr in X_list:\n",
    "    aux_arr = arr.shape[0]\n",
    "    if aux_arr > max_arr:\n",
    "        max_arr = aux_arr\n",
    "print(max_arr)"
   ]
  },
  {
   "cell_type": "code",
   "execution_count": 4,
   "id": "92535dbb-3cda-4be4-a3ac-0bafb93baf6f",
   "metadata": {},
   "outputs": [
    {
     "data": {
      "text/plain": [
       "(1662, 97)"
      ]
     },
     "execution_count": 4,
     "metadata": {},
     "output_type": "execute_result"
    }
   ],
   "source": [
    "pad_sequences(X_list[0].T, maxlen=97, padding='post').shape"
   ]
  },
  {
   "cell_type": "code",
   "execution_count": 5,
   "id": "0988bbb4-5408-4b8c-a323-a87fb30a4b39",
   "metadata": {},
   "outputs": [
    {
     "data": {
      "text/plain": [
       "(97, 1662)"
      ]
     },
     "execution_count": 5,
     "metadata": {},
     "output_type": "execute_result"
    }
   ],
   "source": [
    "X_list[0].shape"
   ]
  },
  {
   "cell_type": "code",
   "execution_count": 6,
   "id": "ab290b93-48d3-414e-9080-109e740eb69b",
   "metadata": {},
   "outputs": [],
   "source": [
    "X = np.stack(X_list)\n",
    "y = np.array(y_list)"
   ]
  },
  {
   "cell_type": "code",
   "execution_count": 7,
   "id": "b07ceb75-9417-4900-9db8-4ee666513019",
   "metadata": {},
   "outputs": [
    {
     "data": {
      "text/plain": [
       "(1500, 97, 1662)"
      ]
     },
     "execution_count": 7,
     "metadata": {},
     "output_type": "execute_result"
    }
   ],
   "source": [
    "X.shape"
   ]
  },
  {
   "cell_type": "code",
   "execution_count": 8,
   "id": "0169b89e-c051-4b9f-9019-848a13432740",
   "metadata": {},
   "outputs": [
    {
     "data": {
      "text/plain": [
       "(1500,)"
      ]
     },
     "execution_count": 8,
     "metadata": {},
     "output_type": "execute_result"
    }
   ],
   "source": [
    "y.shape"
   ]
  },
  {
   "cell_type": "markdown",
   "id": "c5e17114-dd4b-4dc2-82b3-caa56a5b0f44",
   "metadata": {},
   "source": [
    "# GaussianHMM"
   ]
  },
  {
   "cell_type": "raw",
   "id": "623f64e9-efcb-46d2-85a8-885f1fe91403",
   "metadata": {},
   "source": [
    "model = hmm.GaussianHMM(n_components=3, covariance_type=\"full\", n_iter=100)\n",
    "lengths = [33]*1500\n",
    "model.fit(X, lengths=lengths)"
   ]
  },
  {
   "cell_type": "markdown",
   "id": "9e052a39-63c9-4444-a4ef-2b178c6c870f",
   "metadata": {},
   "source": [
    "# Recurrent Neural Networks"
   ]
  },
  {
   "cell_type": "code",
   "execution_count": 9,
   "id": "18cd7a29-4fae-491e-a835-0bab58c8b755",
   "metadata": {},
   "outputs": [],
   "source": [
    "model = Sequential()\n",
    "model.add(LSTM(64, return_sequences=True, activation='relu', input_shape=(97,1662)))\n",
    "model.add(LSTM(128, return_sequences=True, activation='relu'))\n",
    "model.add(LSTM(64, return_sequences=False, activation='relu'))\n",
    "model.add(Dense(64, activation='relu'))\n",
    "model.add(Dense(32, activation='relu'))\n",
    "model.add(Dense(6, activation='softmax'))"
   ]
  },
  {
   "cell_type": "code",
   "execution_count": 10,
   "id": "359c85f2-49f2-44be-9f33-2a3436bbff46",
   "metadata": {},
   "outputs": [],
   "source": [
    "model.compile(optimizer='Adam', loss='categorical_crossentropy', metrics=['categorical_accuracy'])"
   ]
  },
  {
   "cell_type": "code",
   "execution_count": 11,
   "id": "053cfc93-fc83-4dc3-8914-098f6d7e0d10",
   "metadata": {},
   "outputs": [],
   "source": [
    "y = to_categorical(y)"
   ]
  },
  {
   "cell_type": "code",
   "execution_count": 12,
   "id": "cc13d6ec-a7d3-401e-b8f5-fd214c1311e1",
   "metadata": {},
   "outputs": [],
   "source": [
    "X_train, X_test, y_train, y_test = train_test_split(X, y, test_size=0.3)"
   ]
  },
  {
   "cell_type": "code",
   "execution_count": 13,
   "id": "f90e16ee-2240-48f3-88ec-a061298deec1",
   "metadata": {},
   "outputs": [
    {
     "data": {
      "text/plain": [
       "(450, 6)"
      ]
     },
     "execution_count": 13,
     "metadata": {},
     "output_type": "execute_result"
    }
   ],
   "source": [
    "y_test.shape"
   ]
  },
  {
   "cell_type": "code",
   "execution_count": 14,
   "id": "ff7b975f-5de3-4809-8738-3b03c2ee0f0f",
   "metadata": {},
   "outputs": [
    {
     "name": "stdout",
     "output_type": "stream",
     "text": [
      "Model: \"sequential\"\n",
      "_________________________________________________________________\n",
      " Layer (type)                Output Shape              Param #   \n",
      "=================================================================\n",
      " lstm (LSTM)                 (None, 97, 64)            442112    \n",
      "                                                                 \n",
      " lstm_1 (LSTM)               (None, 97, 128)           98816     \n",
      "                                                                 \n",
      " lstm_2 (LSTM)               (None, 64)                49408     \n",
      "                                                                 \n",
      " dense (Dense)               (None, 64)                4160      \n",
      "                                                                 \n",
      " dense_1 (Dense)             (None, 32)                2080      \n",
      "                                                                 \n",
      " dense_2 (Dense)             (None, 6)                 198       \n",
      "                                                                 \n",
      "=================================================================\n",
      "Total params: 596774 (2.28 MB)\n",
      "Trainable params: 596774 (2.28 MB)\n",
      "Non-trainable params: 0 (0.00 Byte)\n",
      "_________________________________________________________________\n"
     ]
    }
   ],
   "source": [
    "model.summary()"
   ]
  },
  {
   "cell_type": "code",
   "execution_count": 16,
   "id": "15bb6d23-fa43-4c00-8e4f-9ef3e1ed9b65",
   "metadata": {},
   "outputs": [
    {
     "name": "stderr",
     "output_type": "stream",
     "text": [
      "2023-10-24 17:23:31.019994: W tensorflow/tsl/framework/cpu_allocator_impl.cc:83] Allocation of 677098800 exceeds 10% of free system memory.\n"
     ]
    },
    {
     "name": "stdout",
     "output_type": "stream",
     "text": [
      "Epoch 1/200\n",
      "9/9 [==============================] - 9s 969ms/step - loss: 1.7334 - categorical_accuracy: 0.2248\n",
      "Epoch 2/200\n",
      "9/9 [==============================] - 9s 997ms/step - loss: 1.8674 - categorical_accuracy: 0.2019\n",
      "Epoch 3/200\n",
      "9/9 [==============================] - 11s 1s/step - loss: 1.7113 - categorical_accuracy: 0.1971\n",
      "Epoch 4/200\n",
      "9/9 [==============================] - 10s 1s/step - loss: 1.7037 - categorical_accuracy: 0.1981\n",
      "Epoch 5/200\n",
      "9/9 [==============================] - 10s 1s/step - loss: 2.2956 - categorical_accuracy: 0.2257\n",
      "Epoch 6/200\n",
      "9/9 [==============================] - 10s 1s/step - loss: 1.6897 - categorical_accuracy: 0.3057\n",
      "Epoch 7/200\n",
      "9/9 [==============================] - 10s 1s/step - loss: 1.6926 - categorical_accuracy: 0.2162\n",
      "Epoch 8/200\n",
      "9/9 [==============================] - 11s 1s/step - loss: 1.6769 - categorical_accuracy: 0.2143\n",
      "Epoch 9/200\n",
      "9/9 [==============================] - 11s 1s/step - loss: 1.6219 - categorical_accuracy: 0.2467\n",
      "Epoch 10/200\n",
      "9/9 [==============================] - 10s 1s/step - loss: 1.5865 - categorical_accuracy: 0.3733\n",
      "Epoch 11/200\n",
      "9/9 [==============================] - 11s 1s/step - loss: 1.5618 - categorical_accuracy: 0.3981\n",
      "Epoch 12/200\n",
      "9/9 [==============================] - 10s 1s/step - loss: 1.6633 - categorical_accuracy: 0.3810\n",
      "Epoch 13/200\n",
      "9/9 [==============================] - 10s 1s/step - loss: 2.5620 - categorical_accuracy: 0.3390\n",
      "Epoch 14/200\n",
      "9/9 [==============================] - 11s 1s/step - loss: 1.6784 - categorical_accuracy: 0.2390\n",
      "Epoch 15/200\n",
      "9/9 [==============================] - 11s 1s/step - loss: 1.6784 - categorical_accuracy: 0.2190\n",
      "Epoch 16/200\n",
      "9/9 [==============================] - 11s 1s/step - loss: 1.6623 - categorical_accuracy: 0.2619\n",
      "Epoch 17/200\n",
      "9/9 [==============================] - 10s 1s/step - loss: 3.9706 - categorical_accuracy: 0.2676\n",
      "Epoch 18/200\n",
      "9/9 [==============================] - 10s 1s/step - loss: 1.6357 - categorical_accuracy: 0.2333\n",
      "Epoch 19/200\n",
      "9/9 [==============================] - 10s 1s/step - loss: 2.3349 - categorical_accuracy: 0.2781\n",
      "Epoch 20/200\n",
      "9/9 [==============================] - 11s 1s/step - loss: 2.2399 - categorical_accuracy: 0.2810\n",
      "Epoch 21/200\n",
      "9/9 [==============================] - 11s 1s/step - loss: 1.6324 - categorical_accuracy: 0.2867\n",
      "Epoch 22/200\n",
      "9/9 [==============================] - 11s 1s/step - loss: 1.6273 - categorical_accuracy: 0.2952\n",
      "Epoch 23/200\n",
      "9/9 [==============================] - 11s 1s/step - loss: 1.6230 - categorical_accuracy: 0.2962\n",
      "Epoch 24/200\n",
      "9/9 [==============================] - 13s 1s/step - loss: 1.6192 - categorical_accuracy: 0.2867\n",
      "Epoch 25/200\n",
      "9/9 [==============================] - 12s 1s/step - loss: 1.6153 - categorical_accuracy: 0.2857\n",
      "Epoch 26/200\n",
      "9/9 [==============================] - 11s 1s/step - loss: 1.6114 - categorical_accuracy: 0.2857\n",
      "Epoch 27/200\n",
      "9/9 [==============================] - 12s 1s/step - loss: 1.6071 - categorical_accuracy: 0.2924\n",
      "Epoch 28/200\n",
      "9/9 [==============================] - 10s 1s/step - loss: 1.6025 - categorical_accuracy: 0.2857\n",
      "Epoch 29/200\n",
      "9/9 [==============================] - 11s 1s/step - loss: 1.5969 - categorical_accuracy: 0.2895\n",
      "Epoch 30/200\n",
      "9/9 [==============================] - 10s 1s/step - loss: 1.5977 - categorical_accuracy: 0.2924\n",
      "Epoch 31/200\n",
      "9/9 [==============================] - 10s 1s/step - loss: 1.5876 - categorical_accuracy: 0.2943\n",
      "Epoch 32/200\n",
      "9/9 [==============================] - 9s 1s/step - loss: 1.5837 - categorical_accuracy: 0.2886\n",
      "Epoch 33/200\n",
      "9/9 [==============================] - 10s 1s/step - loss: 1.5770 - categorical_accuracy: 0.2952\n",
      "Epoch 34/200\n",
      "9/9 [==============================] - 10s 1s/step - loss: 1.5671 - categorical_accuracy: 0.3057\n",
      "Epoch 35/200\n",
      "9/9 [==============================] - 9s 1s/step - loss: 1.5403 - categorical_accuracy: 0.3219\n",
      "Epoch 36/200\n",
      "9/9 [==============================] - 10s 1s/step - loss: 1.5305 - categorical_accuracy: 0.3410\n",
      "Epoch 37/200\n",
      "9/9 [==============================] - 10s 1s/step - loss: 1.5098 - categorical_accuracy: 0.3457\n",
      "Epoch 38/200\n",
      "9/9 [==============================] - 9s 1s/step - loss: 1.4932 - categorical_accuracy: 0.3448\n",
      "Epoch 39/200\n",
      "9/9 [==============================] - 10s 1s/step - loss: 1.4981 - categorical_accuracy: 0.3295\n",
      "Epoch 40/200\n",
      "9/9 [==============================] - 10s 1s/step - loss: 1.4903 - categorical_accuracy: 0.3343\n",
      "Epoch 41/200\n",
      "9/9 [==============================] - 10s 1s/step - loss: 1.4786 - categorical_accuracy: 0.3457\n",
      "Epoch 42/200\n",
      "9/9 [==============================] - 10s 1s/step - loss: 1.4612 - categorical_accuracy: 0.3543\n",
      "Epoch 43/200\n",
      "9/9 [==============================] - 10s 1s/step - loss: 4447.4033 - categorical_accuracy: 0.3181\n",
      "Epoch 44/200\n",
      "9/9 [==============================] - 10s 1s/step - loss: 567.4965 - categorical_accuracy: 0.1905\n",
      "Epoch 45/200\n",
      "9/9 [==============================] - 9s 1s/step - loss: 1135777664.0000 - categorical_accuracy: 0.2171\n",
      "Epoch 46/200\n",
      "9/9 [==============================] - 10s 1s/step - loss: 20123370.0000 - categorical_accuracy: 0.1629\n",
      "Epoch 47/200\n",
      "9/9 [==============================] - 10s 1s/step - loss: 93848848.0000 - categorical_accuracy: 0.1933\n",
      "Epoch 48/200\n",
      "9/9 [==============================] - 9s 1s/step - loss: 1682.2112 - categorical_accuracy: 0.2381\n",
      "Epoch 49/200\n",
      "9/9 [==============================] - 10s 1s/step - loss: 738.8005 - categorical_accuracy: 0.1857\n",
      "Epoch 50/200\n",
      "9/9 [==============================] - 10s 1s/step - loss: 1866.2018 - categorical_accuracy: 0.1819\n",
      "Epoch 51/200\n",
      "9/9 [==============================] - 10s 1s/step - loss: 20348.8008 - categorical_accuracy: 0.2143\n",
      "Epoch 52/200\n",
      "9/9 [==============================] - 12s 1s/step - loss: 116125.9844 - categorical_accuracy: 0.1914\n",
      "Epoch 53/200\n",
      "9/9 [==============================] - 11s 1s/step - loss: 229510.4375 - categorical_accuracy: 0.1467\n",
      "Epoch 54/200\n",
      "9/9 [==============================] - 12s 1s/step - loss: 55042.2539 - categorical_accuracy: 0.1829\n",
      "Epoch 55/200\n",
      "9/9 [==============================] - 11s 1s/step - loss: 65776.6406 - categorical_accuracy: 0.1429\n",
      "Epoch 56/200\n",
      "9/9 [==============================] - 11s 1s/step - loss: 61335.4609 - categorical_accuracy: 0.1943\n",
      "Epoch 57/200\n",
      "9/9 [==============================] - 10s 1s/step - loss: 80809.9609 - categorical_accuracy: 0.2190\n",
      "Epoch 58/200\n",
      "9/9 [==============================] - 10s 1s/step - loss: 49883.0000 - categorical_accuracy: 0.1990\n",
      "Epoch 59/200\n",
      "9/9 [==============================] - 11s 1s/step - loss: 40072.4883 - categorical_accuracy: 0.2219\n",
      "Epoch 60/200\n",
      "9/9 [==============================] - 11s 1s/step - loss: 23784.9219 - categorical_accuracy: 0.2257\n",
      "Epoch 61/200\n",
      "9/9 [==============================] - 10s 1s/step - loss: 10528.0322 - categorical_accuracy: 0.2571\n",
      "Epoch 62/200\n",
      "9/9 [==============================] - 10s 1s/step - loss: 24614.2344 - categorical_accuracy: 0.2010\n",
      "Epoch 63/200\n",
      "9/9 [==============================] - 11s 1s/step - loss: 9511.2012 - categorical_accuracy: 0.2276\n",
      "Epoch 64/200\n",
      "9/9 [==============================] - 11s 1s/step - loss: 5098.7007 - categorical_accuracy: 0.3000\n",
      "Epoch 65/200\n",
      "9/9 [==============================] - 11s 1s/step - loss: 2532.7961 - categorical_accuracy: 0.2390\n",
      "Epoch 66/200\n",
      "9/9 [==============================] - 11s 1s/step - loss: 3542.5159 - categorical_accuracy: 0.2990\n",
      "Epoch 67/200\n",
      "9/9 [==============================] - 10s 1s/step - loss: 2211.8389 - categorical_accuracy: 0.2790\n",
      "Epoch 68/200\n",
      "9/9 [==============================] - 10s 1s/step - loss: 1467.1000 - categorical_accuracy: 0.2619\n",
      "Epoch 69/200\n",
      "9/9 [==============================] - 10s 1s/step - loss: 1174.2219 - categorical_accuracy: 0.3048\n",
      "Epoch 70/200\n",
      "9/9 [==============================] - 10s 1s/step - loss: 1046.2725 - categorical_accuracy: 0.2933\n",
      "Epoch 71/200\n",
      "9/9 [==============================] - 9s 1s/step - loss: 811.3271 - categorical_accuracy: 0.2790\n",
      "Epoch 72/200\n",
      "9/9 [==============================] - 9s 1s/step - loss: 729.4504 - categorical_accuracy: 0.2733\n",
      "Epoch 73/200\n",
      "9/9 [==============================] - 10s 1s/step - loss: 569.9742 - categorical_accuracy: 0.2762\n",
      "Epoch 74/200\n",
      "9/9 [==============================] - 10s 1s/step - loss: 665.7257 - categorical_accuracy: 0.2724\n",
      "Epoch 75/200\n",
      "9/9 [==============================] - 10s 1s/step - loss: 585.7439 - categorical_accuracy: 0.2676\n",
      "Epoch 76/200\n",
      "9/9 [==============================] - 10s 1s/step - loss: 540.4660 - categorical_accuracy: 0.2943\n",
      "Epoch 77/200\n",
      "9/9 [==============================] - 10s 1s/step - loss: 3700.1716 - categorical_accuracy: 0.2400\n",
      "Epoch 78/200\n",
      "9/9 [==============================] - 10s 1s/step - loss: 2821.9600 - categorical_accuracy: 0.3133\n",
      "Epoch 79/200\n",
      "9/9 [==============================] - 9s 1s/step - loss: 2620.9290 - categorical_accuracy: 0.3190\n",
      "Epoch 80/200\n",
      "9/9 [==============================] - 10s 1s/step - loss: 2329.8682 - categorical_accuracy: 0.2714\n",
      "Epoch 81/200\n",
      "9/9 [==============================] - 10s 1s/step - loss: 1154.5973 - categorical_accuracy: 0.2724\n",
      "Epoch 82/200\n",
      "9/9 [==============================] - 10s 1s/step - loss: 1472.8817 - categorical_accuracy: 0.2638\n",
      "Epoch 83/200\n",
      "9/9 [==============================] - 10s 1s/step - loss: 707.9601 - categorical_accuracy: 0.2762\n",
      "Epoch 84/200\n",
      "9/9 [==============================] - 11s 1s/step - loss: 604.4728 - categorical_accuracy: 0.2857\n",
      "Epoch 85/200\n",
      "9/9 [==============================] - 10s 1s/step - loss: 634.1898 - categorical_accuracy: 0.3029\n",
      "Epoch 86/200\n",
      "9/9 [==============================] - 10s 1s/step - loss: 1165.6980 - categorical_accuracy: 0.3010\n",
      "Epoch 87/200\n",
      "9/9 [==============================] - 10s 1s/step - loss: 1387.7484 - categorical_accuracy: 0.3000\n",
      "Epoch 88/200\n",
      "9/9 [==============================] - 10s 1s/step - loss: 1158.4137 - categorical_accuracy: 0.2638\n",
      "Epoch 89/200\n",
      "9/9 [==============================] - 10s 1s/step - loss: 770.3683 - categorical_accuracy: 0.2800\n",
      "Epoch 90/200\n",
      "9/9 [==============================] - 10s 1s/step - loss: 748.7035 - categorical_accuracy: 0.3124\n",
      "Epoch 91/200\n",
      "9/9 [==============================] - 10s 1s/step - loss: 375.6397 - categorical_accuracy: 0.2571\n",
      "Epoch 92/200\n",
      "9/9 [==============================] - 10s 1s/step - loss: 313.9888 - categorical_accuracy: 0.2771\n",
      "Epoch 93/200\n",
      "9/9 [==============================] - 10s 1s/step - loss: 291.5743 - categorical_accuracy: 0.2781\n",
      "Epoch 94/200\n",
      "9/9 [==============================] - 10s 1s/step - loss: 213.4036 - categorical_accuracy: 0.2733\n",
      "Epoch 95/200\n",
      "9/9 [==============================] - 10s 1s/step - loss: 196.1803 - categorical_accuracy: 0.2590\n",
      "Epoch 96/200\n",
      "9/9 [==============================] - 10s 1s/step - loss: 306.1909 - categorical_accuracy: 0.2695\n",
      "Epoch 97/200\n",
      "9/9 [==============================] - 10s 1s/step - loss: 164.1952 - categorical_accuracy: 0.2724\n",
      "Epoch 98/200\n",
      "9/9 [==============================] - 10s 1s/step - loss: 314.5943 - categorical_accuracy: 0.2448\n",
      "Epoch 99/200\n",
      "9/9 [==============================] - 10s 1s/step - loss: 270.7136 - categorical_accuracy: 0.2924\n",
      "Epoch 100/200\n",
      "9/9 [==============================] - 10s 1s/step - loss: 174.7081 - categorical_accuracy: 0.2867\n",
      "Epoch 101/200\n",
      "9/9 [==============================] - 10s 1s/step - loss: 192.2957 - categorical_accuracy: 0.2638\n",
      "Epoch 102/200\n",
      "9/9 [==============================] - 11s 1s/step - loss: 238.9533 - categorical_accuracy: 0.2486\n",
      "Epoch 103/200\n",
      "9/9 [==============================] - 10s 1s/step - loss: 195.5459 - categorical_accuracy: 0.2600\n",
      "Epoch 104/200\n",
      "9/9 [==============================] - 10s 1s/step - loss: 179.9420 - categorical_accuracy: 0.2362\n",
      "Epoch 105/200\n",
      "9/9 [==============================] - 10s 1s/step - loss: 198.5508 - categorical_accuracy: 0.2467\n",
      "Epoch 106/200\n",
      "9/9 [==============================] - 10s 1s/step - loss: 550.2896 - categorical_accuracy: 0.2324\n",
      "Epoch 107/200\n",
      "9/9 [==============================] - 10s 1s/step - loss: 412.5651 - categorical_accuracy: 0.2495\n",
      "Epoch 108/200\n",
      "9/9 [==============================] - 10s 1s/step - loss: 347.9411 - categorical_accuracy: 0.2648\n",
      "Epoch 109/200\n",
      "9/9 [==============================] - 10s 1s/step - loss: 154.1783 - categorical_accuracy: 0.2495\n",
      "Epoch 110/200\n",
      "9/9 [==============================] - 11s 1s/step - loss: 325.8804 - categorical_accuracy: 0.2657\n",
      "Epoch 111/200\n",
      "9/9 [==============================] - 10s 1s/step - loss: 289.0587 - categorical_accuracy: 0.2248\n",
      "Epoch 112/200\n",
      "9/9 [==============================] - 10s 1s/step - loss: 320.9918 - categorical_accuracy: 0.2752\n",
      "Epoch 113/200\n",
      "9/9 [==============================] - 10s 1s/step - loss: 160.9961 - categorical_accuracy: 0.2352\n",
      "Epoch 114/200\n",
      "9/9 [==============================] - 10s 1s/step - loss: 150.2702 - categorical_accuracy: 0.2571\n",
      "Epoch 115/200\n",
      "9/9 [==============================] - 10s 1s/step - loss: 206.7433 - categorical_accuracy: 0.2305\n",
      "Epoch 116/200\n",
      "9/9 [==============================] - 10s 1s/step - loss: 237.9480 - categorical_accuracy: 0.2600\n",
      "Epoch 117/200\n",
      "9/9 [==============================] - 10s 1s/step - loss: 191.1338 - categorical_accuracy: 0.2381\n",
      "Epoch 118/200\n",
      "9/9 [==============================] - 11s 1s/step - loss: 290.1270 - categorical_accuracy: 0.2438\n",
      "Epoch 119/200\n",
      "9/9 [==============================] - 10s 1s/step - loss: 226.7402 - categorical_accuracy: 0.2629\n",
      "Epoch 120/200\n",
      "9/9 [==============================] - 11s 1s/step - loss: 257.8575 - categorical_accuracy: 0.2343\n",
      "Epoch 121/200\n",
      "9/9 [==============================] - 10s 1s/step - loss: 243.7926 - categorical_accuracy: 0.2886\n",
      "Epoch 122/200\n",
      "9/9 [==============================] - 11s 1s/step - loss: 193.7038 - categorical_accuracy: 0.2467\n",
      "Epoch 123/200\n",
      "9/9 [==============================] - 11s 1s/step - loss: 232.2356 - categorical_accuracy: 0.2438\n",
      "Epoch 124/200\n",
      "9/9 [==============================] - 10s 1s/step - loss: 141.9498 - categorical_accuracy: 0.2371\n",
      "Epoch 125/200\n",
      "9/9 [==============================] - 10s 1s/step - loss: 191.4428 - categorical_accuracy: 0.2695\n",
      "Epoch 126/200\n",
      "9/9 [==============================] - 10s 1s/step - loss: 145.3517 - categorical_accuracy: 0.2476\n",
      "Epoch 127/200\n",
      "9/9 [==============================] - 10s 1s/step - loss: 168.8922 - categorical_accuracy: 0.2571\n",
      "Epoch 128/200\n",
      "9/9 [==============================] - 10s 1s/step - loss: 126.4288 - categorical_accuracy: 0.2810\n",
      "Epoch 129/200\n",
      "9/9 [==============================] - 10s 1s/step - loss: 258.5881 - categorical_accuracy: 0.2429\n",
      "Epoch 130/200\n",
      "9/9 [==============================] - 10s 1s/step - loss: 248.2854 - categorical_accuracy: 0.2571\n",
      "Epoch 131/200\n",
      "9/9 [==============================] - 11s 1s/step - loss: 135.4310 - categorical_accuracy: 0.2581\n",
      "Epoch 132/200\n",
      "9/9 [==============================] - 10s 1s/step - loss: 96.8869 - categorical_accuracy: 0.2495\n",
      "Epoch 133/200\n",
      "9/9 [==============================] - 10s 1s/step - loss: 86.6046 - categorical_accuracy: 0.2486\n",
      "Epoch 134/200\n",
      "9/9 [==============================] - 10s 1s/step - loss: 89.2501 - categorical_accuracy: 0.2438\n",
      "Epoch 135/200\n",
      "9/9 [==============================] - 10s 1s/step - loss: 84.8695 - categorical_accuracy: 0.2657\n",
      "Epoch 136/200\n",
      "9/9 [==============================] - 11s 1s/step - loss: 111.6062 - categorical_accuracy: 0.2438\n",
      "Epoch 137/200\n",
      "9/9 [==============================] - 11s 1s/step - loss: 99.1041 - categorical_accuracy: 0.2390\n",
      "Epoch 138/200\n",
      "9/9 [==============================] - 11s 1s/step - loss: 105.8768 - categorical_accuracy: 0.2867\n",
      "Epoch 139/200\n",
      "9/9 [==============================] - 10s 1s/step - loss: 68.4346 - categorical_accuracy: 0.2752\n",
      "Epoch 140/200\n",
      "9/9 [==============================] - 11s 1s/step - loss: 98.5410 - categorical_accuracy: 0.2686\n",
      "Epoch 141/200\n",
      "9/9 [==============================] - 10s 1s/step - loss: 121.7730 - categorical_accuracy: 0.2762\n",
      "Epoch 142/200\n",
      "9/9 [==============================] - 10s 1s/step - loss: 87.4415 - categorical_accuracy: 0.2838\n",
      "Epoch 143/200\n",
      "9/9 [==============================] - 11s 1s/step - loss: 104.2488 - categorical_accuracy: 0.2590\n",
      "Epoch 144/200\n",
      "9/9 [==============================] - 11s 1s/step - loss: 205.3616 - categorical_accuracy: 0.2381\n",
      "Epoch 145/200\n",
      "9/9 [==============================] - 10s 1s/step - loss: 191.2320 - categorical_accuracy: 0.2610\n",
      "Epoch 146/200\n",
      "9/9 [==============================] - 10s 1s/step - loss: 257.7273 - categorical_accuracy: 0.2657\n",
      "Epoch 147/200\n",
      "9/9 [==============================] - 11s 1s/step - loss: 157.5951 - categorical_accuracy: 0.2676\n",
      "Epoch 148/200\n",
      "9/9 [==============================] - 12s 1s/step - loss: 312.5668 - categorical_accuracy: 0.2638\n",
      "Epoch 149/200\n",
      "9/9 [==============================] - 11s 1s/step - loss: 265.2942 - categorical_accuracy: 0.2610\n",
      "Epoch 150/200\n",
      "9/9 [==============================] - 10s 1s/step - loss: 121.2877 - categorical_accuracy: 0.2667\n",
      "Epoch 151/200\n",
      "9/9 [==============================] - 11s 1s/step - loss: 100.0905 - categorical_accuracy: 0.2524\n",
      "Epoch 152/200\n",
      "9/9 [==============================] - 11s 1s/step - loss: 94.7201 - categorical_accuracy: 0.2657\n",
      "Epoch 153/200\n",
      "9/9 [==============================] - 10s 1s/step - loss: 54.8406 - categorical_accuracy: 0.2724\n",
      "Epoch 154/200\n",
      "9/9 [==============================] - 11s 1s/step - loss: 73.3479 - categorical_accuracy: 0.2543\n",
      "Epoch 155/200\n",
      "9/9 [==============================] - 10s 1s/step - loss: 71.7181 - categorical_accuracy: 0.2733\n",
      "Epoch 156/200\n",
      "9/9 [==============================] - 11s 1s/step - loss: 91.1690 - categorical_accuracy: 0.2629\n",
      "Epoch 157/200\n",
      "9/9 [==============================] - 10s 1s/step - loss: 133.1394 - categorical_accuracy: 0.2457\n",
      "Epoch 158/200\n",
      "9/9 [==============================] - 10s 1s/step - loss: 80.1894 - categorical_accuracy: 0.2743\n",
      "Epoch 159/200\n",
      "9/9 [==============================] - 11s 1s/step - loss: 106.1266 - categorical_accuracy: 0.2571\n",
      "Epoch 160/200\n",
      "9/9 [==============================] - 11s 1s/step - loss: 94.1305 - categorical_accuracy: 0.2590\n",
      "Epoch 161/200\n",
      "9/9 [==============================] - 10s 1s/step - loss: 91.3757 - categorical_accuracy: 0.2286\n",
      "Epoch 162/200\n",
      "9/9 [==============================] - 11s 1s/step - loss: 86.9291 - categorical_accuracy: 0.2152\n",
      "Epoch 163/200\n",
      "9/9 [==============================] - 11s 1s/step - loss: 80.5593 - categorical_accuracy: 0.2686\n",
      "Epoch 164/200\n",
      "9/9 [==============================] - 10s 1s/step - loss: 162.4900 - categorical_accuracy: 0.2486\n",
      "Epoch 165/200\n",
      "9/9 [==============================] - 10s 1s/step - loss: 65.7357 - categorical_accuracy: 0.2695\n",
      "Epoch 166/200\n",
      "9/9 [==============================] - 10s 1s/step - loss: 70.5892 - categorical_accuracy: 0.2705\n",
      "Epoch 167/200\n",
      "9/9 [==============================] - 10s 1s/step - loss: 216.1830 - categorical_accuracy: 0.2429\n",
      "Epoch 168/200\n",
      "9/9 [==============================] - 10s 1s/step - loss: 103037.6016 - categorical_accuracy: 0.2343\n",
      "Epoch 169/200\n",
      "9/9 [==============================] - 10s 1s/step - loss: 17072.9844 - categorical_accuracy: 0.1952\n",
      "Epoch 170/200\n",
      "9/9 [==============================] - 10s 1s/step - loss: 2695.4180 - categorical_accuracy: 0.1848\n",
      "Epoch 171/200\n",
      "9/9 [==============================] - 10s 1s/step - loss: 100644.3672 - categorical_accuracy: 0.2276\n",
      "Epoch 172/200\n",
      "9/9 [==============================] - 10s 1s/step - loss: 77042.0156 - categorical_accuracy: 0.2105\n",
      "Epoch 173/200\n",
      "9/9 [==============================] - 10s 1s/step - loss: 9579.5732 - categorical_accuracy: 0.2124\n",
      "Epoch 174/200\n",
      "9/9 [==============================] - 10s 1s/step - loss: 9552.8623 - categorical_accuracy: 0.1895\n",
      "Epoch 175/200\n",
      "9/9 [==============================] - 10s 1s/step - loss: 5818.0933 - categorical_accuracy: 0.2362\n",
      "Epoch 176/200\n",
      "9/9 [==============================] - 10s 1s/step - loss: 3354.4172 - categorical_accuracy: 0.1981\n",
      "Epoch 177/200\n",
      "9/9 [==============================] - 11s 1s/step - loss: 3468.4106 - categorical_accuracy: 0.1848\n",
      "Epoch 178/200\n",
      "9/9 [==============================] - 11s 1s/step - loss: 3591.5168 - categorical_accuracy: 0.2076\n",
      "Epoch 179/200\n",
      "9/9 [==============================] - 12s 1s/step - loss: 1760.8329 - categorical_accuracy: 0.2067\n",
      "Epoch 180/200\n",
      "9/9 [==============================] - 12s 1s/step - loss: 633.2756 - categorical_accuracy: 0.2000\n",
      "Epoch 181/200\n",
      "9/9 [==============================] - 12s 1s/step - loss: 456.7357 - categorical_accuracy: 0.2038\n",
      "Epoch 182/200\n",
      "9/9 [==============================] - 12s 1s/step - loss: 646.3524 - categorical_accuracy: 0.2190\n",
      "Epoch 183/200\n",
      "9/9 [==============================] - 13s 1s/step - loss: 215.7268 - categorical_accuracy: 0.2124\n",
      "Epoch 184/200\n",
      "9/9 [==============================] - 13s 1s/step - loss: 214.7673 - categorical_accuracy: 0.1971\n",
      "Epoch 185/200\n",
      "9/9 [==============================] - 17s 2s/step - loss: 154.0325 - categorical_accuracy: 0.2000\n",
      "Epoch 186/200\n",
      "9/9 [==============================] - 16s 2s/step - loss: 157.1923 - categorical_accuracy: 0.2048\n",
      "Epoch 187/200\n",
      "9/9 [==============================] - 12s 1s/step - loss: 137.6615 - categorical_accuracy: 0.1971\n",
      "Epoch 188/200\n",
      "9/9 [==============================] - 12s 1s/step - loss: 124.9407 - categorical_accuracy: 0.1952\n",
      "Epoch 189/200\n",
      "9/9 [==============================] - 13s 1s/step - loss: 125.1879 - categorical_accuracy: 0.2076\n",
      "Epoch 190/200\n",
      "9/9 [==============================] - 12s 1s/step - loss: 116.4060 - categorical_accuracy: 0.2114\n",
      "Epoch 191/200\n",
      "9/9 [==============================] - 13s 1s/step - loss: 114.7472 - categorical_accuracy: 0.2124\n",
      "Epoch 192/200\n",
      "9/9 [==============================] - 11s 1s/step - loss: 119.2337 - categorical_accuracy: 0.2219\n",
      "Epoch 193/200\n",
      "9/9 [==============================] - 10s 1s/step - loss: 104.4684 - categorical_accuracy: 0.2229\n",
      "Epoch 194/200\n",
      "9/9 [==============================] - 10s 1s/step - loss: 100.1504 - categorical_accuracy: 0.2124\n",
      "Epoch 195/200\n",
      "9/9 [==============================] - 10s 1s/step - loss: 97.3882 - categorical_accuracy: 0.2181\n",
      "Epoch 196/200\n"
     ]
    },
    {
     "ename": "KeyboardInterrupt",
     "evalue": "",
     "output_type": "error",
     "traceback": [
      "\u001b[0;31m---------------------------------------------------------------------------\u001b[0m",
      "\u001b[0;31mKeyboardInterrupt\u001b[0m                         Traceback (most recent call last)",
      "Cell \u001b[0;32mIn[16], line 1\u001b[0m\n\u001b[0;32m----> 1\u001b[0m \u001b[43mmodel\u001b[49m\u001b[38;5;241;43m.\u001b[39;49m\u001b[43mfit\u001b[49m\u001b[43m(\u001b[49m\u001b[43mX_train\u001b[49m\u001b[43m,\u001b[49m\u001b[43m \u001b[49m\u001b[43my_train\u001b[49m\u001b[43m,\u001b[49m\u001b[43m \u001b[49m\u001b[43mepochs\u001b[49m\u001b[38;5;241;43m=\u001b[39;49m\u001b[38;5;241;43m200\u001b[39;49m\u001b[43m,\u001b[49m\u001b[43m \u001b[49m\u001b[43mbatch_size\u001b[49m\u001b[38;5;241;43m=\u001b[39;49m\u001b[38;5;241;43m128\u001b[39;49m\u001b[43m)\u001b[49m\n",
      "File \u001b[0;32m~/anaconda3/lib/python3.10/site-packages/keras/src/utils/traceback_utils.py:65\u001b[0m, in \u001b[0;36mfilter_traceback.<locals>.error_handler\u001b[0;34m(*args, **kwargs)\u001b[0m\n\u001b[1;32m     63\u001b[0m filtered_tb \u001b[38;5;241m=\u001b[39m \u001b[38;5;28;01mNone\u001b[39;00m\n\u001b[1;32m     64\u001b[0m \u001b[38;5;28;01mtry\u001b[39;00m:\n\u001b[0;32m---> 65\u001b[0m     \u001b[38;5;28;01mreturn\u001b[39;00m \u001b[43mfn\u001b[49m\u001b[43m(\u001b[49m\u001b[38;5;241;43m*\u001b[39;49m\u001b[43margs\u001b[49m\u001b[43m,\u001b[49m\u001b[43m \u001b[49m\u001b[38;5;241;43m*\u001b[39;49m\u001b[38;5;241;43m*\u001b[39;49m\u001b[43mkwargs\u001b[49m\u001b[43m)\u001b[49m\n\u001b[1;32m     66\u001b[0m \u001b[38;5;28;01mexcept\u001b[39;00m \u001b[38;5;167;01mException\u001b[39;00m \u001b[38;5;28;01mas\u001b[39;00m e:\n\u001b[1;32m     67\u001b[0m     filtered_tb \u001b[38;5;241m=\u001b[39m _process_traceback_frames(e\u001b[38;5;241m.\u001b[39m__traceback__)\n",
      "File \u001b[0;32m~/anaconda3/lib/python3.10/site-packages/keras/src/engine/training.py:1742\u001b[0m, in \u001b[0;36mModel.fit\u001b[0;34m(self, x, y, batch_size, epochs, verbose, callbacks, validation_split, validation_data, shuffle, class_weight, sample_weight, initial_epoch, steps_per_epoch, validation_steps, validation_batch_size, validation_freq, max_queue_size, workers, use_multiprocessing)\u001b[0m\n\u001b[1;32m   1734\u001b[0m \u001b[38;5;28;01mwith\u001b[39;00m tf\u001b[38;5;241m.\u001b[39mprofiler\u001b[38;5;241m.\u001b[39mexperimental\u001b[38;5;241m.\u001b[39mTrace(\n\u001b[1;32m   1735\u001b[0m     \u001b[38;5;124m\"\u001b[39m\u001b[38;5;124mtrain\u001b[39m\u001b[38;5;124m\"\u001b[39m,\n\u001b[1;32m   1736\u001b[0m     epoch_num\u001b[38;5;241m=\u001b[39mepoch,\n\u001b[0;32m   (...)\u001b[0m\n\u001b[1;32m   1739\u001b[0m     _r\u001b[38;5;241m=\u001b[39m\u001b[38;5;241m1\u001b[39m,\n\u001b[1;32m   1740\u001b[0m ):\n\u001b[1;32m   1741\u001b[0m     callbacks\u001b[38;5;241m.\u001b[39mon_train_batch_begin(step)\n\u001b[0;32m-> 1742\u001b[0m     tmp_logs \u001b[38;5;241m=\u001b[39m \u001b[38;5;28;43mself\u001b[39;49m\u001b[38;5;241;43m.\u001b[39;49m\u001b[43mtrain_function\u001b[49m\u001b[43m(\u001b[49m\u001b[43miterator\u001b[49m\u001b[43m)\u001b[49m\n\u001b[1;32m   1743\u001b[0m     \u001b[38;5;28;01mif\u001b[39;00m data_handler\u001b[38;5;241m.\u001b[39mshould_sync:\n\u001b[1;32m   1744\u001b[0m         context\u001b[38;5;241m.\u001b[39masync_wait()\n",
      "File \u001b[0;32m~/anaconda3/lib/python3.10/site-packages/tensorflow/python/util/traceback_utils.py:150\u001b[0m, in \u001b[0;36mfilter_traceback.<locals>.error_handler\u001b[0;34m(*args, **kwargs)\u001b[0m\n\u001b[1;32m    148\u001b[0m filtered_tb \u001b[38;5;241m=\u001b[39m \u001b[38;5;28;01mNone\u001b[39;00m\n\u001b[1;32m    149\u001b[0m \u001b[38;5;28;01mtry\u001b[39;00m:\n\u001b[0;32m--> 150\u001b[0m   \u001b[38;5;28;01mreturn\u001b[39;00m \u001b[43mfn\u001b[49m\u001b[43m(\u001b[49m\u001b[38;5;241;43m*\u001b[39;49m\u001b[43margs\u001b[49m\u001b[43m,\u001b[49m\u001b[43m \u001b[49m\u001b[38;5;241;43m*\u001b[39;49m\u001b[38;5;241;43m*\u001b[39;49m\u001b[43mkwargs\u001b[49m\u001b[43m)\u001b[49m\n\u001b[1;32m    151\u001b[0m \u001b[38;5;28;01mexcept\u001b[39;00m \u001b[38;5;167;01mException\u001b[39;00m \u001b[38;5;28;01mas\u001b[39;00m e:\n\u001b[1;32m    152\u001b[0m   filtered_tb \u001b[38;5;241m=\u001b[39m _process_traceback_frames(e\u001b[38;5;241m.\u001b[39m__traceback__)\n",
      "File \u001b[0;32m~/anaconda3/lib/python3.10/site-packages/tensorflow/python/eager/polymorphic_function/polymorphic_function.py:825\u001b[0m, in \u001b[0;36mFunction.__call__\u001b[0;34m(self, *args, **kwds)\u001b[0m\n\u001b[1;32m    822\u001b[0m compiler \u001b[38;5;241m=\u001b[39m \u001b[38;5;124m\"\u001b[39m\u001b[38;5;124mxla\u001b[39m\u001b[38;5;124m\"\u001b[39m \u001b[38;5;28;01mif\u001b[39;00m \u001b[38;5;28mself\u001b[39m\u001b[38;5;241m.\u001b[39m_jit_compile \u001b[38;5;28;01melse\u001b[39;00m \u001b[38;5;124m\"\u001b[39m\u001b[38;5;124mnonXla\u001b[39m\u001b[38;5;124m\"\u001b[39m\n\u001b[1;32m    824\u001b[0m \u001b[38;5;28;01mwith\u001b[39;00m OptionalXlaContext(\u001b[38;5;28mself\u001b[39m\u001b[38;5;241m.\u001b[39m_jit_compile):\n\u001b[0;32m--> 825\u001b[0m   result \u001b[38;5;241m=\u001b[39m \u001b[38;5;28;43mself\u001b[39;49m\u001b[38;5;241;43m.\u001b[39;49m\u001b[43m_call\u001b[49m\u001b[43m(\u001b[49m\u001b[38;5;241;43m*\u001b[39;49m\u001b[43margs\u001b[49m\u001b[43m,\u001b[49m\u001b[43m \u001b[49m\u001b[38;5;241;43m*\u001b[39;49m\u001b[38;5;241;43m*\u001b[39;49m\u001b[43mkwds\u001b[49m\u001b[43m)\u001b[49m\n\u001b[1;32m    827\u001b[0m new_tracing_count \u001b[38;5;241m=\u001b[39m \u001b[38;5;28mself\u001b[39m\u001b[38;5;241m.\u001b[39mexperimental_get_tracing_count()\n\u001b[1;32m    828\u001b[0m without_tracing \u001b[38;5;241m=\u001b[39m (tracing_count \u001b[38;5;241m==\u001b[39m new_tracing_count)\n",
      "File \u001b[0;32m~/anaconda3/lib/python3.10/site-packages/tensorflow/python/eager/polymorphic_function/polymorphic_function.py:857\u001b[0m, in \u001b[0;36mFunction._call\u001b[0;34m(self, *args, **kwds)\u001b[0m\n\u001b[1;32m    854\u001b[0m   \u001b[38;5;28mself\u001b[39m\u001b[38;5;241m.\u001b[39m_lock\u001b[38;5;241m.\u001b[39mrelease()\n\u001b[1;32m    855\u001b[0m   \u001b[38;5;66;03m# In this case we have created variables on the first call, so we run the\u001b[39;00m\n\u001b[1;32m    856\u001b[0m   \u001b[38;5;66;03m# defunned version which is guaranteed to never create variables.\u001b[39;00m\n\u001b[0;32m--> 857\u001b[0m   \u001b[38;5;28;01mreturn\u001b[39;00m \u001b[38;5;28;43mself\u001b[39;49m\u001b[38;5;241;43m.\u001b[39;49m\u001b[43m_no_variable_creation_fn\u001b[49m\u001b[43m(\u001b[49m\u001b[38;5;241;43m*\u001b[39;49m\u001b[43margs\u001b[49m\u001b[43m,\u001b[49m\u001b[43m \u001b[49m\u001b[38;5;241;43m*\u001b[39;49m\u001b[38;5;241;43m*\u001b[39;49m\u001b[43mkwds\u001b[49m\u001b[43m)\u001b[49m  \u001b[38;5;66;03m# pylint: disable=not-callable\u001b[39;00m\n\u001b[1;32m    858\u001b[0m \u001b[38;5;28;01melif\u001b[39;00m \u001b[38;5;28mself\u001b[39m\u001b[38;5;241m.\u001b[39m_variable_creation_fn \u001b[38;5;129;01mis\u001b[39;00m \u001b[38;5;129;01mnot\u001b[39;00m \u001b[38;5;28;01mNone\u001b[39;00m:\n\u001b[1;32m    859\u001b[0m   \u001b[38;5;66;03m# Release the lock early so that multiple threads can perform the call\u001b[39;00m\n\u001b[1;32m    860\u001b[0m   \u001b[38;5;66;03m# in parallel.\u001b[39;00m\n\u001b[1;32m    861\u001b[0m   \u001b[38;5;28mself\u001b[39m\u001b[38;5;241m.\u001b[39m_lock\u001b[38;5;241m.\u001b[39mrelease()\n",
      "File \u001b[0;32m~/anaconda3/lib/python3.10/site-packages/tensorflow/python/eager/polymorphic_function/tracing_compiler.py:148\u001b[0m, in \u001b[0;36mTracingCompiler.__call__\u001b[0;34m(self, *args, **kwargs)\u001b[0m\n\u001b[1;32m    145\u001b[0m \u001b[38;5;28;01mwith\u001b[39;00m \u001b[38;5;28mself\u001b[39m\u001b[38;5;241m.\u001b[39m_lock:\n\u001b[1;32m    146\u001b[0m   (concrete_function,\n\u001b[1;32m    147\u001b[0m    filtered_flat_args) \u001b[38;5;241m=\u001b[39m \u001b[38;5;28mself\u001b[39m\u001b[38;5;241m.\u001b[39m_maybe_define_function(args, kwargs)\n\u001b[0;32m--> 148\u001b[0m \u001b[38;5;28;01mreturn\u001b[39;00m \u001b[43mconcrete_function\u001b[49m\u001b[38;5;241;43m.\u001b[39;49m\u001b[43m_call_flat\u001b[49m\u001b[43m(\u001b[49m\n\u001b[1;32m    149\u001b[0m \u001b[43m    \u001b[49m\u001b[43mfiltered_flat_args\u001b[49m\u001b[43m,\u001b[49m\u001b[43m \u001b[49m\u001b[43mcaptured_inputs\u001b[49m\u001b[38;5;241;43m=\u001b[39;49m\u001b[43mconcrete_function\u001b[49m\u001b[38;5;241;43m.\u001b[39;49m\u001b[43mcaptured_inputs\u001b[49m\u001b[43m)\u001b[49m\n",
      "File \u001b[0;32m~/anaconda3/lib/python3.10/site-packages/tensorflow/python/eager/polymorphic_function/monomorphic_function.py:1349\u001b[0m, in \u001b[0;36mConcreteFunction._call_flat\u001b[0;34m(self, args, captured_inputs)\u001b[0m\n\u001b[1;32m   1345\u001b[0m possible_gradient_type \u001b[38;5;241m=\u001b[39m gradients_util\u001b[38;5;241m.\u001b[39mPossibleTapeGradientTypes(args)\n\u001b[1;32m   1346\u001b[0m \u001b[38;5;28;01mif\u001b[39;00m (possible_gradient_type \u001b[38;5;241m==\u001b[39m gradients_util\u001b[38;5;241m.\u001b[39mPOSSIBLE_GRADIENT_TYPES_NONE\n\u001b[1;32m   1347\u001b[0m     \u001b[38;5;129;01mand\u001b[39;00m executing_eagerly):\n\u001b[1;32m   1348\u001b[0m   \u001b[38;5;66;03m# No tape is watching; skip to running the function.\u001b[39;00m\n\u001b[0;32m-> 1349\u001b[0m   \u001b[38;5;28;01mreturn\u001b[39;00m \u001b[38;5;28mself\u001b[39m\u001b[38;5;241m.\u001b[39m_build_call_outputs(\u001b[38;5;28;43mself\u001b[39;49m\u001b[38;5;241;43m.\u001b[39;49m\u001b[43m_inference_function\u001b[49m\u001b[43m(\u001b[49m\u001b[38;5;241;43m*\u001b[39;49m\u001b[43margs\u001b[49m\u001b[43m)\u001b[49m)\n\u001b[1;32m   1350\u001b[0m forward_backward \u001b[38;5;241m=\u001b[39m \u001b[38;5;28mself\u001b[39m\u001b[38;5;241m.\u001b[39m_select_forward_and_backward_functions(\n\u001b[1;32m   1351\u001b[0m     args,\n\u001b[1;32m   1352\u001b[0m     possible_gradient_type,\n\u001b[1;32m   1353\u001b[0m     executing_eagerly)\n\u001b[1;32m   1354\u001b[0m forward_function, args_with_tangents \u001b[38;5;241m=\u001b[39m forward_backward\u001b[38;5;241m.\u001b[39mforward()\n",
      "File \u001b[0;32m~/anaconda3/lib/python3.10/site-packages/tensorflow/python/eager/polymorphic_function/atomic_function.py:196\u001b[0m, in \u001b[0;36mAtomicFunction.__call__\u001b[0;34m(self, *args)\u001b[0m\n\u001b[1;32m    194\u001b[0m \u001b[38;5;28;01mwith\u001b[39;00m record\u001b[38;5;241m.\u001b[39mstop_recording():\n\u001b[1;32m    195\u001b[0m   \u001b[38;5;28;01mif\u001b[39;00m \u001b[38;5;28mself\u001b[39m\u001b[38;5;241m.\u001b[39m_bound_context\u001b[38;5;241m.\u001b[39mexecuting_eagerly():\n\u001b[0;32m--> 196\u001b[0m     outputs \u001b[38;5;241m=\u001b[39m \u001b[38;5;28;43mself\u001b[39;49m\u001b[38;5;241;43m.\u001b[39;49m\u001b[43m_bound_context\u001b[49m\u001b[38;5;241;43m.\u001b[39;49m\u001b[43mcall_function\u001b[49m\u001b[43m(\u001b[49m\n\u001b[1;32m    197\u001b[0m \u001b[43m        \u001b[49m\u001b[38;5;28;43mself\u001b[39;49m\u001b[38;5;241;43m.\u001b[39;49m\u001b[43mname\u001b[49m\u001b[43m,\u001b[49m\n\u001b[1;32m    198\u001b[0m \u001b[43m        \u001b[49m\u001b[38;5;28;43mlist\u001b[39;49m\u001b[43m(\u001b[49m\u001b[43margs\u001b[49m\u001b[43m)\u001b[49m\u001b[43m,\u001b[49m\n\u001b[1;32m    199\u001b[0m \u001b[43m        \u001b[49m\u001b[38;5;28;43mlen\u001b[39;49m\u001b[43m(\u001b[49m\u001b[38;5;28;43mself\u001b[39;49m\u001b[38;5;241;43m.\u001b[39;49m\u001b[43mfunction_type\u001b[49m\u001b[38;5;241;43m.\u001b[39;49m\u001b[43mflat_outputs\u001b[49m\u001b[43m)\u001b[49m\u001b[43m,\u001b[49m\n\u001b[1;32m    200\u001b[0m \u001b[43m    \u001b[49m\u001b[43m)\u001b[49m\n\u001b[1;32m    201\u001b[0m   \u001b[38;5;28;01melse\u001b[39;00m:\n\u001b[1;32m    202\u001b[0m     outputs \u001b[38;5;241m=\u001b[39m make_call_op_in_graph(\u001b[38;5;28mself\u001b[39m, \u001b[38;5;28mlist\u001b[39m(args))\n",
      "File \u001b[0;32m~/anaconda3/lib/python3.10/site-packages/tensorflow/python/eager/context.py:1457\u001b[0m, in \u001b[0;36mContext.call_function\u001b[0;34m(self, name, tensor_inputs, num_outputs)\u001b[0m\n\u001b[1;32m   1455\u001b[0m cancellation_context \u001b[38;5;241m=\u001b[39m cancellation\u001b[38;5;241m.\u001b[39mcontext()\n\u001b[1;32m   1456\u001b[0m \u001b[38;5;28;01mif\u001b[39;00m cancellation_context \u001b[38;5;129;01mis\u001b[39;00m \u001b[38;5;28;01mNone\u001b[39;00m:\n\u001b[0;32m-> 1457\u001b[0m   outputs \u001b[38;5;241m=\u001b[39m \u001b[43mexecute\u001b[49m\u001b[38;5;241;43m.\u001b[39;49m\u001b[43mexecute\u001b[49m\u001b[43m(\u001b[49m\n\u001b[1;32m   1458\u001b[0m \u001b[43m      \u001b[49m\u001b[43mname\u001b[49m\u001b[38;5;241;43m.\u001b[39;49m\u001b[43mdecode\u001b[49m\u001b[43m(\u001b[49m\u001b[38;5;124;43m\"\u001b[39;49m\u001b[38;5;124;43mutf-8\u001b[39;49m\u001b[38;5;124;43m\"\u001b[39;49m\u001b[43m)\u001b[49m\u001b[43m,\u001b[49m\n\u001b[1;32m   1459\u001b[0m \u001b[43m      \u001b[49m\u001b[43mnum_outputs\u001b[49m\u001b[38;5;241;43m=\u001b[39;49m\u001b[43mnum_outputs\u001b[49m\u001b[43m,\u001b[49m\n\u001b[1;32m   1460\u001b[0m \u001b[43m      \u001b[49m\u001b[43minputs\u001b[49m\u001b[38;5;241;43m=\u001b[39;49m\u001b[43mtensor_inputs\u001b[49m\u001b[43m,\u001b[49m\n\u001b[1;32m   1461\u001b[0m \u001b[43m      \u001b[49m\u001b[43mattrs\u001b[49m\u001b[38;5;241;43m=\u001b[39;49m\u001b[43mattrs\u001b[49m\u001b[43m,\u001b[49m\n\u001b[1;32m   1462\u001b[0m \u001b[43m      \u001b[49m\u001b[43mctx\u001b[49m\u001b[38;5;241;43m=\u001b[39;49m\u001b[38;5;28;43mself\u001b[39;49m\u001b[43m,\u001b[49m\n\u001b[1;32m   1463\u001b[0m \u001b[43m  \u001b[49m\u001b[43m)\u001b[49m\n\u001b[1;32m   1464\u001b[0m \u001b[38;5;28;01melse\u001b[39;00m:\n\u001b[1;32m   1465\u001b[0m   outputs \u001b[38;5;241m=\u001b[39m execute\u001b[38;5;241m.\u001b[39mexecute_with_cancellation(\n\u001b[1;32m   1466\u001b[0m       name\u001b[38;5;241m.\u001b[39mdecode(\u001b[38;5;124m\"\u001b[39m\u001b[38;5;124mutf-8\u001b[39m\u001b[38;5;124m\"\u001b[39m),\n\u001b[1;32m   1467\u001b[0m       num_outputs\u001b[38;5;241m=\u001b[39mnum_outputs,\n\u001b[0;32m   (...)\u001b[0m\n\u001b[1;32m   1471\u001b[0m       cancellation_manager\u001b[38;5;241m=\u001b[39mcancellation_context,\n\u001b[1;32m   1472\u001b[0m   )\n",
      "File \u001b[0;32m~/anaconda3/lib/python3.10/site-packages/tensorflow/python/eager/execute.py:53\u001b[0m, in \u001b[0;36mquick_execute\u001b[0;34m(op_name, num_outputs, inputs, attrs, ctx, name)\u001b[0m\n\u001b[1;32m     51\u001b[0m \u001b[38;5;28;01mtry\u001b[39;00m:\n\u001b[1;32m     52\u001b[0m   ctx\u001b[38;5;241m.\u001b[39mensure_initialized()\n\u001b[0;32m---> 53\u001b[0m   tensors \u001b[38;5;241m=\u001b[39m \u001b[43mpywrap_tfe\u001b[49m\u001b[38;5;241;43m.\u001b[39;49m\u001b[43mTFE_Py_Execute\u001b[49m\u001b[43m(\u001b[49m\u001b[43mctx\u001b[49m\u001b[38;5;241;43m.\u001b[39;49m\u001b[43m_handle\u001b[49m\u001b[43m,\u001b[49m\u001b[43m \u001b[49m\u001b[43mdevice_name\u001b[49m\u001b[43m,\u001b[49m\u001b[43m \u001b[49m\u001b[43mop_name\u001b[49m\u001b[43m,\u001b[49m\n\u001b[1;32m     54\u001b[0m \u001b[43m                                      \u001b[49m\u001b[43minputs\u001b[49m\u001b[43m,\u001b[49m\u001b[43m \u001b[49m\u001b[43mattrs\u001b[49m\u001b[43m,\u001b[49m\u001b[43m \u001b[49m\u001b[43mnum_outputs\u001b[49m\u001b[43m)\u001b[49m\n\u001b[1;32m     55\u001b[0m \u001b[38;5;28;01mexcept\u001b[39;00m core\u001b[38;5;241m.\u001b[39m_NotOkStatusException \u001b[38;5;28;01mas\u001b[39;00m e:\n\u001b[1;32m     56\u001b[0m   \u001b[38;5;28;01mif\u001b[39;00m name \u001b[38;5;129;01mis\u001b[39;00m \u001b[38;5;129;01mnot\u001b[39;00m \u001b[38;5;28;01mNone\u001b[39;00m:\n",
      "\u001b[0;31mKeyboardInterrupt\u001b[0m: "
     ]
    }
   ],
   "source": [
    "model.fit(X_train, y_train, epochs=200, batch_size=128)"
   ]
  },
  {
   "cell_type": "code",
   "execution_count": 34,
   "id": "73a775c0-abab-448e-b8be-88063ad94a6e",
   "metadata": {},
   "outputs": [
    {
     "name": "stderr",
     "output_type": "stream",
     "text": [
      "2023-10-23 11:35:26.007860: W tensorflow/tsl/framework/cpu_allocator_impl.cc:83] Allocation of 98722800 exceeds 10% of free system memory.\n"
     ]
    },
    {
     "name": "stdout",
     "output_type": "stream",
     "text": [
      "15/15 [==============================] - 1s 66ms/step\n"
     ]
    }
   ],
   "source": [
    "y_pred = model.predict(X_test)"
   ]
  },
  {
   "cell_type": "code",
   "execution_count": 35,
   "id": "9cb96bab-5148-4b35-9cbe-4d80d644ca38",
   "metadata": {},
   "outputs": [],
   "source": [
    "y_pred = np.argmax(y_pred, axis=1).tolist()"
   ]
  },
  {
   "cell_type": "code",
   "execution_count": 36,
   "id": "6012f4b5-67d7-46bc-8e64-c1f959a06bfd",
   "metadata": {},
   "outputs": [],
   "source": [
    "y_true = np.argmax(y_test, axis=1).tolist()"
   ]
  },
  {
   "cell_type": "code",
   "execution_count": 72,
   "id": "9839ad9f-a234-4fc7-a2e2-958819131aba",
   "metadata": {},
   "outputs": [],
   "source": [
    "from sklearn.metrics import multilabel_confusion_matrix, accuracy_score,ConfusionMatrixDisplay, confusion_matrix"
   ]
  },
  {
   "cell_type": "code",
   "execution_count": 80,
   "id": "e76600d4-93c7-4f59-a09c-c1f526e2b06e",
   "metadata": {},
   "outputs": [],
   "source": [
    "confusion_matrices = confusion_matrix(y_true, y_pred,labels=np.unique(y_pred), normalize='true')"
   ]
  },
  {
   "cell_type": "code",
   "execution_count": 81,
   "id": "54383999-5c63-413c-9471-7f9fb6552863",
   "metadata": {},
   "outputs": [
    {
     "data": {
      "text/plain": [
       "array([[0.98979592, 0.        , 0.01020408, 0.        , 0.        ],\n",
       "       [0.        , 1.        , 0.        , 0.        , 0.        ],\n",
       "       [0.01149425, 0.        , 0.98850575, 0.        , 0.        ],\n",
       "       [0.        , 0.        , 0.        , 0.97727273, 0.02272727],\n",
       "       [0.01162791, 0.01162791, 0.01162791, 0.02325581, 0.94186047]])"
      ]
     },
     "execution_count": 81,
     "metadata": {},
     "output_type": "execute_result"
    }
   ],
   "source": [
    "confusion_matrices"
   ]
  },
  {
   "cell_type": "code",
   "execution_count": 82,
   "id": "7b7fb0dc-1baf-4432-8c02-300125e6864b",
   "metadata": {},
   "outputs": [
    {
     "data": {
      "text/plain": [
       "<sklearn.metrics._plot.confusion_matrix.ConfusionMatrixDisplay at 0x7fdc9a8f5090>"
      ]
     },
     "execution_count": 82,
     "metadata": {},
     "output_type": "execute_result"
    },
    {
     "data": {
      "image/png": "[encoded data removed]",
      "text/plain": [
       "<Figure size 640x480 with 2 Axes>"
      ]
     },
     "metadata": {},
     "output_type": "display_data"
    }
   ],
   "source": [
    "disp = ConfusionMatrixDisplay(confusion_matrices, display_labels=np.unique(y_pred))\n",
    "disp.plot()"
   ]
  },
  {
   "cell_type": "code",
   "execution_count": null,
   "id": "f2047f6c-c67d-4574-a7d7-553a1e4b01c7",
   "metadata": {},
   "outputs": [],
   "source": []
  }
 ],
 "metadata": {
  "kernelspec": {
   "display_name": "Python 3 (ipykernel)",
   "language": "python",
   "name": "python3"
  },
  "language_info": {
   "codemirror_mode": {
    "name": "ipython",
    "version": 3
   },
   "file_extension": ".py",
   "mimetype": "text/x-python",
   "name": "python",
   "nbconvert_exporter": "python",
   "pygments_lexer": "ipython3",
   "version": "3.10.9"
  }
 },
 "nbformat": 4,
 "nbformat_minor": 5
}
