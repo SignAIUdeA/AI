{
 "cells": [
  {
   "cell_type": "markdown",
   "id": "47c46c3e-59bb-4d18-a4d9-31bed86fa2b6",
   "metadata": {},
   "source": [
    "# First Iteration with Recurrent Neural Networks and Post Padding"
   ]
  },
  {
   "cell_type": "code",
   "execution_count": 6,
   "id": "c235c84e-96df-4c9c-af66-4c495812b9b4",
   "metadata": {},
   "outputs": [],
   "source": [
    "import pandas as pd\n",
    "import numpy as np\n",
    "from progress.bar import Bar\n",
    "#from hmmlearn import hmm\n",
    "from sklearn.model_selection import train_test_split\n",
    "from tensorflow.keras.models import Sequential\n",
    "from tensorflow.keras.layers import LSTM, Dense\n",
    "from tensorflow.keras.utils import to_categorical, pad_sequences"
   ]
  },
  {
   "cell_type": "code",
   "execution_count": 2,
   "id": "16c960a1-e3e9-4203-aaa9-ecbb7bb9db51",
   "metadata": {},
   "outputs": [
    {
     "data": {
      "text/html": [
       "<div>\n",
       "<style scoped>\n",
       "    .dataframe tbody tr th:only-of-type {\n",
       "        vertical-align: middle;\n",
       "    }\n",
       "\n",
       "    .dataframe tbody tr th {\n",
       "        vertical-align: top;\n",
       "    }\n",
       "\n",
       "    .dataframe thead th {\n",
       "        text-align: right;\n",
       "    }\n",
       "</style>\n",
       "<table border=\"1\" class=\"dataframe\">\n",
       "  <thead>\n",
       "    <tr style=\"text-align: right;\">\n",
       "      <th></th>\n",
       "      <th>Class</th>\n",
       "    </tr>\n",
       "    <tr>\n",
       "      <th>File</th>\n",
       "      <th></th>\n",
       "    </tr>\n",
       "  </thead>\n",
       "  <tbody>\n",
       "    <tr>\n",
       "      <th>S1V3C1M3A Clip166.npy</th>\n",
       "      <td>1</td>\n",
       "    </tr>\n",
       "    <tr>\n",
       "      <th>S1V1C1M1A Clip18.npy</th>\n",
       "      <td>1</td>\n",
       "    </tr>\n",
       "    <tr>\n",
       "      <th>S1V4C1M4A Clip241.npy</th>\n",
       "      <td>1</td>\n",
       "    </tr>\n",
       "    <tr>\n",
       "      <th>S1V4C1M4A Clip239.npy</th>\n",
       "      <td>1</td>\n",
       "    </tr>\n",
       "    <tr>\n",
       "      <th>S1V4C1M4A Clip245.npy</th>\n",
       "      <td>1</td>\n",
       "    </tr>\n",
       "  </tbody>\n",
       "</table>\n",
       "</div>"
      ],
      "text/plain": [
       "                       Class\n",
       "File                        \n",
       "S1V3C1M3A Clip166.npy      1\n",
       "S1V1C1M1A Clip18.npy       1\n",
       "S1V4C1M4A Clip241.npy      1\n",
       "S1V4C1M4A Clip239.npy      1\n",
       "S1V4C1M4A Clip245.npy      1"
      ]
     },
     "execution_count": 2,
     "metadata": {},
     "output_type": "execute_result"
    }
   ],
   "source": [
    "df = pd.read_csv(\"./Metadata/data_curated.csv\")\n",
    "df.set_index(\"File\", inplace=True)\n",
    "df.head()"
   ]
  },
  {
   "cell_type": "code",
   "execution_count": 62,
   "id": "a82d777c-f87b-499d-b809-e30ba9bf1138",
   "metadata": {},
   "outputs": [],
   "source": [
    "X_list = []\n",
    "y_list = []\n",
    "with Bar(\"Processing...\", max = df.size) as bar:\n",
    "    for file_name, class_name in df.iterrows():\n",
    "        np_element = np.load(f\"../Clean_Data/{class_name.iloc[0]}/{file_name}\").T\n",
    "        padding_element = pad_sequences(np_element,maxlen=97, padding='post', value=0.01)\n",
    "        X_list.append(padding_element.T)#[:33,:])\n",
    "        y_list.append(class_name.iloc[0])\n",
    "        bar.next()"
   ]
  },
  {
   "cell_type": "code",
   "execution_count": 49,
   "id": "37618267-575a-4e7b-95e1-936773813465",
   "metadata": {},
   "outputs": [
    {
     "name": "stdout",
     "output_type": "stream",
     "text": [
      "97\n"
     ]
    }
   ],
   "source": [
    "min_arr = 1000\n",
    "for arr in X_list:\n",
    "    aux_arr = arr.shape[0]\n",
    "    if aux_arr < min_arr:\n",
    "        min_arr = aux_arr\n",
    "print(min_arr)"
   ]
  },
  {
   "cell_type": "code",
   "execution_count": 50,
   "id": "27246541-2e25-43a0-97c9-d37e823a351b",
   "metadata": {},
   "outputs": [
    {
     "name": "stdout",
     "output_type": "stream",
     "text": [
      "97\n"
     ]
    }
   ],
   "source": [
    "max_arr = 0\n",
    "for arr in X_list:\n",
    "    aux_arr = arr.shape[0]\n",
    "    if aux_arr > max_arr:\n",
    "        max_arr = aux_arr\n",
    "print(max_arr)"
   ]
  },
  {
   "cell_type": "code",
   "execution_count": 63,
   "id": "92535dbb-3cda-4be4-a3ac-0bafb93baf6f",
   "metadata": {},
   "outputs": [
    {
     "data": {
      "text/plain": [
       "(1662, 97)"
      ]
     },
     "execution_count": 63,
     "metadata": {},
     "output_type": "execute_result"
    }
   ],
   "source": [
    "pad_sequences(X_list[0].T, maxlen=97, padding='post').shape"
   ]
  },
  {
   "cell_type": "code",
   "execution_count": 64,
   "id": "0988bbb4-5408-4b8c-a323-a87fb30a4b39",
   "metadata": {},
   "outputs": [
    {
     "data": {
      "text/plain": [
       "(97, 1662)"
      ]
     },
     "execution_count": 64,
     "metadata": {},
     "output_type": "execute_result"
    }
   ],
   "source": [
    "X_list[0].shape"
   ]
  },
  {
   "cell_type": "code",
   "execution_count": 65,
   "id": "ab290b93-48d3-414e-9080-109e740eb69b",
   "metadata": {},
   "outputs": [],
   "source": [
    "X = np.stack(X_list)\n",
    "y = np.array(y_list)"
   ]
  },
  {
   "cell_type": "code",
   "execution_count": 66,
   "id": "b07ceb75-9417-4900-9db8-4ee666513019",
   "metadata": {},
   "outputs": [
    {
     "data": {
      "text/plain": [
       "(1500, 97, 1662)"
      ]
     },
     "execution_count": 66,
     "metadata": {},
     "output_type": "execute_result"
    }
   ],
   "source": [
    "X.shape"
   ]
  },
  {
   "cell_type": "code",
   "execution_count": 67,
   "id": "0169b89e-c051-4b9f-9019-848a13432740",
   "metadata": {},
   "outputs": [
    {
     "data": {
      "text/plain": [
       "(1500,)"
      ]
     },
     "execution_count": 67,
     "metadata": {},
     "output_type": "execute_result"
    }
   ],
   "source": [
    "y.shape"
   ]
  },
  {
   "cell_type": "markdown",
   "id": "c5e17114-dd4b-4dc2-82b3-caa56a5b0f44",
   "metadata": {},
   "source": [
    "# GaussianHMM"
   ]
  },
  {
   "cell_type": "raw",
   "id": "623f64e9-efcb-46d2-85a8-885f1fe91403",
   "metadata": {},
   "source": [
    "model = hmm.GaussianHMM(n_components=3, covariance_type=\"full\", n_iter=100)\n",
    "lengths = [33]*1500\n",
    "model.fit(X, lengths=lengths)"
   ]
  },
  {
   "cell_type": "markdown",
   "id": "9e052a39-63c9-4444-a4ef-2b178c6c870f",
   "metadata": {},
   "source": [
    "# Recurrent Neural Networks"
   ]
  },
  {
   "cell_type": "code",
   "execution_count": 68,
   "id": "18cd7a29-4fae-491e-a835-0bab58c8b755",
   "metadata": {},
   "outputs": [],
   "source": [
    "model = Sequential()\n",
    "model.add(LSTM(64, return_sequences=True, activation='relu', input_shape=(97,1662)))\n",
    "model.add(LSTM(128, return_sequences=True, activation='relu'))\n",
    "model.add(LSTM(64, return_sequences=False, activation='relu'))\n",
    "model.add(Dense(64, activation='relu'))\n",
    "model.add(Dense(32, activation='relu'))\n",
    "model.add(Dense(6, activation='softmax'))"
   ]
  },
  {
   "cell_type": "code",
   "execution_count": 69,
   "id": "359c85f2-49f2-44be-9f33-2a3436bbff46",
   "metadata": {},
   "outputs": [],
   "source": [
    "model.compile(optimizer='Adam', loss='categorical_crossentropy', metrics=['categorical_accuracy'])"
   ]
  },
  {
   "cell_type": "code",
   "execution_count": 70,
   "id": "053cfc93-fc83-4dc3-8914-098f6d7e0d10",
   "metadata": {},
   "outputs": [],
   "source": [
    "y = to_categorical(y)"
   ]
  },
  {
   "cell_type": "code",
   "execution_count": 71,
   "id": "cc13d6ec-a7d3-401e-b8f5-fd214c1311e1",
   "metadata": {},
   "outputs": [],
   "source": [
    "X_train, X_test, y_train, y_test = train_test_split(X, y, test_size=0.3)"
   ]
  },
  {
   "cell_type": "code",
   "execution_count": 72,
   "id": "f90e16ee-2240-48f3-88ec-a061298deec1",
   "metadata": {},
   "outputs": [
    {
     "data": {
      "text/plain": [
       "(450, 6)"
      ]
     },
     "execution_count": 72,
     "metadata": {},
     "output_type": "execute_result"
    }
   ],
   "source": [
    "y_test.shape"
   ]
  },
  {
   "cell_type": "code",
   "execution_count": 73,
   "id": "ff7b975f-5de3-4809-8738-3b03c2ee0f0f",
   "metadata": {},
   "outputs": [
    {
     "name": "stdout",
     "output_type": "stream",
     "text": [
      "Model: \"sequential_1\"\n",
      "_________________________________________________________________\n",
      " Layer (type)                Output Shape              Param #   \n",
      "=================================================================\n",
      " lstm_3 (LSTM)               (None, 97, 64)            442112    \n",
      "                                                                 \n",
      " lstm_4 (LSTM)               (None, 97, 128)           98816     \n",
      "                                                                 \n",
      " lstm_5 (LSTM)               (None, 64)                49408     \n",
      "                                                                 \n",
      " dense_3 (Dense)             (None, 64)                4160      \n",
      "                                                                 \n",
      " dense_4 (Dense)             (None, 32)                2080      \n",
      "                                                                 \n",
      " dense_5 (Dense)             (None, 6)                 198       \n",
      "                                                                 \n",
      "=================================================================\n",
      "Total params: 596774 (2.28 MB)\n",
      "Trainable params: 596774 (2.28 MB)\n",
      "Non-trainable params: 0 (0.00 Byte)\n",
      "_________________________________________________________________\n"
     ]
    }
   ],
   "source": [
    "model.summary()"
   ]
  },
  {
   "cell_type": "code",
   "execution_count": 74,
   "id": "15bb6d23-fa43-4c00-8e4f-9ef3e1ed9b65",
   "metadata": {},
   "outputs": [
    {
     "name": "stdout",
     "output_type": "stream",
     "text": [
      "Epoch 1/50\n",
      "9/9 [==============================] - 22s 1s/step - loss: 1.7883 - categorical_accuracy: 0.2000\n",
      "Epoch 2/50\n",
      "9/9 [==============================] - 12s 1s/step - loss: 1.7783 - categorical_accuracy: 0.2019\n",
      "Epoch 3/50\n",
      "9/9 [==============================] - 12s 1s/step - loss: 34748.0859 - categorical_accuracy: 0.1848\n",
      "Epoch 4/50\n",
      "9/9 [==============================] - 12s 1s/step - loss: 3.9027 - categorical_accuracy: 0.2267\n",
      "Epoch 5/50\n",
      "9/9 [==============================] - 12s 1s/step - loss: 1.7448 - categorical_accuracy: 0.2114\n",
      "Epoch 6/50\n",
      "9/9 [==============================] - 12s 1s/step - loss: 1.7402 - categorical_accuracy: 0.2010\n",
      "Epoch 7/50\n",
      "9/9 [==============================] - 11s 1s/step - loss: 1.7344 - categorical_accuracy: 0.2010\n",
      "Epoch 8/50\n",
      "9/9 [==============================] - 11s 1s/step - loss: 1.7289 - categorical_accuracy: 0.2038\n",
      "Epoch 9/50\n",
      "9/9 [==============================] - 12s 1s/step - loss: 1.7235 - categorical_accuracy: 0.2086\n",
      "Epoch 10/50\n",
      "9/9 [==============================] - 11s 1s/step - loss: 1.7186 - categorical_accuracy: 0.2124\n",
      "Epoch 11/50\n",
      "9/9 [==============================] - 10s 1s/step - loss: 1.7140 - categorical_accuracy: 0.2181\n",
      "Epoch 12/50\n",
      "9/9 [==============================] - 11s 1s/step - loss: 1.7096 - categorical_accuracy: 0.2105\n",
      "Epoch 13/50\n",
      "9/9 [==============================] - 12s 1s/step - loss: 1.7055 - categorical_accuracy: 0.2067\n",
      "Epoch 14/50\n",
      "9/9 [==============================] - 12s 1s/step - loss: 1.7015 - categorical_accuracy: 0.2038\n",
      "Epoch 15/50\n",
      "9/9 [==============================] - 11s 1s/step - loss: 1.6967 - categorical_accuracy: 0.2019\n",
      "Epoch 16/50\n",
      "9/9 [==============================] - 10s 1s/step - loss: 1.6933 - categorical_accuracy: 0.2000\n",
      "Epoch 17/50\n",
      "9/9 [==============================] - 10s 1s/step - loss: 1.6911 - categorical_accuracy: 0.2000\n",
      "Epoch 18/50\n",
      "9/9 [==============================] - 10s 1s/step - loss: 1.6878 - categorical_accuracy: 0.2000\n",
      "Epoch 19/50\n",
      "9/9 [==============================] - 11s 1s/step - loss: 1.6841 - categorical_accuracy: 0.2029\n",
      "Epoch 20/50\n",
      "9/9 [==============================] - 10s 1s/step - loss: 1.7450 - categorical_accuracy: 0.2076\n",
      "Epoch 21/50\n",
      "9/9 [==============================] - 10s 1s/step - loss: 2.3499 - categorical_accuracy: 0.2067\n",
      "Epoch 22/50\n",
      "9/9 [==============================] - 10s 1s/step - loss: 1.6783 - categorical_accuracy: 0.1990\n",
      "Epoch 23/50\n",
      "9/9 [==============================] - 10s 1s/step - loss: 1.6762 - categorical_accuracy: 0.1990\n",
      "Epoch 24/50\n",
      "9/9 [==============================] - 10s 1s/step - loss: 1.6740 - categorical_accuracy: 0.1990\n",
      "Epoch 25/50\n",
      "9/9 [==============================] - 11s 1s/step - loss: 1.6719 - categorical_accuracy: 0.1990\n",
      "Epoch 26/50\n",
      "9/9 [==============================] - 11s 1s/step - loss: 1.6699 - categorical_accuracy: 0.1990\n",
      "Epoch 27/50\n",
      "9/9 [==============================] - 9s 909ms/step - loss: 1.6679 - categorical_accuracy: 0.1990\n",
      "Epoch 28/50\n",
      "9/9 [==============================] - 8s 908ms/step - loss: 1.6660 - categorical_accuracy: 0.1990\n",
      "Epoch 29/50\n",
      "9/9 [==============================] - 8s 904ms/step - loss: 1.6642 - categorical_accuracy: 0.1990\n",
      "Epoch 30/50\n",
      "9/9 [==============================] - 8s 905ms/step - loss: 1.6625 - categorical_accuracy: 0.1990\n",
      "Epoch 31/50\n",
      "9/9 [==============================] - 9s 986ms/step - loss: 1.6608 - categorical_accuracy: 0.1990\n",
      "Epoch 32/50\n",
      "9/9 [==============================] - 8s 934ms/step - loss: 1.6593 - categorical_accuracy: 0.1990\n",
      "Epoch 33/50\n",
      "9/9 [==============================] - 8s 922ms/step - loss: 1.6577 - categorical_accuracy: 0.1990\n",
      "Epoch 34/50\n",
      "9/9 [==============================] - 8s 923ms/step - loss: 1.6562 - categorical_accuracy: 0.1990\n",
      "Epoch 35/50\n",
      "9/9 [==============================] - 8s 907ms/step - loss: 1.6548 - categorical_accuracy: 0.1990\n",
      "Epoch 36/50\n",
      "9/9 [==============================] - 8s 931ms/step - loss: 1.6534 - categorical_accuracy: 0.1990\n",
      "Epoch 37/50\n",
      "9/9 [==============================] - 8s 915ms/step - loss: 1.6521 - categorical_accuracy: 0.1990\n",
      "Epoch 38/50\n",
      "9/9 [==============================] - 8s 921ms/step - loss: 1.6507 - categorical_accuracy: 0.1990\n",
      "Epoch 39/50\n",
      "9/9 [==============================] - 9s 948ms/step - loss: 1.6494 - categorical_accuracy: 0.1990\n",
      "Epoch 40/50\n",
      "9/9 [==============================] - 8s 941ms/step - loss: 1.6483 - categorical_accuracy: 0.2095\n",
      "Epoch 41/50\n",
      "9/9 [==============================] - 8s 942ms/step - loss: 1.6471 - categorical_accuracy: 0.2067\n",
      "Epoch 42/50\n",
      "9/9 [==============================] - 8s 922ms/step - loss: 1.6460 - categorical_accuracy: 0.1990\n",
      "Epoch 43/50\n",
      "9/9 [==============================] - 8s 910ms/step - loss: 1.6449 - categorical_accuracy: 0.1990\n",
      "Epoch 44/50\n",
      "9/9 [==============================] - 8s 908ms/step - loss: 1.6438 - categorical_accuracy: 0.1952\n",
      "Epoch 45/50\n",
      "9/9 [==============================] - 9s 1s/step - loss: 1.6429 - categorical_accuracy: 0.2086\n",
      "Epoch 46/50\n",
      "9/9 [==============================] - 9s 971ms/step - loss: 1.6419 - categorical_accuracy: 0.2181\n",
      "Epoch 47/50\n",
      "9/9 [==============================] - 10s 1s/step - loss: 1.6409 - categorical_accuracy: 0.2305\n",
      "Epoch 48/50\n",
      "9/9 [==============================] - 10s 1s/step - loss: 1.6399 - categorical_accuracy: 0.2305\n",
      "Epoch 49/50\n",
      "9/9 [==============================] - 9s 1s/step - loss: 1.6391 - categorical_accuracy: 0.2381\n",
      "Epoch 50/50\n",
      "9/9 [==============================] - 9s 944ms/step - loss: 1.6382 - categorical_accuracy: 0.2429\n"
     ]
    },
    {
     "data": {
      "text/plain": [
       "<keras.src.callbacks.History at 0x7fc2bea96a40>"
      ]
     },
     "execution_count": 74,
     "metadata": {},
     "output_type": "execute_result"
    }
   ],
   "source": [
    "model.fit(X_train, y_train, epochs=50, batch_size=128)"
   ]
  },
  {
   "cell_type": "code",
   "execution_count": 75,
   "id": "73a775c0-abab-448e-b8be-88063ad94a6e",
   "metadata": {},
   "outputs": [
    {
     "name": "stdout",
     "output_type": "stream",
     "text": [
      "15/15 [==============================] - 4s 177ms/step\n"
     ]
    }
   ],
   "source": [
    "y_pred = model.predict(X_test)"
   ]
  },
  {
   "cell_type": "code",
   "execution_count": 76,
   "id": "9cb96bab-5148-4b35-9cbe-4d80d644ca38",
   "metadata": {},
   "outputs": [],
   "source": [
    "y_pred = np.argmax(y_pred, axis=1).tolist()"
   ]
  },
  {
   "cell_type": "code",
   "execution_count": 77,
   "id": "6012f4b5-67d7-46bc-8e64-c1f959a06bfd",
   "metadata": {},
   "outputs": [],
   "source": [
    "y_true = np.argmax(y_test, axis=1).tolist()"
   ]
  },
  {
   "cell_type": "code",
   "execution_count": 78,
   "id": "9839ad9f-a234-4fc7-a2e2-958819131aba",
   "metadata": {},
   "outputs": [],
   "source": [
    "from sklearn.metrics import multilabel_confusion_matrix, accuracy_score,ConfusionMatrixDisplay, confusion_matrix"
   ]
  },
  {
   "cell_type": "code",
   "execution_count": 79,
   "id": "e76600d4-93c7-4f59-a09c-c1f526e2b06e",
   "metadata": {},
   "outputs": [],
   "source": [
    "confusion_matrices = confusion_matrix(y_true, y_pred,labels=np.unique(y_pred), normalize='true')"
   ]
  },
  {
   "cell_type": "code",
   "execution_count": 80,
   "id": "54383999-5c63-413c-9471-7f9fb6552863",
   "metadata": {},
   "outputs": [
    {
     "data": {
      "text/plain": [
       "array([[0.27472527, 0.04395604, 0.68131868],\n",
       "       [0.38271605, 0.04938272, 0.56790123],\n",
       "       [0.15730337, 0.        , 0.84269663]])"
      ]
     },
     "execution_count": 80,
     "metadata": {},
     "output_type": "execute_result"
    }
   ],
   "source": [
    "confusion_matrices"
   ]
  },
  {
   "cell_type": "code",
   "execution_count": 81,
   "id": "7b7fb0dc-1baf-4432-8c02-300125e6864b",
   "metadata": {},
   "outputs": [
    {
     "data": {
      "text/plain": [
       "<sklearn.metrics._plot.confusion_matrix.ConfusionMatrixDisplay at 0x7fc3b4be6260>"
      ]
     },
     "execution_count": 81,
     "metadata": {},
     "output_type": "execute_result"
    },
    {
     "data": {
      "image/png": "[encoded data removed]",
      "text/plain": [
       "<Figure size 640x480 with 2 Axes>"
      ]
     },
     "metadata": {},
     "output_type": "display_data"
    }
   ],
   "source": [
    "disp = ConfusionMatrixDisplay(confusion_matrices, display_labels=np.unique(y_pred))\n",
    "disp.plot()"
   ]
  },
  {
   "cell_type": "code",
   "execution_count": null,
   "id": "f2047f6c-c67d-4574-a7d7-553a1e4b01c7",
   "metadata": {},
   "outputs": [],
   "source": []
  }
 ],
 "metadata": {
  "kernelspec": {
   "display_name": "Python 3 (ipykernel)",
   "language": "python",
   "name": "python3"
  },
  "language_info": {
   "codemirror_mode": {
    "name": "ipython",
    "version": 3
   },
   "file_extension": ".py",
   "mimetype": "text/x-python",
   "name": "python",
   "nbconvert_exporter": "python",
   "pygments_lexer": "ipython3",
   "version": "3.10.9"
  }
 },
 "nbformat": 4,
 "nbformat_minor": 5
}
