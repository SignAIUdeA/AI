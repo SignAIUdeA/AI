{
 "cells": [
  {
   "cell_type": "code",
   "execution_count": 15,
   "id": "c235c84e-96df-4c9c-af66-4c495812b9b4",
   "metadata": {},
   "outputs": [],
   "source": [
    "import pandas as pd\n",
    "import numpy as np\n",
    "from progress.bar import Bar\n",
    "from utils.load import load_data_methodology_cutting\n",
    "from tensorflow.keras.models import Sequential\n",
    "from tensorflow.keras.layers import LSTM, Dense\n",
    "import tensorflow.keras.backend as K\n",
    "from utils.metrics import f1, confusion_matrix_plot\n",
    "from utils.tuner import CVTuner\n",
    "from iterstrat.ml_stratifiers import MultilabelStratifiedKFold\n",
    "import joblib\n",
    "import keras_tuner\n",
    "import tensorflow as tf\n",
    "import os"
   ]
  },
  {
   "cell_type": "code",
   "execution_count": 2,
   "id": "16c960a1-e3e9-4203-aaa9-ecbb7bb9db51",
   "metadata": {},
   "outputs": [
    {
     "data": {
      "text/html": [
       "<div>\n",
       "<style scoped>\n",
       "    .dataframe tbody tr th:only-of-type {\n",
       "        vertical-align: middle;\n",
       "    }\n",
       "\n",
       "    .dataframe tbody tr th {\n",
       "        vertical-align: top;\n",
       "    }\n",
       "\n",
       "    .dataframe thead th {\n",
       "        text-align: right;\n",
       "    }\n",
       "</style>\n",
       "<table border=\"1\" class=\"dataframe\">\n",
       "  <thead>\n",
       "    <tr style=\"text-align: right;\">\n",
       "      <th></th>\n",
       "      <th>Class</th>\n",
       "    </tr>\n",
       "    <tr>\n",
       "      <th>File</th>\n",
       "      <th></th>\n",
       "    </tr>\n",
       "  </thead>\n",
       "  <tbody>\n",
       "    <tr>\n",
       "      <th>S1V3C1M3A Clip166.npy</th>\n",
       "      <td>1</td>\n",
       "    </tr>\n",
       "    <tr>\n",
       "      <th>S1V1C1M1A Clip18.npy</th>\n",
       "      <td>1</td>\n",
       "    </tr>\n",
       "    <tr>\n",
       "      <th>S1V4C1M4A Clip241.npy</th>\n",
       "      <td>1</td>\n",
       "    </tr>\n",
       "    <tr>\n",
       "      <th>S1V4C1M4A Clip239.npy</th>\n",
       "      <td>1</td>\n",
       "    </tr>\n",
       "    <tr>\n",
       "      <th>S1V4C1M4A Clip245.npy</th>\n",
       "      <td>1</td>\n",
       "    </tr>\n",
       "  </tbody>\n",
       "</table>\n",
       "</div>"
      ],
      "text/plain": [
       "                       Class\n",
       "File                        \n",
       "S1V3C1M3A Clip166.npy      1\n",
       "S1V1C1M1A Clip18.npy       1\n",
       "S1V4C1M4A Clip241.npy      1\n",
       "S1V4C1M4A Clip239.npy      1\n",
       "S1V4C1M4A Clip245.npy      1"
      ]
     },
     "execution_count": 2,
     "metadata": {},
     "output_type": "execute_result"
    }
   ],
   "source": [
    "df = pd.read_csv(\"../Metadata/data_curated.csv\")\n",
    "df.set_index(\"File\", inplace=True)\n",
    "df.head()"
   ]
  },
  {
   "cell_type": "code",
   "execution_count": 3,
   "id": "eb9ab8b5-a77b-4c0d-8ce1-f782642034a9",
   "metadata": {},
   "outputs": [],
   "source": [
    "X_train, y_train, X_val, y_val = load_data_methodology_cutting(df,30,\"M1\")"
   ]
  },
  {
   "cell_type": "code",
   "execution_count": 4,
   "id": "b07ceb75-9417-4900-9db8-4ee666513019",
   "metadata": {},
   "outputs": [
    {
     "data": {
      "text/plain": [
       "(2250, 30, 1662)"
      ]
     },
     "execution_count": 4,
     "metadata": {},
     "output_type": "execute_result"
    }
   ],
   "source": [
    "X_train.shape"
   ]
  },
  {
   "cell_type": "code",
   "execution_count": 5,
   "id": "0169b89e-c051-4b9f-9019-848a13432740",
   "metadata": {},
   "outputs": [
    {
     "data": {
      "text/plain": [
       "(2250, 6)"
      ]
     },
     "execution_count": 5,
     "metadata": {},
     "output_type": "execute_result"
    }
   ],
   "source": [
    "y_train.shape"
   ]
  },
  {
   "cell_type": "code",
   "execution_count": 6,
   "id": "06999fef-c5f0-48eb-9698-9e32c01ffdf9",
   "metadata": {},
   "outputs": [
    {
     "data": {
      "text/plain": [
       "(750, 30, 1662)"
      ]
     },
     "execution_count": 6,
     "metadata": {},
     "output_type": "execute_result"
    }
   ],
   "source": [
    "X_val.shape"
   ]
  },
  {
   "cell_type": "code",
   "execution_count": 7,
   "id": "61458d3e-979f-417d-a246-4f7ae6791cd1",
   "metadata": {},
   "outputs": [
    {
     "data": {
      "text/plain": [
       "(750, 6)"
      ]
     },
     "execution_count": 7,
     "metadata": {},
     "output_type": "execute_result"
    }
   ],
   "source": [
    "y_val.shape"
   ]
  },
  {
   "cell_type": "markdown",
   "id": "a2308e99-28c2-448e-a7e4-caa905383ff0",
   "metadata": {},
   "source": [
    "# Cross Validation"
   ]
  },
  {
   "cell_type": "code",
   "execution_count": 8,
   "id": "d6e6c180-d9eb-4d0a-8859-b3a2c3c10e28",
   "metadata": {},
   "outputs": [
    {
     "data": {
      "text/plain": [
       "['./cv/cv_GRU.joblib']"
      ]
     },
     "execution_count": 8,
     "metadata": {},
     "output_type": "execute_result"
    }
   ],
   "source": [
    "cv = MultilabelStratifiedKFold(n_splits=3)\n",
    "joblib.dump(cv, './cv/cv_GRU.joblib')"
   ]
  },
  {
   "cell_type": "markdown",
   "id": "9e052a39-63c9-4444-a4ef-2b178c6c870f",
   "metadata": {},
   "source": [
    "# Hyper Parameter Tunning Recurrent Neural Networks"
   ]
  },
  {
   "cell_type": "code",
   "execution_count": 9,
   "id": "c7970b71-fe23-4706-b9b1-6b1001509061",
   "metadata": {},
   "outputs": [],
   "source": [
    "def build_model_GRU(hp):\n",
    "    \n",
    "    model = Sequential()\n",
    "\n",
    "\n",
    "    model.add(LSTM(\n",
    "        hp.Int('input_units',min_value=60,max_value=110,step=10),\n",
    "        return_sequences=True,\n",
    "        activation='relu', \n",
    "        kernel_initializer=tf.keras.initializers.GlorotNormal(),\n",
    "        recurrent_initializer=tf.keras.initializers.Orthogonal(),\n",
    "        recurrent_dropout=0.1,\n",
    "        input_shape=(30,1662)))\n",
    "    \n",
    "    model.add(LSTM(\n",
    "        hp.Int('GRU_1',min_value=110,max_value=160,step=10),\n",
    "        return_sequences=True,\n",
    "        activation='relu',\n",
    "        recurrent_dropout=0.1,\n",
    "        kernel_initializer=tf.keras.initializers.GlorotNormal(),\n",
    "        recurrent_initializer=tf.keras.initializers.Orthogonal()\n",
    "        ))\n",
    "    \n",
    "\n",
    "    model.add(LSTM(\n",
    "        hp.Int('GRU_2',min_value=60,max_value=110,step=10), \n",
    "        recurrent_dropout=0.1,\n",
    "        return_sequences=False,\n",
    "        activation='relu',\n",
    "        kernel_initializer=tf.keras.initializers.GlorotNormal(),\n",
    "        recurrent_initializer=tf.keras.initializers.Orthogonal()\n",
    "        ))\n",
    "    \n",
    "\n",
    "    model.add(Dense(\n",
    "        hp.Int(f\"Dense_units_1\",min_value=60,max_value=110,step=10),\n",
    "        activation='relu',\n",
    "        kernel_regularizer=tf.keras.regularizers.l2(0.01)\n",
    "        ))\n",
    "    \n",
    "    model.add(Dense(\n",
    "        hp.Int(f\"Dense_units_2\",min_value=20,max_value=50,step=10),\n",
    "        activation='relu',\n",
    "        kernel_regularizer=tf.keras.regularizers.l2(0.01)\n",
    "        ))\n",
    "    \n",
    "\n",
    "    model.add(Dense(6, activation='softmax'))\n",
    "\n",
    "    opt = tf.keras.optimizers.Nadam(clipnorm = 1.0)\n",
    "    model.compile(optimizer=opt, loss=\"categorical_crossentropy\",metrics=[f1])\n",
    "    return model"
   ]
  },
  {
   "cell_type": "code",
   "execution_count": 10,
   "id": "6286937d-9b8f-4a6e-96ea-3b4a87006d4e",
   "metadata": {},
   "outputs": [],
   "source": [
    "tuner_LSTM = CVTuner(\n",
    "                    data_cv= cv,\n",
    "                    goal = 'f1',\n",
    "                    hypermodel=build_model_GRU,\n",
    "                    oracle=keras_tuner.oracles.BayesianOptimizationOracle(\n",
    "                    objective=keras_tuner.Objective('f1',direction = \"max\"),\n",
    "                        max_trials=1                  \n",
    "                    ),\n",
    "                    directory='./experiments/',\n",
    "                    project_name = 'GRU',\n",
    "                    overwrite=True\n",
    "                    )"
   ]
  },
  {
   "cell_type": "code",
   "execution_count": 11,
   "id": "537a0059-b70e-4046-bc76-b635b930dd59",
   "metadata": {},
   "outputs": [
    {
     "name": "stdout",
     "output_type": "stream",
     "text": [
      "Trial 1 Complete [00h 14m 03s]\n",
      "f1: 0.395187646150589\n",
      "\n",
      "Best f1 So Far: 0.395187646150589\n",
      "Total elapsed time: 00h 14m 03s\n",
      "INFO:tensorflow:Oracle triggered exit\n"
     ]
    }
   ],
   "source": [
    "tuner_LSTM.search(X_train, y_train, 64, epochs=50)"
   ]
  },
  {
   "cell_type": "code",
   "execution_count": 12,
   "id": "8b227600-a225-43ac-b0ff-1eebb9b131c2",
   "metadata": {},
   "outputs": [],
   "source": [
    "df_LSTM = pd.DataFrame(tuner_LSTM.trial_scores)"
   ]
  },
  {
   "cell_type": "code",
   "execution_count": 13,
   "id": "67099288-3f31-4657-bde1-3c9358b2df43",
   "metadata": {},
   "outputs": [],
   "source": [
    "df_LSTM.to_csv(\"./experiments/LSTM.csv\")"
   ]
  },
  {
   "cell_type": "code",
   "execution_count": 33,
   "id": "a5b851dd-9c9e-455a-9ba8-a72310220ce2",
   "metadata": {},
   "outputs": [],
   "source": [
    "def build_model_GRU():\n",
    "    \n",
    "    model = Sequential()\n",
    "\n",
    "\n",
    "    model.add(LSTM(\n",
    "        32,\n",
    "        return_sequences=True,\n",
    "        activation='relu', \n",
    "        kernel_initializer=tf.keras.initializers.GlorotNormal(),\n",
    "        recurrent_initializer=tf.keras.initializers.Orthogonal(),\n",
    "        recurrent_dropout=0.1,\n",
    "        input_shape=(30,1662)))\n",
    "    \n",
    "    # model.add(LSTM(\n",
    "    #     128,\n",
    "    #     return_sequences=True,\n",
    "    #     activation='relu',\n",
    "    #     recurrent_dropout=0.1,\n",
    "    #     kernel_initializer=tf.keras.initializers.GlorotNormal(),\n",
    "    #     recurrent_initializer=tf.keras.initializers.Orthogonal()\n",
    "    #     ))\n",
    "\n",
    "\n",
    "    model.add(LSTM(\n",
    "        16, \n",
    "        recurrent_dropout=0.1,\n",
    "        return_sequences=False,\n",
    "        activation='relu',\n",
    "        kernel_initializer=tf.keras.initializers.GlorotNormal(),\n",
    "        recurrent_initializer=tf.keras.initializers.Orthogonal()\n",
    "        ))\n",
    "    \n",
    "\n",
    "    # model.add(Dense(\n",
    "    #     64,\n",
    "    #     activation='relu',\n",
    "    #     kernel_regularizer=tf.keras.regularizers.l2(0.01)\n",
    "    #     ))\n",
    "    \n",
    "    model.add(Dense(\n",
    "        16,\n",
    "        activation='relu',\n",
    "        kernel_regularizer=tf.keras.regularizers.l2(0.01)\n",
    "        ))\n",
    "    \n",
    "\n",
    "    model.add(Dense(6, activation='softmax'))\n",
    "\n",
    "\n",
    "\n",
    "    opt = tf.keras.optimizers.Nadam(clipnorm = 1.0)\n",
    "    model.compile(optimizer=opt, loss=\"categorical_crossentropy\",metrics=[f1])\n",
    "    return model"
   ]
  },
  {
   "cell_type": "code",
   "execution_count": 34,
   "id": "c1a9af8f-3a81-41be-98c7-fa3b24f7d86f",
   "metadata": {},
   "outputs": [],
   "source": [
    "log_dir = os.path.join(\"logs\",\"experiments\",\"Prueba\" )\n",
    "callback = [\n",
    "    tf.keras.callbacks.EarlyStopping(monitor=\"val_loss\", mode = 'max',patience=10, verbose=1,restore_best_weights=True),\n",
    "    tf.keras.callbacks.ReduceLROnPlateau(monitor=\"val_loss\", factor=0.5, patience=5, verbose=1),\n",
    "    tf.keras.callbacks.TensorBoard(log_dir=log_dir, histogram_freq=1),\n",
    "    tf.keras.callbacks.ModelCheckpoint(filepath=f'models/model_checkpoint/Prueba/0/best_model.h5', monitor=\"val_loss\", save_best_only=True)\n",
    "    ]"
   ]
  },
  {
   "cell_type": "code",
   "execution_count": 35,
   "id": "a351feb2-20cb-448f-9c51-2b261e03f0dc",
   "metadata": {},
   "outputs": [],
   "source": [
    "model = build_model_GRU()"
   ]
  },
  {
   "cell_type": "code",
   "execution_count": 37,
   "id": "143b4428",
   "metadata": {},
   "outputs": [
    {
     "name": "stderr",
     "output_type": "stream",
     "text": [
      "2024-01-08 22:23:20.543781: W tensorflow/tsl/framework/cpu_allocator_impl.cc:83] Allocation of 448740000 exceeds 10% of free system memory.\n"
     ]
    },
    {
     "name": "stdout",
     "output_type": "stream",
     "text": [
      "Epoch 1/50\n",
      "36/36 [==============================] - 8s 223ms/step - loss: 3.1447 - f1: 0.4796 - val_loss: 1.7059 - val_f1: 0.1356 - lr: 1.2500e-04\n",
      "Epoch 2/50\n"
     ]
    },
    {
     "name": "stderr",
     "output_type": "stream",
     "text": [
      "/home/andres/.local/lib/python3.10/site-packages/keras/src/engine/training.py:3079: UserWarning: You are saving your model as an HDF5 file via `model.save()`. This file format is considered legacy. We recommend using instead the native Keras format, e.g. `model.save('my_model.keras')`.\n",
      "  saving_api.save_model(\n"
     ]
    },
    {
     "name": "stdout",
     "output_type": "stream",
     "text": [
      "36/36 [==============================] - 7s 204ms/step - loss: 1.4154 - f1: 0.4934 - val_loss: 1.2219 - val_f1: 0.4342 - lr: 1.2500e-04\n",
      "Epoch 3/50\n",
      "36/36 [==============================] - 8s 228ms/step - loss: 1.1168 - f1: 0.5911 - val_loss: 1.0705 - val_f1: 0.4927 - lr: 1.2500e-04\n",
      "Epoch 4/50\n",
      "36/36 [==============================] - 8s 217ms/step - loss: 0.9442 - f1: 0.6587 - val_loss: 0.8911 - val_f1: 0.6306 - lr: 1.2500e-04\n",
      "Epoch 5/50\n",
      "36/36 [==============================] - 8s 233ms/step - loss: 0.8311 - f1: 0.7074 - val_loss: 0.9467 - val_f1: 0.6300 - lr: 1.2500e-04\n",
      "Epoch 6/50\n",
      "36/36 [==============================] - 9s 241ms/step - loss: 0.7103 - f1: 0.7605 - val_loss: 0.8012 - val_f1: 0.7822 - lr: 1.2500e-04\n",
      "Epoch 7/50\n",
      "36/36 [==============================] - 8s 229ms/step - loss: 0.6537 - f1: 0.7876 - val_loss: 0.7375 - val_f1: 0.7981 - lr: 1.2500e-04\n",
      "Epoch 8/50\n",
      "36/36 [==============================] - 8s 212ms/step - loss: 0.6017 - f1: 0.8187 - val_loss: 0.8233 - val_f1: 0.7651 - lr: 1.2500e-04\n",
      "Epoch 9/50\n",
      "36/36 [==============================] - 8s 223ms/step - loss: 0.5366 - f1: 0.8261 - val_loss: 0.8457 - val_f1: 0.8061 - lr: 1.2500e-04\n",
      "Epoch 10/50\n",
      "36/36 [==============================] - 8s 227ms/step - loss: 0.5205 - f1: 0.8428 - val_loss: 0.8340 - val_f1: 0.8010 - lr: 1.2500e-04\n",
      "Epoch 11/50\n",
      "36/36 [==============================] - ETA: 0s - loss: 0.4913 - f1: 0.8493Restoring model weights from the end of the best epoch: 1.\n",
      "36/36 [==============================] - 8s 229ms/step - loss: 0.4913 - f1: 0.8493 - val_loss: 0.9113 - val_f1: 0.7966 - lr: 1.2500e-04\n",
      "Epoch 11: early stopping\n"
     ]
    },
    {
     "data": {
      "text/plain": [
       "<keras.src.callbacks.History at 0x7fa2aa9d42e0>"
      ]
     },
     "execution_count": 37,
     "metadata": {},
     "output_type": "execute_result"
    }
   ],
   "source": [
    "model.fit(X_train, y_train, validation_data=(X_val,y_val),batch_size=64,epochs=50, callbacks=callback, verbose=1)"
   ]
  },
  {
   "cell_type": "code",
   "execution_count": 14,
   "id": "9edf6f1b-11be-4729-b04c-3a1d1c9062b3",
   "metadata": {},
   "outputs": [],
   "source": [
    "#disp = confusion_matrix_plot(y_val, y_pred)\n",
    "#disp.plot()"
   ]
  }
 ],
 "metadata": {
  "kernelspec": {
   "display_name": "Python 3 (ipykernel)",
   "language": "python",
   "name": "python3"
  },
  "language_info": {
   "codemirror_mode": {
    "name": "ipython",
    "version": 3
   },
   "file_extension": ".py",
   "mimetype": "text/x-python",
   "name": "python",
   "nbconvert_exporter": "python",
   "pygments_lexer": "ipython3",
   "version": "3.10.9"
  }
 },
 "nbformat": 4,
 "nbformat_minor": 5
}
