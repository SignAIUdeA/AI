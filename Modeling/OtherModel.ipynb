{
  "cells": [
    {
      "cell_type": "code",
      "execution_count": 1,
      "metadata": {
        "id": "a6f446eb-7f52-4270-83bd-9372ba7d5edb"
      },
      "outputs": [],
      "source": [
        "import pandas as pd\n",
        "import numpy as np\n",
        "from sklearn.model_selection import train_test_split\n",
        "from tensorflow.keras.models import Sequential\n",
        "from tensorflow.keras.layers import LSTM, Dense\n",
        "from tensorflow.keras.utils import to_categorical\n",
        "import tensorflow as tf\n",
        "import keras\n",
        "from keras import layers\n",
        "import requests\n",
        "import io"
      ],
      "id": "a6f446eb-7f52-4270-83bd-9372ba7d5edb"
    },
    {
      "cell_type": "code",
      "execution_count": 2,
      "metadata": {
        "id": "4yz74fj4VfFp"
      },
      "outputs": [],
      "source": [
        "with tf.device('/GPU:0'):\n",
        "  a = tf.constant([[1.0, 2.0, 3.0], [4.0, 5.0, 6.0]])\n",
        "  b = tf.constant([[1.0, 2.0], [3.0, 4.0], [5.0, 6.0]])"
      ],
      "id": "4yz74fj4VfFp"
    },
    {
      "cell_type": "code",
      "execution_count": 3,
      "metadata": {
        "id": "iwLCTCXIVjLt"
      },
      "outputs": [],
      "source": [
        "c = tf.matmul(a, b)"
      ],
      "id": "iwLCTCXIVjLt"
    },
    {
      "cell_type": "code",
      "execution_count": 4,
      "metadata": {
        "colab": {
          "base_uri": "https://localhost:8080/"
        },
        "id": "VgFUdnoQVoft",
        "outputId": "7797fb96-e92d-42ac-ec3d-39613073c1a1"
      },
      "outputs": [
        {
          "output_type": "execute_result",
          "data": {
            "text/plain": [
              "<tf.Tensor: shape=(2, 2), dtype=float32, numpy=\n",
              "array([[22., 28.],\n",
              "       [49., 64.]], dtype=float32)>"
            ]
          },
          "metadata": {},
          "execution_count": 4
        }
      ],
      "source": [
        "c"
      ],
      "id": "VgFUdnoQVoft"
    },
    {
      "cell_type": "code",
      "execution_count": 5,
      "metadata": {
        "colab": {
          "base_uri": "https://localhost:8080/"
        },
        "id": "mDAjQXgJVBTu",
        "outputId": "231497de-9561-4a02-8497-40d24ef06056"
      },
      "outputs": [
        {
          "output_type": "stream",
          "name": "stdout",
          "text": [
            "Num GPUs Available:  1\n"
          ]
        }
      ],
      "source": [
        "import tensorflow as tf\n",
        "print(\"Num GPUs Available: \", len(tf.config.list_physical_devices('GPU')))"
      ],
      "id": "mDAjQXgJVBTu"
    },
    {
      "cell_type": "code",
      "execution_count": 6,
      "metadata": {
        "id": "d1quVVhfVIBH"
      },
      "outputs": [],
      "source": [
        "tf.debugging.set_log_device_placement(True)"
      ],
      "id": "d1quVVhfVIBH"
    },
    {
      "cell_type": "code",
      "execution_count": 7,
      "metadata": {
        "id": "G29ZTC9qS6Z0"
      },
      "outputs": [],
      "source": [
        "response_y = requests.get(\"https://storage.googleapis.com/signai/y_interpolated.npy\")\n",
        "response_X = requests.get(\"https://storage.googleapis.com/signai/X_interpolated.npy\")"
      ],
      "id": "G29ZTC9qS6Z0"
    },
    {
      "cell_type": "code",
      "execution_count": 8,
      "metadata": {
        "id": "524c0775-f42c-46fb-84de-1a629de68186"
      },
      "outputs": [],
      "source": [
        "y = np.load(io.BytesIO(response_y.content))\n",
        "X = np.load(io.BytesIO(response_X.content))"
      ],
      "id": "524c0775-f42c-46fb-84de-1a629de68186"
    },
    {
      "cell_type": "code",
      "execution_count": 9,
      "metadata": {
        "id": "ce9800e5-353a-45cb-8aaa-289412ae2e87"
      },
      "outputs": [],
      "source": [
        "y = to_categorical(y)"
      ],
      "id": "ce9800e5-353a-45cb-8aaa-289412ae2e87"
    },
    {
      "cell_type": "code",
      "execution_count": 10,
      "metadata": {
        "id": "059c4248-8e35-4550-989d-98a80864f723"
      },
      "outputs": [],
      "source": [
        "X_train, X_test, y_train, y_test = train_test_split(X, y, test_size=0.3)"
      ],
      "id": "059c4248-8e35-4550-989d-98a80864f723"
    },
    {
      "cell_type": "code",
      "execution_count": 11,
      "metadata": {
        "id": "5e9ae734-3c9d-49e9-b363-9ef88b8214c8"
      },
      "outputs": [],
      "source": [
        "X_train, X_test = X_train[:,:100,:], X_test[:,:100,:]"
      ],
      "id": "5e9ae734-3c9d-49e9-b363-9ef88b8214c8"
    },
    {
      "cell_type": "code",
      "execution_count": 12,
      "metadata": {
        "colab": {
          "base_uri": "https://localhost:8080/"
        },
        "id": "278f6693-07f3-42a1-ba22-c6724fabf116",
        "outputId": "06ddc646-1bdc-458a-dda1-2d4f292d465d"
      },
      "outputs": [
        {
          "output_type": "execute_result",
          "data": {
            "text/plain": [
              "(2100, 100, 1662)"
            ]
          },
          "metadata": {},
          "execution_count": 12
        }
      ],
      "source": [
        "X_train.shape"
      ],
      "id": "278f6693-07f3-42a1-ba22-c6724fabf116"
    },
    {
      "cell_type": "code",
      "execution_count": 13,
      "metadata": {
        "colab": {
          "base_uri": "https://localhost:8080/"
        },
        "id": "a6761b04-0c92-4aa8-abd2-bcda34bf0d5e",
        "outputId": "6764673d-e67b-4d5d-aef5-9092c4553412"
      },
      "outputs": [
        {
          "output_type": "execute_result",
          "data": {
            "text/plain": [
              "(2100, 6)"
            ]
          },
          "metadata": {},
          "execution_count": 13
        }
      ],
      "source": [
        "y_train.shape"
      ],
      "id": "a6761b04-0c92-4aa8-abd2-bcda34bf0d5e"
    },
    {
      "cell_type": "code",
      "execution_count": 14,
      "metadata": {
        "id": "bce457e1-c3c6-4434-9728-74c16191abd9"
      },
      "outputs": [],
      "source": [
        "del X"
      ],
      "id": "bce457e1-c3c6-4434-9728-74c16191abd9"
    },
    {
      "cell_type": "code",
      "execution_count": 15,
      "metadata": {
        "id": "eafc762e-b0ab-495a-adc5-46f705136898"
      },
      "outputs": [],
      "source": [
        "del y"
      ],
      "id": "eafc762e-b0ab-495a-adc5-46f705136898"
    },
    {
      "cell_type": "raw",
      "metadata": {
        "id": "3ca55f6a-d74f-42d4-85bc-75362926e359"
      },
      "source": [
        "pose 33*4\n",
        "face 468*3\n",
        "lh 21*3\n",
        "rh 21*3\n"
      ],
      "id": "3ca55f6a-d74f-42d4-85bc-75362926e359"
    },
    {
      "cell_type": "code",
      "execution_count": 16,
      "metadata": {
        "id": "af2ae1ca-10e2-4abe-a536-a1da74416455"
      },
      "outputs": [],
      "source": [
        "X_pose_train, X_face_train, X_lh_train, X_rh_train = X_train[:,:,:132],X_train[:,:,132:1536],X_train[:,:,1536:1599],X_train[:,:,1599:1662]"
      ],
      "id": "af2ae1ca-10e2-4abe-a536-a1da74416455"
    },
    {
      "cell_type": "code",
      "execution_count": 17,
      "metadata": {
        "id": "94a85661-a929-46cf-a339-030b1f5b07c8"
      },
      "outputs": [],
      "source": [
        "X_pose_test, X_face_test, X_lh_test, X_rh_test = X_test[:,:,:132],X_test[:,:,132:1536],X_test[:,:,1536:1599],X_test[:,:,1599:1662]"
      ],
      "id": "94a85661-a929-46cf-a339-030b1f5b07c8"
    },
    {
      "cell_type": "code",
      "execution_count": 18,
      "metadata": {
        "colab": {
          "base_uri": "https://localhost:8080/"
        },
        "id": "4b1ce3eb-6724-4c0e-8fb4-495c2bc04e0f",
        "outputId": "7b4d3d3f-dbdf-48a9-9005-86115e2d2587"
      },
      "outputs": [
        {
          "output_type": "execute_result",
          "data": {
            "text/plain": [
              "(900, 100, 63)"
            ]
          },
          "metadata": {},
          "execution_count": 18
        }
      ],
      "source": [
        "X_lh_test.shape"
      ],
      "id": "4b1ce3eb-6724-4c0e-8fb4-495c2bc04e0f"
    },
    {
      "cell_type": "code",
      "execution_count": 45,
      "metadata": {
        "colab": {
          "base_uri": "https://localhost:8080/"
        },
        "id": "db469e24-a555-47c5-bfca-7fd5d9bdd886",
        "outputId": "5b2b1f49-7d41-4f7f-911d-48dc57b0e3e9"
      },
      "outputs": [
        {
          "output_type": "stream",
          "name": "stdout",
          "text": [
            "Model: \"model_2\"\n",
            "__________________________________________________________________________________________________\n",
            " Layer (type)                Output Shape                 Param #   Connected to                  \n",
            "==================================================================================================\n",
            " pose (InputLayer)           [(None, 100, 132)]           0         []                            \n",
            "                                                                                                  \n",
            " face (InputLayer)           [(None, 100, 1404)]          0         []                            \n",
            "                                                                                                  \n",
            " rh (InputLayer)             [(None, 100, 63)]            0         []                            \n",
            "                                                                                                  \n",
            " lh (InputLayer)             [(None, 100, 63)]            0         []                            \n",
            "                                                                                                  \n",
            " multi_head_attention_8 (Mu  (None, 100, 132)             13407     ['pose[0][0]',                \n",
            " ltiHeadAttention)                                                   'pose[0][0]']                \n",
            "                                                                                                  \n",
            " multi_head_attention_9 (Mu  (None, 100, 1404)            141879    ['face[0][0]',                \n",
            " ltiHeadAttention)                                                   'face[0][0]']                \n",
            "                                                                                                  \n",
            " multi_head_attention_10 (M  (None, 100, 63)              6438      ['rh[0][0]',                  \n",
            " ultiHeadAttention)                                                  'rh[0][0]']                  \n",
            "                                                                                                  \n",
            " multi_head_attention_11 (M  (None, 100, 63)              6438      ['lh[0][0]',                  \n",
            " ultiHeadAttention)                                                  'lh[0][0]']                  \n",
            "                                                                                                  \n",
            " lstm_8 (LSTM)               (None, 100, 70)              56840     ['multi_head_attention_8[0][0]\n",
            "                                                                    ']                            \n",
            "                                                                                                  \n",
            " lstm_9 (LSTM)               (None, 100, 70)              413000    ['multi_head_attention_9[0][0]\n",
            "                                                                    ']                            \n",
            "                                                                                                  \n",
            " lstm_10 (LSTM)              (None, 100, 70)              37520     ['multi_head_attention_10[0][0\n",
            "                                                                    ]']                           \n",
            "                                                                                                  \n",
            " lstm_11 (LSTM)              (None, 100, 70)              37520     ['multi_head_attention_11[0][0\n",
            "                                                                    ]']                           \n",
            "                                                                                                  \n",
            " lstm_12 (LSTM)              (None, 70)                   39480     ['lstm_8[0][0]']              \n",
            "                                                                                                  \n",
            " lstm_13 (LSTM)              (None, 70)                   39480     ['lstm_9[0][0]']              \n",
            "                                                                                                  \n",
            " lstm_14 (LSTM)              (None, 70)                   39480     ['lstm_10[0][0]']             \n",
            "                                                                                                  \n",
            " lstm_15 (LSTM)              (None, 70)                   39480     ['lstm_11[0][0]']             \n",
            "                                                                                                  \n",
            " dense_12 (Dense)            (None, 40)                   2840      ['lstm_12[0][0]']             \n",
            "                                                                                                  \n",
            " dense_13 (Dense)            (None, 40)                   2840      ['lstm_13[0][0]']             \n",
            "                                                                                                  \n",
            " dense_14 (Dense)            (None, 40)                   2840      ['lstm_14[0][0]']             \n",
            "                                                                                                  \n",
            " dense_15 (Dense)            (None, 40)                   2840      ['lstm_15[0][0]']             \n",
            "                                                                                                  \n",
            " concatenate_2 (Concatenate  (None, 160)                  0         ['dense_12[0][0]',            \n",
            " )                                                                   'dense_13[0][0]',            \n",
            "                                                                     'dense_14[0][0]',            \n",
            "                                                                     'dense_15[0][0]']            \n",
            "                                                                                                  \n",
            " dense_16 (Dense)            (None, 32)                   5152      ['concatenate_2[0][0]']       \n",
            "                                                                                                  \n",
            " dense_17 (Dense)            (None, 6)                    198       ['dense_16[0][0]']            \n",
            "                                                                                                  \n",
            "==================================================================================================\n",
            "Total params: 887672 (3.39 MB)\n",
            "Trainable params: 887672 (3.39 MB)\n",
            "Non-trainable params: 0 (0.00 Byte)\n",
            "__________________________________________________________________________________________________\n"
          ]
        }
      ],
      "source": [
        "import tensorflow as tf\n",
        "from tensorflow.keras.layers import (Input, LSTM, Dense, concatenate,\n",
        "                                     MultiHeadAttention)\n",
        "import keras\n",
        "\n",
        "# Input layers\n",
        "input_pose = Input(shape=(100, 132), name='pose')\n",
        "input_face = Input(shape=(100, 1404), name='face')\n",
        "input_rh = Input(shape=(100, 63), name='rh')\n",
        "input_lh = Input(shape=(100, 63), name='lh')\n",
        "\n",
        "# MultiHeadAttention layers\n",
        "mh_pose = MultiHeadAttention(num_heads=5, key_dim=5)(input_pose, input_pose)\n",
        "mh_face = MultiHeadAttention(num_heads=5, key_dim=5)(input_face, input_face)\n",
        "mh_rh = MultiHeadAttention(num_heads=5, key_dim=5)(input_rh, input_rh)\n",
        "mh_lh = MultiHeadAttention(num_heads=5, key_dim=5)(input_lh, input_lh)\n",
        "\n",
        "# LSTM layers\n",
        "lstm_pose = LSTM(70, kernel_initializer='he_normal', return_sequences=True)(mh_pose)\n",
        "lstm_face = LSTM(70, kernel_initializer='he_normal', return_sequences=True)(mh_face)\n",
        "lstm_rh = LSTM(70, kernel_initializer='he_normal', return_sequences=True)(mh_rh)\n",
        "lstm_lh = LSTM(70, kernel_initializer='he_normal', return_sequences=True)(mh_lh)\n",
        "\n",
        "lstm_pose = LSTM(70, kernel_initializer='he_normal', return_sequences=False)(lstm_pose)\n",
        "lstm_face = LSTM(70, kernel_initializer='he_normal', return_sequences=False)(lstm_face)\n",
        "lstm_rh = LSTM(70, kernel_initializer='he_normal', return_sequences=False)(lstm_rh)\n",
        "lstm_lh = LSTM(70, kernel_initializer='he_normal', return_sequences=False)(lstm_lh)\n",
        "\n",
        "# Dense layers\n",
        "dense_pose = Dense(40, activation='relu')(lstm_pose)\n",
        "dense_face = Dense(40, activation='relu')(lstm_face)\n",
        "dense_rh = Dense(40, activation='relu')(lstm_rh)\n",
        "dense_lh = Dense(40, activation='relu')(lstm_lh)\n",
        "\n",
        "# Concatenate\n",
        "concat_layer = concatenate([dense_pose, dense_face, dense_rh, dense_lh])\n",
        "\n",
        "# Final Dense layers\n",
        "dense_1 = Dense(32, activation='relu')(concat_layer)\n",
        "output = Dense(6, activation='softmax')(dense_1)\n",
        "\n",
        "# Create Model\n",
        "model = tf.keras.Model(inputs=[input_pose, input_face, input_rh, input_lh], outputs=output)\n",
        "\n",
        "# Compile the model\n",
        "model.compile(optimizer='adam',\n",
        "              loss='categorical_crossentropy',\n",
        "              metrics=[keras.metrics.Precision(),\n",
        "                       keras.metrics.Recall(),\n",
        "                       keras.metrics.AUC(),\n",
        "                       keras.metrics.CategoricalAccuracy()])\n",
        "\n",
        "# Print model summary\n",
        "model.summary()\n"
      ],
      "id": "db469e24-a555-47c5-bfca-7fd5d9bdd886"
    },
    {
      "cell_type": "code",
      "execution_count": 46,
      "metadata": {
        "id": "00bd5f48-7cd0-4fa6-bf44-dbb6983b36dd"
      },
      "outputs": [],
      "source": [
        "model.compile(optimizer='adam',\n",
        "              loss='categorical_crossentropy',\n",
        "              metrics=[keras.metrics.Precision(),keras.metrics.Recall(),keras.metrics.AUC(),keras.metrics.CategoricalAccuracy()])"
      ],
      "id": "00bd5f48-7cd0-4fa6-bf44-dbb6983b36dd"
    },
    {
      "cell_type": "code",
      "execution_count": 35,
      "metadata": {
        "colab": {
          "base_uri": "https://localhost:8080/"
        },
        "id": "7ba22478-dec4-4be0-be1c-d57f2910598a",
        "outputId": "c52431d1-84f8-470a-8648-680279225285"
      },
      "outputs": [
        {
          "output_type": "stream",
          "name": "stdout",
          "text": [
            "Model: \"model_1\"\n",
            "__________________________________________________________________________________________________\n",
            " Layer (type)                Output Shape                 Param #   Connected to                  \n",
            "==================================================================================================\n",
            " pose (InputLayer)           [(None, 100, 132)]           0         []                            \n",
            "                                                                                                  \n",
            " face (InputLayer)           [(None, 100, 1404)]          0         []                            \n",
            "                                                                                                  \n",
            " rh (InputLayer)             [(None, 100, 63)]            0         []                            \n",
            "                                                                                                  \n",
            " lh (InputLayer)             [(None, 100, 63)]            0         []                            \n",
            "                                                                                                  \n",
            " multi_head_attention_4 (Mu  (None, 100, 132)             1327632   ['pose[0][0]',                \n",
            " ltiHeadAttention)                                                   'pose[0][0]']                \n",
            "                                                                                                  \n",
            " multi_head_attention_5 (Mu  (None, 100, 1404)            1404890   ['face[0][0]',                \n",
            " ltiHeadAttention)                                        4          'face[0][0]']                \n",
            "                                                                                                  \n",
            " multi_head_attention_6 (Mu  (None, 100, 63)              637563    ['rh[0][0]',                  \n",
            " ltiHeadAttention)                                                   'rh[0][0]']                  \n",
            "                                                                                                  \n",
            " multi_head_attention_7 (Mu  (None, 100, 63)              637563    ['lh[0][0]',                  \n",
            " ltiHeadAttention)                                                   'lh[0][0]']                  \n",
            "                                                                                                  \n",
            " lstm_4 (LSTM)               (None, 70)                   56840     ['multi_head_attention_4[0][0]\n",
            "                                                                    ']                            \n",
            "                                                                                                  \n",
            " lstm_5 (LSTM)               (None, 70)                   413000    ['multi_head_attention_5[0][0]\n",
            "                                                                    ']                            \n",
            "                                                                                                  \n",
            " lstm_6 (LSTM)               (None, 70)                   37520     ['multi_head_attention_6[0][0]\n",
            "                                                                    ']                            \n",
            "                                                                                                  \n",
            " lstm_7 (LSTM)               (None, 70)                   37520     ['multi_head_attention_7[0][0]\n",
            "                                                                    ']                            \n",
            "                                                                                                  \n",
            " dense_6 (Dense)             (None, 40)                   2840      ['lstm_4[0][0]']              \n",
            "                                                                                                  \n",
            " dense_7 (Dense)             (None, 40)                   2840      ['lstm_5[0][0]']              \n",
            "                                                                                                  \n",
            " dense_8 (Dense)             (None, 40)                   2840      ['lstm_6[0][0]']              \n",
            "                                                                                                  \n",
            " dense_9 (Dense)             (None, 40)                   2840      ['lstm_7[0][0]']              \n",
            "                                                                                                  \n",
            " concatenate_1 (Concatenate  (None, 160)                  0         ['dense_6[0][0]',             \n",
            " )                                                                   'dense_7[0][0]',             \n",
            "                                                                     'dense_8[0][0]',             \n",
            "                                                                     'dense_9[0][0]']             \n",
            "                                                                                                  \n",
            " dense_10 (Dense)            (None, 32)                   5152      ['concatenate_1[0][0]']       \n",
            "                                                                                                  \n",
            " dense_11 (Dense)            (None, 6)                    198       ['dense_10[0][0]']            \n",
            "                                                                                                  \n",
            "==================================================================================================\n",
            "Total params: 17213252 (65.66 MB)\n",
            "Trainable params: 17213252 (65.66 MB)\n",
            "Non-trainable params: 0 (0.00 Byte)\n",
            "__________________________________________________________________________________________________\n"
          ]
        }
      ],
      "source": [
        "model.summary()"
      ],
      "id": "7ba22478-dec4-4be0-be1c-d57f2910598a"
    },
    {
      "cell_type": "code",
      "source": [
        "from tensorflow.keras.callbacks import EarlyStopping\n",
        "from tensorflow.keras.callbacks import ReduceLROnPlateau\n",
        "from tensorflow.keras.callbacks import TensorBoard\n",
        "from tensorflow.keras.callbacks import ModelCheckpoint\n",
        "\n",
        "early_stop = EarlyStopping(monitor='val_loss', min_delta=0.001, patience=10, verbose=1, mode='min', restore_best_weights=True)\n",
        "reduce_lr = ReduceLROnPlateau(monitor='val_loss', factor=0.2, patience=5, verbose=1, mode='min', min_delta=0.0001, cooldown=0, min_lr=0)\n",
        "tensorboard = TensorBoard(log_dir='./logs')\n",
        "checkpoint = ModelCheckpoint('model_best_weights.h5', monitor='val_loss', verbose=1, save_best_only=True, mode='min')"
      ],
      "metadata": {
        "id": "JhRh3pMExqc7"
      },
      "id": "JhRh3pMExqc7",
      "execution_count": 47,
      "outputs": []
    },
    {
      "cell_type": "code",
      "execution_count": 48,
      "metadata": {
        "id": "930dbf21-52f2-4465-a21a-a98c9b20f046",
        "colab": {
          "base_uri": "https://localhost:8080/"
        },
        "outputId": "8ba75b58-8f1e-4707-f51f-0a805f08456c"
      },
      "outputs": [
        {
          "output_type": "stream",
          "name": "stdout",
          "text": [
            "Epoch 1/50\n",
            "45/46 [============================>.] - ETA: 0s - loss: 1.3456 - precision_5: 0.5556 - recall_5: 0.0729 - auc_5: 0.8153 - categorical_accuracy: 0.3868\n",
            "Epoch 1: val_loss improved from inf to 1.11611, saving model to model_best_weights.h5\n",
            "46/46 [==============================] - 21s 137ms/step - loss: 1.3375 - precision_5: 0.5600 - recall_5: 0.0762 - auc_5: 0.8178 - categorical_accuracy: 0.3891 - val_loss: 1.1161 - val_precision_5: 0.6768 - val_recall_5: 0.1762 - val_auc_5: 0.8759 - val_categorical_accuracy: 0.5222 - lr: 0.0010\n",
            "Epoch 2/50\n"
          ]
        },
        {
          "output_type": "stream",
          "name": "stderr",
          "text": [
            "/usr/local/lib/python3.10/dist-packages/keras/src/engine/training.py:3079: UserWarning: You are saving your model as an HDF5 file via `model.save()`. This file format is considered legacy. We recommend using instead the native Keras format, e.g. `model.save('my_model.keras')`.\n",
            "  saving_api.save_model(\n"
          ]
        },
        {
          "output_type": "stream",
          "name": "stdout",
          "text": [
            "45/46 [============================>.] - ETA: 0s - loss: 0.9708 - precision_5: 0.6009 - recall_5: 0.3576 - auc_5: 0.8976 - categorical_accuracy: 0.5639\n",
            "Epoch 2: val_loss improved from 1.11611 to 0.82395, saving model to model_best_weights.h5\n",
            "46/46 [==============================] - 3s 62ms/step - loss: 0.9663 - precision_5: 0.6052 - recall_5: 0.3619 - auc_5: 0.8988 - categorical_accuracy: 0.5673 - val_loss: 0.8239 - val_precision_5: 0.7347 - val_recall_5: 0.5714 - val_auc_5: 0.9330 - val_categorical_accuracy: 0.6905 - lr: 0.0010\n",
            "Epoch 3/50\n",
            "45/46 [============================>.] - ETA: 0s - loss: 0.6982 - precision_5: 0.7559 - recall_5: 0.6840 - auc_5: 0.9497 - categorical_accuracy: 0.7306\n",
            "Epoch 3: val_loss improved from 0.82395 to 0.57220, saving model to model_best_weights.h5\n",
            "46/46 [==============================] - 2s 52ms/step - loss: 0.6943 - precision_5: 0.7566 - recall_5: 0.6850 - auc_5: 0.9503 - categorical_accuracy: 0.7313 - val_loss: 0.5722 - val_precision_5: 0.7821 - val_recall_5: 0.7349 - val_auc_5: 0.9655 - val_categorical_accuracy: 0.7635 - lr: 0.0010\n",
            "Epoch 4/50\n",
            "45/46 [============================>.] - ETA: 0s - loss: 0.5767 - precision_5: 0.7892 - recall_5: 0.7437 - auc_5: 0.9642 - categorical_accuracy: 0.7688\n",
            "Epoch 4: val_loss did not improve from 0.57220\n",
            "46/46 [==============================] - 2s 47ms/step - loss: 0.5841 - precision_5: 0.7845 - recall_5: 0.7381 - auc_5: 0.9634 - categorical_accuracy: 0.7626 - val_loss: 0.9476 - val_precision_5: 0.5508 - val_recall_5: 0.3873 - val_auc_5: 0.8911 - val_categorical_accuracy: 0.4825 - lr: 0.0010\n",
            "Epoch 5/50\n",
            "45/46 [============================>.] - ETA: 0s - loss: 0.6629 - precision_5: 0.7704 - recall_5: 0.6104 - auc_5: 0.9520 - categorical_accuracy: 0.6965\n",
            "Epoch 5: val_loss did not improve from 0.57220\n",
            "46/46 [==============================] - 2s 48ms/step - loss: 0.6600 - precision_5: 0.7721 - recall_5: 0.6129 - auc_5: 0.9525 - categorical_accuracy: 0.6980 - val_loss: 0.6470 - val_precision_5: 0.7924 - val_recall_5: 0.6302 - val_auc_5: 0.9559 - val_categorical_accuracy: 0.7492 - lr: 0.0010\n",
            "Epoch 6/50\n",
            "45/46 [============================>.] - ETA: 0s - loss: 0.5605 - precision_5: 0.7919 - recall_5: 0.7507 - auc_5: 0.9658 - categorical_accuracy: 0.7743\n",
            "Epoch 6: val_loss improved from 0.57220 to 0.54027, saving model to model_best_weights.h5\n",
            "46/46 [==============================] - 2s 52ms/step - loss: 0.5594 - precision_5: 0.7907 - recall_5: 0.7503 - auc_5: 0.9659 - categorical_accuracy: 0.7735 - val_loss: 0.5403 - val_precision_5: 0.7844 - val_recall_5: 0.7508 - val_auc_5: 0.9690 - val_categorical_accuracy: 0.7714 - lr: 0.0010\n",
            "Epoch 7/50\n",
            "45/46 [============================>.] - ETA: 0s - loss: 0.4514 - precision_5: 0.8225 - recall_5: 0.8076 - auc_5: 0.9775 - categorical_accuracy: 0.8174\n",
            "Epoch 7: val_loss improved from 0.54027 to 0.47199, saving model to model_best_weights.h5\n",
            "46/46 [==============================] - 2s 51ms/step - loss: 0.4502 - precision_5: 0.8226 - recall_5: 0.8075 - auc_5: 0.9776 - categorical_accuracy: 0.8177 - val_loss: 0.4720 - val_precision_5: 0.7857 - val_recall_5: 0.7683 - val_auc_5: 0.9753 - val_categorical_accuracy: 0.7730 - lr: 0.0010\n",
            "Epoch 8/50\n",
            "45/46 [============================>.] - ETA: 0s - loss: 0.4071 - precision_5: 0.8322 - recall_5: 0.8194 - auc_5: 0.9811 - categorical_accuracy: 0.8299\n",
            "Epoch 8: val_loss improved from 0.47199 to 0.46725, saving model to model_best_weights.h5\n",
            "46/46 [==============================] - 2s 51ms/step - loss: 0.4044 - precision_5: 0.8336 - recall_5: 0.8211 - auc_5: 0.9814 - categorical_accuracy: 0.8313 - val_loss: 0.4672 - val_precision_5: 0.7961 - val_recall_5: 0.7873 - val_auc_5: 0.9751 - val_categorical_accuracy: 0.7921 - lr: 0.0010\n",
            "Epoch 9/50\n",
            "45/46 [============================>.] - ETA: 0s - loss: 0.3958 - precision_5: 0.8307 - recall_5: 0.8243 - auc_5: 0.9821 - categorical_accuracy: 0.8299\n",
            "Epoch 9: val_loss improved from 0.46725 to 0.40926, saving model to model_best_weights.h5\n",
            "46/46 [==============================] - 2s 51ms/step - loss: 0.3938 - precision_5: 0.8328 - recall_5: 0.8265 - auc_5: 0.9822 - categorical_accuracy: 0.8320 - val_loss: 0.4093 - val_precision_5: 0.8403 - val_recall_5: 0.8270 - val_auc_5: 0.9817 - val_categorical_accuracy: 0.8333 - lr: 0.0010\n",
            "Epoch 10/50\n",
            "45/46 [============================>.] - ETA: 0s - loss: 0.3377 - precision_5: 0.8715 - recall_5: 0.8667 - auc_5: 0.9870 - categorical_accuracy: 0.8681\n",
            "Epoch 10: val_loss improved from 0.40926 to 0.40429, saving model to model_best_weights.h5\n",
            "46/46 [==============================] - 2s 52ms/step - loss: 0.3356 - precision_5: 0.8728 - recall_5: 0.8680 - auc_5: 0.9872 - categorical_accuracy: 0.8694 - val_loss: 0.4043 - val_precision_5: 0.8169 - val_recall_5: 0.8143 - val_auc_5: 0.9812 - val_categorical_accuracy: 0.8159 - lr: 0.0010\n",
            "Epoch 11/50\n",
            "45/46 [============================>.] - ETA: 0s - loss: 0.2918 - precision_5: 0.8786 - recall_5: 0.8743 - auc_5: 0.9901 - categorical_accuracy: 0.8757\n",
            "Epoch 11: val_loss improved from 0.40429 to 0.37446, saving model to model_best_weights.h5\n",
            "46/46 [==============================] - 2s 50ms/step - loss: 0.2914 - precision_5: 0.8776 - recall_5: 0.8735 - auc_5: 0.9901 - categorical_accuracy: 0.8748 - val_loss: 0.3745 - val_precision_5: 0.8347 - val_recall_5: 0.8333 - val_auc_5: 0.9833 - val_categorical_accuracy: 0.8333 - lr: 0.0010\n",
            "Epoch 12/50\n",
            "45/46 [============================>.] - ETA: 0s - loss: 0.4227 - precision_5: 0.8349 - recall_5: 0.8181 - auc_5: 0.9799 - categorical_accuracy: 0.8257\n",
            "Epoch 12: val_loss did not improve from 0.37446\n",
            "46/46 [==============================] - 2s 47ms/step - loss: 0.4240 - precision_5: 0.8355 - recall_5: 0.8156 - auc_5: 0.9798 - categorical_accuracy: 0.8238 - val_loss: 0.5273 - val_precision_5: 0.8090 - val_recall_5: 0.7667 - val_auc_5: 0.9695 - val_categorical_accuracy: 0.7952 - lr: 0.0010\n",
            "Epoch 13/50\n",
            "45/46 [============================>.] - ETA: 0s - loss: 0.4926 - precision_5: 0.8210 - recall_5: 0.7771 - auc_5: 0.9732 - categorical_accuracy: 0.8028\n",
            "Epoch 13: val_loss did not improve from 0.37446\n",
            "46/46 [==============================] - 2s 47ms/step - loss: 0.4964 - precision_5: 0.8182 - recall_5: 0.7748 - auc_5: 0.9729 - categorical_accuracy: 0.8007 - val_loss: 0.5735 - val_precision_5: 0.7614 - val_recall_5: 0.7444 - val_auc_5: 0.9629 - val_categorical_accuracy: 0.7476 - lr: 0.0010\n",
            "Epoch 14/50\n",
            "45/46 [============================>.] - ETA: 0s - loss: 0.5049 - precision_5: 0.8170 - recall_5: 0.7222 - auc_5: 0.9717 - categorical_accuracy: 0.7757\n",
            "Epoch 14: val_loss did not improve from 0.37446\n",
            "46/46 [==============================] - 2s 47ms/step - loss: 0.5048 - precision_5: 0.8169 - recall_5: 0.7224 - auc_5: 0.9716 - categorical_accuracy: 0.7748 - val_loss: 0.4895 - val_precision_5: 0.8444 - val_recall_5: 0.7063 - val_auc_5: 0.9729 - val_categorical_accuracy: 0.7683 - lr: 0.0010\n",
            "Epoch 15/50\n",
            "45/46 [============================>.] - ETA: 0s - loss: 0.4832 - precision_5: 0.8559 - recall_5: 0.7340 - auc_5: 0.9743 - categorical_accuracy: 0.7917\n",
            "Epoch 15: val_loss did not improve from 0.37446\n",
            "46/46 [==============================] - 2s 47ms/step - loss: 0.4816 - precision_5: 0.8559 - recall_5: 0.7354 - auc_5: 0.9744 - categorical_accuracy: 0.7925 - val_loss: 0.4482 - val_precision_5: 0.8378 - val_recall_5: 0.7460 - val_auc_5: 0.9782 - val_categorical_accuracy: 0.7889 - lr: 0.0010\n",
            "Epoch 16/50\n",
            "45/46 [============================>.] - ETA: 0s - loss: 0.3313 - precision_5: 0.9080 - recall_5: 0.8153 - auc_5: 0.9885 - categorical_accuracy: 0.8667\n",
            "Epoch 16: val_loss improved from 0.37446 to 0.30458, saving model to model_best_weights.h5\n",
            "46/46 [==============================] - 2s 51ms/step - loss: 0.3297 - precision_5: 0.9098 - recall_5: 0.8163 - auc_5: 0.9887 - categorical_accuracy: 0.8687 - val_loss: 0.3046 - val_precision_5: 0.9145 - val_recall_5: 0.8492 - val_auc_5: 0.9907 - val_categorical_accuracy: 0.8921 - lr: 0.0010\n",
            "Epoch 17/50\n",
            "45/46 [============================>.] - ETA: 0s - loss: 0.3115 - precision_5: 0.8943 - recall_5: 0.8458 - auc_5: 0.9893 - categorical_accuracy: 0.8694\n",
            "Epoch 17: val_loss did not improve from 0.30458\n",
            "46/46 [==============================] - 2s 47ms/step - loss: 0.3082 - precision_5: 0.8958 - recall_5: 0.8483 - auc_5: 0.9895 - categorical_accuracy: 0.8714 - val_loss: 0.3519 - val_precision_5: 0.8607 - val_recall_5: 0.8333 - val_auc_5: 0.9868 - val_categorical_accuracy: 0.8492 - lr: 0.0010\n",
            "Epoch 18/50\n",
            "45/46 [============================>.] - ETA: 0s - loss: 0.2917 - precision_5: 0.8960 - recall_5: 0.8493 - auc_5: 0.9905 - categorical_accuracy: 0.8750\n",
            "Epoch 18: val_loss improved from 0.30458 to 0.26549, saving model to model_best_weights.h5\n",
            "46/46 [==============================] - 2s 51ms/step - loss: 0.2904 - precision_5: 0.8953 - recall_5: 0.8497 - auc_5: 0.9906 - categorical_accuracy: 0.8748 - val_loss: 0.2655 - val_precision_5: 0.9067 - val_recall_5: 0.8794 - val_auc_5: 0.9922 - val_categorical_accuracy: 0.8937 - lr: 0.0010\n",
            "Epoch 19/50\n",
            "45/46 [============================>.] - ETA: 0s - loss: 0.2214 - precision_5: 0.9302 - recall_5: 0.9167 - auc_5: 0.9940 - categorical_accuracy: 0.9215\n",
            "Epoch 19: val_loss improved from 0.26549 to 0.24364, saving model to model_best_weights.h5\n",
            "46/46 [==============================] - 2s 51ms/step - loss: 0.2196 - precision_5: 0.9310 - recall_5: 0.9177 - auc_5: 0.9941 - categorical_accuracy: 0.9224 - val_loss: 0.2436 - val_precision_5: 0.9018 - val_recall_5: 0.8889 - val_auc_5: 0.9936 - val_categorical_accuracy: 0.8937 - lr: 0.0010\n",
            "Epoch 20/50\n",
            "45/46 [============================>.] - ETA: 0s - loss: 0.2069 - precision_5: 0.9344 - recall_5: 0.9299 - auc_5: 0.9950 - categorical_accuracy: 0.9312\n",
            "Epoch 20: val_loss did not improve from 0.24364\n",
            "46/46 [==============================] - 2s 47ms/step - loss: 0.2054 - precision_5: 0.9350 - recall_5: 0.9299 - auc_5: 0.9951 - categorical_accuracy: 0.9320 - val_loss: 0.2984 - val_precision_5: 0.8800 - val_recall_5: 0.8730 - val_auc_5: 0.9901 - val_categorical_accuracy: 0.8762 - lr: 0.0010\n",
            "Epoch 21/50\n",
            "45/46 [============================>.] - ETA: 0s - loss: 0.2181 - precision_5: 0.9284 - recall_5: 0.9187 - auc_5: 0.9938 - categorical_accuracy: 0.9243\n",
            "Epoch 21: val_loss improved from 0.24364 to 0.18960, saving model to model_best_weights.h5\n",
            "46/46 [==============================] - 2s 52ms/step - loss: 0.2159 - precision_5: 0.9298 - recall_5: 0.9197 - auc_5: 0.9939 - categorical_accuracy: 0.9259 - val_loss: 0.1896 - val_precision_5: 0.9457 - val_recall_5: 0.9397 - val_auc_5: 0.9946 - val_categorical_accuracy: 0.9429 - lr: 0.0010\n",
            "Epoch 22/50\n",
            "45/46 [============================>.] - ETA: 0s - loss: 0.2194 - precision_5: 0.9184 - recall_5: 0.9146 - auc_5: 0.9943 - categorical_accuracy: 0.9160\n",
            "Epoch 22: val_loss did not improve from 0.18960\n",
            "46/46 [==============================] - 2s 47ms/step - loss: 0.2171 - precision_5: 0.9187 - recall_5: 0.9150 - auc_5: 0.9944 - categorical_accuracy: 0.9163 - val_loss: 0.2047 - val_precision_5: 0.9299 - val_recall_5: 0.9270 - val_auc_5: 0.9948 - val_categorical_accuracy: 0.9302 - lr: 0.0010\n",
            "Epoch 23/50\n",
            "45/46 [============================>.] - ETA: 0s - loss: 0.1218 - precision_5: 0.9604 - recall_5: 0.9597 - auc_5: 0.9977 - categorical_accuracy: 0.9597\n",
            "Epoch 23: val_loss improved from 0.18960 to 0.15208, saving model to model_best_weights.h5\n",
            "46/46 [==============================] - 2s 51ms/step - loss: 0.1202 - precision_5: 0.9612 - recall_5: 0.9605 - auc_5: 0.9978 - categorical_accuracy: 0.9605 - val_loss: 0.1521 - val_precision_5: 0.9426 - val_recall_5: 0.9381 - val_auc_5: 0.9967 - val_categorical_accuracy: 0.9413 - lr: 0.0010\n",
            "Epoch 24/50\n",
            "45/46 [============================>.] - ETA: 0s - loss: 0.1482 - precision_5: 0.9520 - recall_5: 0.9507 - auc_5: 0.9959 - categorical_accuracy: 0.9514\n",
            "Epoch 24: val_loss did not improve from 0.15208\n",
            "46/46 [==============================] - 2s 47ms/step - loss: 0.1468 - precision_5: 0.9523 - recall_5: 0.9510 - auc_5: 0.9960 - categorical_accuracy: 0.9517 - val_loss: 0.2890 - val_precision_5: 0.8871 - val_recall_5: 0.8857 - val_auc_5: 0.9911 - val_categorical_accuracy: 0.8857 - lr: 0.0010\n",
            "Epoch 25/50\n",
            "45/46 [============================>.] - ETA: 0s - loss: 0.1299 - precision_5: 0.9569 - recall_5: 0.9556 - auc_5: 0.9966 - categorical_accuracy: 0.9556\n",
            "Epoch 25: val_loss improved from 0.15208 to 0.08854, saving model to model_best_weights.h5\n",
            "46/46 [==============================] - 2s 51ms/step - loss: 0.1276 - precision_5: 0.9578 - recall_5: 0.9565 - auc_5: 0.9967 - categorical_accuracy: 0.9565 - val_loss: 0.0885 - val_precision_5: 0.9825 - val_recall_5: 0.9810 - val_auc_5: 0.9981 - val_categorical_accuracy: 0.9825 - lr: 0.0010\n",
            "Epoch 26/50\n",
            "45/46 [============================>.] - ETA: 0s - loss: 0.0799 - precision_5: 0.9778 - recall_5: 0.9771 - auc_5: 0.9985 - categorical_accuracy: 0.9771\n",
            "Epoch 26: val_loss did not improve from 0.08854\n",
            "46/46 [==============================] - 2s 47ms/step - loss: 0.0788 - precision_5: 0.9782 - recall_5: 0.9776 - auc_5: 0.9985 - categorical_accuracy: 0.9776 - val_loss: 0.0888 - val_precision_5: 0.9714 - val_recall_5: 0.9698 - val_auc_5: 0.9984 - val_categorical_accuracy: 0.9698 - lr: 0.0010\n",
            "Epoch 27/50\n",
            "45/46 [============================>.] - ETA: 0s - loss: 0.0620 - precision_5: 0.9792 - recall_5: 0.9792 - auc_5: 0.9994 - categorical_accuracy: 0.9792\n",
            "Epoch 27: val_loss did not improve from 0.08854\n",
            "46/46 [==============================] - 2s 47ms/step - loss: 0.0613 - precision_5: 0.9796 - recall_5: 0.9796 - auc_5: 0.9995 - categorical_accuracy: 0.9796 - val_loss: 0.1020 - val_precision_5: 0.9683 - val_recall_5: 0.9683 - val_auc_5: 0.9981 - val_categorical_accuracy: 0.9683 - lr: 0.0010\n",
            "Epoch 28/50\n",
            "45/46 [============================>.] - ETA: 0s - loss: 0.0579 - precision_5: 0.9847 - recall_5: 0.9840 - auc_5: 0.9991 - categorical_accuracy: 0.9840\n",
            "Epoch 28: val_loss improved from 0.08854 to 0.07889, saving model to model_best_weights.h5\n",
            "46/46 [==============================] - 2s 51ms/step - loss: 0.0569 - precision_5: 0.9850 - recall_5: 0.9844 - auc_5: 0.9991 - categorical_accuracy: 0.9844 - val_loss: 0.0789 - val_precision_5: 0.9794 - val_recall_5: 0.9794 - val_auc_5: 0.9977 - val_categorical_accuracy: 0.9794 - lr: 0.0010\n",
            "Epoch 29/50\n",
            "45/46 [============================>.] - ETA: 0s - loss: 0.1286 - precision_5: 0.9514 - recall_5: 0.9507 - auc_5: 0.9976 - categorical_accuracy: 0.9514\n",
            "Epoch 29: val_loss did not improve from 0.07889\n",
            "46/46 [==============================] - 2s 47ms/step - loss: 0.1266 - precision_5: 0.9523 - recall_5: 0.9517 - auc_5: 0.9977 - categorical_accuracy: 0.9524 - val_loss: 0.0982 - val_precision_5: 0.9745 - val_recall_5: 0.9714 - val_auc_5: 0.9980 - val_categorical_accuracy: 0.9730 - lr: 0.0010\n",
            "Epoch 30/50\n",
            "45/46 [============================>.] - ETA: 0s - loss: 0.0603 - precision_5: 0.9805 - recall_5: 0.9778 - auc_5: 0.9990 - categorical_accuracy: 0.9792\n",
            "Epoch 30: val_loss improved from 0.07889 to 0.06203, saving model to model_best_weights.h5\n",
            "46/46 [==============================] - 2s 51ms/step - loss: 0.0591 - precision_5: 0.9809 - recall_5: 0.9782 - auc_5: 0.9991 - categorical_accuracy: 0.9796 - val_loss: 0.0620 - val_precision_5: 0.9841 - val_recall_5: 0.9841 - val_auc_5: 0.9987 - val_categorical_accuracy: 0.9841 - lr: 0.0010\n",
            "Epoch 31/50\n",
            "45/46 [============================>.] - ETA: 0s - loss: 0.0473 - precision_5: 0.9861 - recall_5: 0.9861 - auc_5: 0.9996 - categorical_accuracy: 0.9861\n",
            "Epoch 31: val_loss improved from 0.06203 to 0.06071, saving model to model_best_weights.h5\n",
            "46/46 [==============================] - 2s 52ms/step - loss: 0.0465 - precision_5: 0.9864 - recall_5: 0.9864 - auc_5: 0.9996 - categorical_accuracy: 0.9864 - val_loss: 0.0607 - val_precision_5: 0.9857 - val_recall_5: 0.9841 - val_auc_5: 0.9994 - val_categorical_accuracy: 0.9841 - lr: 0.0010\n",
            "Epoch 32/50\n",
            "45/46 [============================>.] - ETA: 0s - loss: 0.0349 - precision_5: 0.9896 - recall_5: 0.9896 - auc_5: 0.9995 - categorical_accuracy: 0.9896\n",
            "Epoch 32: val_loss did not improve from 0.06071\n",
            "46/46 [==============================] - 2s 47ms/step - loss: 0.0343 - precision_5: 0.9898 - recall_5: 0.9898 - auc_5: 0.9995 - categorical_accuracy: 0.9898 - val_loss: 0.0724 - val_precision_5: 0.9746 - val_recall_5: 0.9746 - val_auc_5: 0.9986 - val_categorical_accuracy: 0.9746 - lr: 0.0010\n",
            "Epoch 33/50\n",
            "45/46 [============================>.] - ETA: 0s - loss: 0.0206 - precision_5: 0.9958 - recall_5: 0.9958 - auc_5: 0.9999 - categorical_accuracy: 0.9958\n",
            "Epoch 33: val_loss improved from 0.06071 to 0.03103, saving model to model_best_weights.h5\n",
            "46/46 [==============================] - 2s 52ms/step - loss: 0.0202 - precision_5: 0.9959 - recall_5: 0.9959 - auc_5: 0.9999 - categorical_accuracy: 0.9959 - val_loss: 0.0310 - val_precision_5: 0.9921 - val_recall_5: 0.9921 - val_auc_5: 0.9991 - val_categorical_accuracy: 0.9921 - lr: 0.0010\n",
            "Epoch 34/50\n",
            "45/46 [============================>.] - ETA: 0s - loss: 0.0480 - precision_5: 0.9854 - recall_5: 0.9847 - auc_5: 0.9993 - categorical_accuracy: 0.9854\n",
            "Epoch 34: val_loss did not improve from 0.03103\n",
            "46/46 [==============================] - 2s 47ms/step - loss: 0.0479 - precision_5: 0.9857 - recall_5: 0.9850 - auc_5: 0.9993 - categorical_accuracy: 0.9857 - val_loss: 0.1159 - val_precision_5: 0.9412 - val_recall_5: 0.9397 - val_auc_5: 0.9979 - val_categorical_accuracy: 0.9397 - lr: 0.0010\n",
            "Epoch 35/50\n",
            "45/46 [============================>.] - ETA: 0s - loss: 0.0825 - precision_5: 0.9681 - recall_5: 0.9681 - auc_5: 0.9992 - categorical_accuracy: 0.9681\n",
            "Epoch 35: val_loss did not improve from 0.03103\n",
            "46/46 [==============================] - 2s 47ms/step - loss: 0.0809 - precision_5: 0.9687 - recall_5: 0.9687 - auc_5: 0.9993 - categorical_accuracy: 0.9687 - val_loss: 0.0819 - val_precision_5: 0.9794 - val_recall_5: 0.9794 - val_auc_5: 0.9967 - val_categorical_accuracy: 0.9794 - lr: 0.0010\n",
            "Epoch 36/50\n",
            "45/46 [============================>.] - ETA: 0s - loss: 0.0806 - precision_5: 0.9764 - recall_5: 0.9764 - auc_5: 0.9978 - categorical_accuracy: 0.9764\n",
            "Epoch 36: val_loss did not improve from 0.03103\n",
            "46/46 [==============================] - 2s 48ms/step - loss: 0.0791 - precision_5: 0.9769 - recall_5: 0.9769 - auc_5: 0.9978 - categorical_accuracy: 0.9769 - val_loss: 0.0950 - val_precision_5: 0.9729 - val_recall_5: 0.9698 - val_auc_5: 0.9971 - val_categorical_accuracy: 0.9714 - lr: 0.0010\n",
            "Epoch 37/50\n",
            "45/46 [============================>.] - ETA: 0s - loss: 0.1512 - precision_5: 0.9541 - recall_5: 0.9535 - auc_5: 0.9961 - categorical_accuracy: 0.9542\n",
            "Epoch 37: val_loss did not improve from 0.03103\n",
            "46/46 [==============================] - 2s 47ms/step - loss: 0.1499 - precision_5: 0.9537 - recall_5: 0.9531 - auc_5: 0.9961 - categorical_accuracy: 0.9537 - val_loss: 0.1391 - val_precision_5: 0.9618 - val_recall_5: 0.9603 - val_auc_5: 0.9946 - val_categorical_accuracy: 0.9619 - lr: 0.0010\n",
            "Epoch 38/50\n",
            "45/46 [============================>.] - ETA: 0s - loss: 0.1072 - precision_5: 0.9652 - recall_5: 0.9618 - auc_5: 0.9976 - categorical_accuracy: 0.9632\n",
            "Epoch 38: ReduceLROnPlateau reducing learning rate to 0.00020000000949949026.\n",
            "\n",
            "Epoch 38: val_loss did not improve from 0.03103\n",
            "46/46 [==============================] - 2s 47ms/step - loss: 0.1073 - precision_5: 0.9652 - recall_5: 0.9619 - auc_5: 0.9977 - categorical_accuracy: 0.9633 - val_loss: 0.1536 - val_precision_5: 0.9492 - val_recall_5: 0.9492 - val_auc_5: 0.9962 - val_categorical_accuracy: 0.9492 - lr: 0.0010\n",
            "Epoch 39/50\n",
            "45/46 [============================>.] - ETA: 0s - loss: 0.0468 - precision_5: 0.9896 - recall_5: 0.9882 - auc_5: 0.9997 - categorical_accuracy: 0.9889\n",
            "Epoch 39: val_loss did not improve from 0.03103\n",
            "46/46 [==============================] - 2s 47ms/step - loss: 0.0473 - precision_5: 0.9891 - recall_5: 0.9878 - auc_5: 0.9997 - categorical_accuracy: 0.9884 - val_loss: 0.0599 - val_precision_5: 0.9841 - val_recall_5: 0.9810 - val_auc_5: 0.9988 - val_categorical_accuracy: 0.9825 - lr: 2.0000e-04\n",
            "Epoch 40/50\n",
            "45/46 [============================>.] - ETA: 0s - loss: 0.0249 - precision_5: 0.9944 - recall_5: 0.9944 - auc_5: 0.9999 - categorical_accuracy: 0.9944\n",
            "Epoch 40: val_loss did not improve from 0.03103\n",
            "46/46 [==============================] - 2s 47ms/step - loss: 0.0246 - precision_5: 0.9946 - recall_5: 0.9946 - auc_5: 0.9999 - categorical_accuracy: 0.9946 - val_loss: 0.0547 - val_precision_5: 0.9857 - val_recall_5: 0.9857 - val_auc_5: 0.9989 - val_categorical_accuracy: 0.9857 - lr: 2.0000e-04\n",
            "Epoch 41/50\n",
            "45/46 [============================>.] - ETA: 0s - loss: 0.0212 - precision_5: 0.9951 - recall_5: 0.9951 - auc_5: 0.9999 - categorical_accuracy: 0.9951\n",
            "Epoch 41: val_loss did not improve from 0.03103\n",
            "46/46 [==============================] - 2s 48ms/step - loss: 0.0209 - precision_5: 0.9952 - recall_5: 0.9952 - auc_5: 0.9999 - categorical_accuracy: 0.9952 - val_loss: 0.0555 - val_precision_5: 0.9873 - val_recall_5: 0.9873 - val_auc_5: 0.9989 - val_categorical_accuracy: 0.9873 - lr: 2.0000e-04\n",
            "Epoch 42/50\n",
            "45/46 [============================>.] - ETA: 0s - loss: 0.0176 - precision_5: 0.9951 - recall_5: 0.9951 - auc_5: 1.0000 - categorical_accuracy: 0.9951\n",
            "Epoch 42: val_loss did not improve from 0.03103\n",
            "46/46 [==============================] - 2s 48ms/step - loss: 0.0174 - precision_5: 0.9952 - recall_5: 0.9952 - auc_5: 1.0000 - categorical_accuracy: 0.9952 - val_loss: 0.0509 - val_precision_5: 0.9873 - val_recall_5: 0.9873 - val_auc_5: 0.9981 - val_categorical_accuracy: 0.9873 - lr: 2.0000e-04\n",
            "Epoch 43/50\n",
            "45/46 [============================>.] - ETA: 0s - loss: 0.0157 - precision_5: 0.9972 - recall_5: 0.9972 - auc_5: 1.0000 - categorical_accuracy: 0.9972Restoring model weights from the end of the best epoch: 33.\n",
            "\n",
            "Epoch 43: ReduceLROnPlateau reducing learning rate to 4.0000001899898055e-05.\n",
            "\n",
            "Epoch 43: val_loss did not improve from 0.03103\n",
            "46/46 [==============================] - 2s 49ms/step - loss: 0.0155 - precision_5: 0.9973 - recall_5: 0.9973 - auc_5: 1.0000 - categorical_accuracy: 0.9973 - val_loss: 0.0500 - val_precision_5: 0.9905 - val_recall_5: 0.9905 - val_auc_5: 0.9981 - val_categorical_accuracy: 0.9905 - lr: 2.0000e-04\n",
            "Epoch 43: early stopping\n"
          ]
        }
      ],
      "source": [
        "with tf.device('/GPU:0'):\n",
        "  model.fit([X_pose_train, X_face_train ,X_rh_train, X_lh_train], y_train, epochs=50,validation_split=0.3, batch_size=32,callbacks=[early_stop, reduce_lr, tensorboard, checkpoint])"
      ],
      "id": "930dbf21-52f2-4465-a21a-a98c9b20f046"
    },
    {
      "cell_type": "code",
      "execution_count": 24,
      "metadata": {
        "id": "849e676b-a563-4af9-b89a-c1ff1bbfbbb9"
      },
      "outputs": [],
      "source": [
        "model.save('./model.keras')"
      ],
      "id": "849e676b-a563-4af9-b89a-c1ff1bbfbbb9"
    },
    {
      "cell_type": "code",
      "source": [
        "#from numba import cuda\n",
        "#device = cuda.get_current_device()\n",
        "#device.reset()"
      ],
      "metadata": {
        "id": "L0TF2sbRw33p"
      },
      "id": "L0TF2sbRw33p",
      "execution_count": 25,
      "outputs": []
    },
    {
      "cell_type": "code",
      "source": [
        "with tf.device('/GPU:0'):\n",
        "  y_pred = model.predict([X_pose_test, X_face_test, X_lh_test, X_rh_test])"
      ],
      "metadata": {
        "colab": {
          "base_uri": "https://localhost:8080/"
        },
        "id": "MJjbiK6uxKxq",
        "outputId": "5a5b7e0f-0c35-4b03-9a52-ba137bb06c80"
      },
      "id": "MJjbiK6uxKxq",
      "execution_count": 49,
      "outputs": [
        {
          "output_type": "stream",
          "name": "stdout",
          "text": [
            "29/29 [==============================] - 3s 22ms/step\n"
          ]
        }
      ]
    },
    {
      "cell_type": "code",
      "source": [
        "y_pred = np.argmax(y_pred, axis=1).tolist()"
      ],
      "metadata": {
        "id": "tgv4l9NNTQaS"
      },
      "id": "tgv4l9NNTQaS",
      "execution_count": 50,
      "outputs": []
    },
    {
      "cell_type": "code",
      "source": [
        "y_true = np.argmax(y_test, axis=1).tolist()"
      ],
      "metadata": {
        "id": "tN0wMxQzTZux"
      },
      "id": "tN0wMxQzTZux",
      "execution_count": 51,
      "outputs": []
    },
    {
      "cell_type": "code",
      "source": [
        "from sklearn.metrics import multilabel_confusion_matrix, accuracy_score,ConfusionMatrixDisplay, confusion_matrix\n"
      ],
      "metadata": {
        "id": "5ux1vwI1Tdiy"
      },
      "id": "5ux1vwI1Tdiy",
      "execution_count": 52,
      "outputs": []
    },
    {
      "cell_type": "code",
      "source": [
        "confusion_matrices = confusion_matrix(y_true, y_pred,labels=np.unique(y_pred), normalize='true')"
      ],
      "metadata": {
        "id": "QQ2ptTIVTgw0"
      },
      "id": "QQ2ptTIVTgw0",
      "execution_count": 53,
      "outputs": []
    },
    {
      "cell_type": "code",
      "source": [
        "\n",
        "\n",
        "confusion_matrices\n",
        "\n"
      ],
      "metadata": {
        "colab": {
          "base_uri": "https://localhost:8080/"
        },
        "id": "4QW98ssOTjZa",
        "outputId": "8b8c0414-cc2b-4026-9c2f-97768793b060"
      },
      "id": "4QW98ssOTjZa",
      "execution_count": 54,
      "outputs": [
        {
          "output_type": "execute_result",
          "data": {
            "text/plain": [
              "array([[0.94086022, 0.        , 0.        , 0.        , 0.05913978],\n",
              "       [0.00574713, 0.99425287, 0.        , 0.        , 0.        ],\n",
              "       [0.1011236 , 0.        , 0.78651685, 0.        , 0.11235955],\n",
              "       [0.01169591, 0.02339181, 0.00584795, 0.93567251, 0.02339181],\n",
              "       [0.0052356 , 0.        , 0.0052356 , 0.06806283, 0.92146597]])"
            ]
          },
          "metadata": {},
          "execution_count": 54
        }
      ]
    },
    {
      "cell_type": "code",
      "source": [
        "disp = ConfusionMatrixDisplay(confusion_matrices, display_labels=np.unique(y_pred))\n",
        "disp.plot()\n"
      ],
      "metadata": {
        "colab": {
          "base_uri": "https://localhost:8080/",
          "height": 466
        },
        "id": "ExuXLl75Tlvy",
        "outputId": "c6677c19-a9b4-4af5-dd34-91b31b40f2ea"
      },
      "id": "ExuXLl75Tlvy",
      "execution_count": 55,
      "outputs": [
        {
          "output_type": "execute_result",
          "data": {
            "text/plain": [
              "<sklearn.metrics._plot.confusion_matrix.ConfusionMatrixDisplay at 0x7ad3cc1d8df0>"
            ]
          },
          "metadata": {},
          "execution_count": 55
        },
        {
          "output_type": "display_data",
          "data": {
            "text/plain": [
              "<Figure size 640x480 with 2 Axes>"
            ],
            "image/png": "[encoded data removed]"
          },
          "metadata": {}
        }
      ]
    },
    {
      "cell_type": "code",
      "source": [],
      "metadata": {
        "id": "H3UnHBQjXhpD"
      },
      "id": "H3UnHBQjXhpD",
      "execution_count": 32,
      "outputs": []
    }
  ],
  "metadata": {
    "accelerator": "GPU",
    "colab": {
      "machine_shape": "hm",
      "provenance": []
    },
    "kernelspec": {
      "display_name": "Python 3",
      "name": "python3"
    },
    "language_info": {
      "codemirror_mode": {
        "name": "ipython",
        "version": 3
      },
      "file_extension": ".py",
      "mimetype": "text/x-python",
      "name": "python",
      "nbconvert_exporter": "python",
      "pygments_lexer": "ipython3",
      "version": "3.10.9"
    }
  },
  "nbformat": 4,
  "nbformat_minor": 5
}