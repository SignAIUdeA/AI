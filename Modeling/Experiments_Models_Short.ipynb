{
 "cells": [
  {
   "cell_type": "markdown",
   "id": "47c46c3e-59bb-4d18-a4d9-31bed86fa2b6",
   "metadata": {},
   "source": [
    "# First Iteration with Recurrent Neural Networks and Post Padding"
   ]
  },
  {
   "cell_type": "code",
   "execution_count": 1,
   "id": "c235c84e-96df-4c9c-af66-4c495812b9b4",
   "metadata": {},
   "outputs": [
    {
     "name": "stderr",
     "output_type": "stream",
     "text": [
      "2023-10-24 22:21:39.841966: I tensorflow/tsl/cuda/cudart_stub.cc:28] Could not find cuda drivers on your machine, GPU will not be used.\n",
      "2023-10-24 22:21:40.561523: I tensorflow/tsl/cuda/cudart_stub.cc:28] Could not find cuda drivers on your machine, GPU will not be used.\n",
      "2023-10-24 22:21:40.565869: I tensorflow/core/platform/cpu_feature_guard.cc:182] This TensorFlow binary is optimized to use available CPU instructions in performance-critical operations.\n",
      "To enable the following instructions: AVX2 FMA, in other operations, rebuild TensorFlow with the appropriate compiler flags.\n",
      "2023-10-24 22:21:44.491971: W tensorflow/compiler/tf2tensorrt/utils/py_utils.cc:38] TF-TRT Warning: Could not find TensorRT\n"
     ]
    }
   ],
   "source": [
    "import pandas as pd\n",
    "import numpy as np\n",
    "from progress.bar import Bar\n",
    "#from hmmlearn import hmm\n",
    "from sklearn.model_selection import train_test_split\n",
    "from tensorflow.keras.models import Sequential\n",
    "from tensorflow.keras.layers import LSTM, Dense\n",
    "from tensorflow.keras.utils import to_categorical, pad_sequences"
   ]
  },
  {
   "cell_type": "code",
   "execution_count": 2,
   "id": "16c960a1-e3e9-4203-aaa9-ecbb7bb9db51",
   "metadata": {},
   "outputs": [
    {
     "data": {
      "text/html": [
       "<div>\n",
       "<style scoped>\n",
       "    .dataframe tbody tr th:only-of-type {\n",
       "        vertical-align: middle;\n",
       "    }\n",
       "\n",
       "    .dataframe tbody tr th {\n",
       "        vertical-align: top;\n",
       "    }\n",
       "\n",
       "    .dataframe thead th {\n",
       "        text-align: right;\n",
       "    }\n",
       "</style>\n",
       "<table border=\"1\" class=\"dataframe\">\n",
       "  <thead>\n",
       "    <tr style=\"text-align: right;\">\n",
       "      <th></th>\n",
       "      <th>Class</th>\n",
       "    </tr>\n",
       "    <tr>\n",
       "      <th>File</th>\n",
       "      <th></th>\n",
       "    </tr>\n",
       "  </thead>\n",
       "  <tbody>\n",
       "    <tr>\n",
       "      <th>S1V3C1M3A Clip166.npy</th>\n",
       "      <td>1</td>\n",
       "    </tr>\n",
       "    <tr>\n",
       "      <th>S1V1C1M1A Clip18.npy</th>\n",
       "      <td>1</td>\n",
       "    </tr>\n",
       "    <tr>\n",
       "      <th>S1V4C1M4A Clip241.npy</th>\n",
       "      <td>1</td>\n",
       "    </tr>\n",
       "    <tr>\n",
       "      <th>S1V4C1M4A Clip239.npy</th>\n",
       "      <td>1</td>\n",
       "    </tr>\n",
       "    <tr>\n",
       "      <th>S1V4C1M4A Clip245.npy</th>\n",
       "      <td>1</td>\n",
       "    </tr>\n",
       "  </tbody>\n",
       "</table>\n",
       "</div>"
      ],
      "text/plain": [
       "                       Class\n",
       "File                        \n",
       "S1V3C1M3A Clip166.npy      1\n",
       "S1V1C1M1A Clip18.npy       1\n",
       "S1V4C1M4A Clip241.npy      1\n",
       "S1V4C1M4A Clip239.npy      1\n",
       "S1V4C1M4A Clip245.npy      1"
      ]
     },
     "execution_count": 2,
     "metadata": {},
     "output_type": "execute_result"
    }
   ],
   "source": [
    "df = pd.read_csv(\"./Metadata/data_curated.csv\")\n",
    "df.set_index(\"File\", inplace=True)\n",
    "df.head()"
   ]
  },
  {
   "cell_type": "code",
   "execution_count": 3,
   "id": "a82d777c-f87b-499d-b809-e30ba9bf1138",
   "metadata": {},
   "outputs": [],
   "source": [
    "X_list = []\n",
    "y_list = []\n",
    "with Bar(\"Processing...\", max = df.size) as bar:\n",
    "    for file_name, class_name in df.iterrows():\n",
    "        np_element = np.load(f\"../Clean_Data/{class_name.iloc[0]}/{file_name}\")[:33,:]\n",
    "        X_list.append(np_element)#[:33,:])\n",
    "        y_list.append(class_name.iloc[0])\n",
    "        bar.next()"
   ]
  },
  {
   "cell_type": "code",
   "execution_count": 4,
   "id": "37618267-575a-4e7b-95e1-936773813465",
   "metadata": {},
   "outputs": [
    {
     "name": "stdout",
     "output_type": "stream",
     "text": [
      "33\n"
     ]
    }
   ],
   "source": [
    "min_arr = 1000\n",
    "for arr in X_list:\n",
    "    aux_arr = arr.shape[0]\n",
    "    if aux_arr < min_arr:\n",
    "        min_arr = aux_arr\n",
    "print(min_arr)"
   ]
  },
  {
   "cell_type": "code",
   "execution_count": 5,
   "id": "27246541-2e25-43a0-97c9-d37e823a351b",
   "metadata": {},
   "outputs": [
    {
     "name": "stdout",
     "output_type": "stream",
     "text": [
      "33\n"
     ]
    }
   ],
   "source": [
    "max_arr = 0\n",
    "for arr in X_list:\n",
    "    aux_arr = arr.shape[0]\n",
    "    if aux_arr > max_arr:\n",
    "        max_arr = aux_arr\n",
    "print(max_arr)"
   ]
  },
  {
   "cell_type": "code",
   "execution_count": 6,
   "id": "92535dbb-3cda-4be4-a3ac-0bafb93baf6f",
   "metadata": {},
   "outputs": [
    {
     "data": {
      "text/plain": [
       "(1662, 97)"
      ]
     },
     "execution_count": 6,
     "metadata": {},
     "output_type": "execute_result"
    }
   ],
   "source": [
    "pad_sequences(X_list[0].T, maxlen=97, padding='post').shape"
   ]
  },
  {
   "cell_type": "code",
   "execution_count": 7,
   "id": "0988bbb4-5408-4b8c-a323-a87fb30a4b39",
   "metadata": {},
   "outputs": [
    {
     "data": {
      "text/plain": [
       "(33, 1662)"
      ]
     },
     "execution_count": 7,
     "metadata": {},
     "output_type": "execute_result"
    }
   ],
   "source": [
    "X_list[0].shape"
   ]
  },
  {
   "cell_type": "code",
   "execution_count": 8,
   "id": "ab290b93-48d3-414e-9080-109e740eb69b",
   "metadata": {},
   "outputs": [],
   "source": [
    "X = np.stack(X_list)\n",
    "y = np.array(y_list)"
   ]
  },
  {
   "cell_type": "code",
   "execution_count": 9,
   "id": "b07ceb75-9417-4900-9db8-4ee666513019",
   "metadata": {},
   "outputs": [
    {
     "data": {
      "text/plain": [
       "(1500, 33, 1662)"
      ]
     },
     "execution_count": 9,
     "metadata": {},
     "output_type": "execute_result"
    }
   ],
   "source": [
    "X.shape"
   ]
  },
  {
   "cell_type": "code",
   "execution_count": 10,
   "id": "0169b89e-c051-4b9f-9019-848a13432740",
   "metadata": {},
   "outputs": [
    {
     "data": {
      "text/plain": [
       "(1500,)"
      ]
     },
     "execution_count": 10,
     "metadata": {},
     "output_type": "execute_result"
    }
   ],
   "source": [
    "y.shape"
   ]
  },
  {
   "cell_type": "markdown",
   "id": "c5e17114-dd4b-4dc2-82b3-caa56a5b0f44",
   "metadata": {},
   "source": [
    "# GaussianHMM"
   ]
  },
  {
   "cell_type": "raw",
   "id": "623f64e9-efcb-46d2-85a8-885f1fe91403",
   "metadata": {},
   "source": [
    "model = hmm.GaussianHMM(n_components=3, covariance_type=\"full\", n_iter=100)\n",
    "lengths = [33]*1500\n",
    "model.fit(X, lengths=lengths)"
   ]
  },
  {
   "cell_type": "markdown",
   "id": "9e052a39-63c9-4444-a4ef-2b178c6c870f",
   "metadata": {},
   "source": [
    "# Recurrent Neural Networks"
   ]
  },
  {
   "cell_type": "code",
   "execution_count": 11,
   "id": "18cd7a29-4fae-491e-a835-0bab58c8b755",
   "metadata": {},
   "outputs": [],
   "source": [
    "model = Sequential()\n",
    "model.add(LSTM(64, return_sequences=True, activation='relu', input_shape=(33,1662)))\n",
    "model.add(LSTM(128, return_sequences=True, activation='relu'))\n",
    "model.add(LSTM(64, return_sequences=False, activation='relu'))\n",
    "model.add(Dense(64, activation='relu'))\n",
    "model.add(Dense(32, activation='relu'))\n",
    "model.add(Dense(6, activation='softmax'))"
   ]
  },
  {
   "cell_type": "code",
   "execution_count": 12,
   "id": "359c85f2-49f2-44be-9f33-2a3436bbff46",
   "metadata": {},
   "outputs": [],
   "source": [
    "model.compile(optimizer='Adam', loss='categorical_crossentropy', metrics=['categorical_accuracy'])"
   ]
  },
  {
   "cell_type": "code",
   "execution_count": 13,
   "id": "053cfc93-fc83-4dc3-8914-098f6d7e0d10",
   "metadata": {},
   "outputs": [],
   "source": [
    "y = to_categorical(y)"
   ]
  },
  {
   "cell_type": "code",
   "execution_count": 14,
   "id": "cc13d6ec-a7d3-401e-b8f5-fd214c1311e1",
   "metadata": {},
   "outputs": [],
   "source": [
    "X_train, X_test, y_train, y_test = train_test_split(X, y, test_size=0.3)"
   ]
  },
  {
   "cell_type": "code",
   "execution_count": 15,
   "id": "f90e16ee-2240-48f3-88ec-a061298deec1",
   "metadata": {},
   "outputs": [
    {
     "data": {
      "text/plain": [
       "(450, 6)"
      ]
     },
     "execution_count": 15,
     "metadata": {},
     "output_type": "execute_result"
    }
   ],
   "source": [
    "y_test.shape"
   ]
  },
  {
   "cell_type": "code",
   "execution_count": 16,
   "id": "ff7b975f-5de3-4809-8738-3b03c2ee0f0f",
   "metadata": {},
   "outputs": [
    {
     "name": "stdout",
     "output_type": "stream",
     "text": [
      "Model: \"sequential\"\n",
      "_________________________________________________________________\n",
      " Layer (type)                Output Shape              Param #   \n",
      "=================================================================\n",
      " lstm (LSTM)                 (None, 33, 64)            442112    \n",
      "                                                                 \n",
      " lstm_1 (LSTM)               (None, 33, 128)           98816     \n",
      "                                                                 \n",
      " lstm_2 (LSTM)               (None, 64)                49408     \n",
      "                                                                 \n",
      " dense (Dense)               (None, 64)                4160      \n",
      "                                                                 \n",
      " dense_1 (Dense)             (None, 32)                2080      \n",
      "                                                                 \n",
      " dense_2 (Dense)             (None, 6)                 198       \n",
      "                                                                 \n",
      "=================================================================\n",
      "Total params: 596774 (2.28 MB)\n",
      "Trainable params: 596774 (2.28 MB)\n",
      "Non-trainable params: 0 (0.00 Byte)\n",
      "_________________________________________________________________\n"
     ]
    }
   ],
   "source": [
    "model.summary()"
   ]
  },
  {
   "cell_type": "code",
   "execution_count": 17,
   "id": "15bb6d23-fa43-4c00-8e4f-9ef3e1ed9b65",
   "metadata": {},
   "outputs": [
    {
     "name": "stdout",
     "output_type": "stream",
     "text": [
      "Epoch 1/200\n",
      "9/9 [==============================] - 10s 317ms/step - loss: 19.3951 - categorical_accuracy: 0.2105\n",
      "Epoch 2/200\n",
      "9/9 [==============================] - 3s 324ms/step - loss: 5.0083 - categorical_accuracy: 0.2295\n",
      "Epoch 3/200\n",
      "9/9 [==============================] - 3s 329ms/step - loss: 2.3594 - categorical_accuracy: 0.1876\n",
      "Epoch 4/200\n",
      "9/9 [==============================] - 3s 327ms/step - loss: 1.7882 - categorical_accuracy: 0.1981\n",
      "Epoch 5/200\n",
      "9/9 [==============================] - 3s 337ms/step - loss: 1.7265 - categorical_accuracy: 0.2019\n",
      "Epoch 6/200\n",
      "9/9 [==============================] - 3s 329ms/step - loss: 1.6415 - categorical_accuracy: 0.2105\n",
      "Epoch 7/200\n",
      "9/9 [==============================] - 3s 327ms/step - loss: 1.6638 - categorical_accuracy: 0.2219\n",
      "Epoch 8/200\n",
      "9/9 [==============================] - 3s 314ms/step - loss: 1.5958 - categorical_accuracy: 0.2619\n",
      "Epoch 9/200\n",
      "9/9 [==============================] - 3s 313ms/step - loss: 1.6097 - categorical_accuracy: 0.2686\n",
      "Epoch 10/200\n",
      "9/9 [==============================] - 3s 322ms/step - loss: 1.6027 - categorical_accuracy: 0.2581\n",
      "Epoch 11/200\n",
      "9/9 [==============================] - 3s 319ms/step - loss: 1.6234 - categorical_accuracy: 0.2248\n",
      "Epoch 12/200\n",
      "9/9 [==============================] - 3s 314ms/step - loss: 1.5823 - categorical_accuracy: 0.2543\n",
      "Epoch 13/200\n",
      "9/9 [==============================] - 3s 313ms/step - loss: 1.5632 - categorical_accuracy: 0.3229\n",
      "Epoch 14/200\n",
      "9/9 [==============================] - 3s 320ms/step - loss: 1.5255 - categorical_accuracy: 0.3181\n",
      "Epoch 15/200\n",
      "9/9 [==============================] - 3s 315ms/step - loss: 1.5765 - categorical_accuracy: 0.2971\n",
      "Epoch 16/200\n",
      "9/9 [==============================] - 3s 328ms/step - loss: 1.6314 - categorical_accuracy: 0.2143\n",
      "Epoch 17/200\n",
      "9/9 [==============================] - 3s 327ms/step - loss: 1.5614 - categorical_accuracy: 0.2171\n",
      "Epoch 18/200\n",
      "9/9 [==============================] - 3s 316ms/step - loss: 1.5321 - categorical_accuracy: 0.3124\n",
      "Epoch 19/200\n",
      "9/9 [==============================] - 3s 314ms/step - loss: 1.5070 - categorical_accuracy: 0.3400\n",
      "Epoch 20/200\n",
      "9/9 [==============================] - 3s 321ms/step - loss: 1.5005 - categorical_accuracy: 0.3476\n",
      "Epoch 21/200\n",
      "9/9 [==============================] - 3s 321ms/step - loss: 1.4833 - categorical_accuracy: 0.3362\n",
      "Epoch 22/200\n",
      "9/9 [==============================] - 3s 312ms/step - loss: 1.4617 - categorical_accuracy: 0.3600\n",
      "Epoch 23/200\n",
      "9/9 [==============================] - 3s 322ms/step - loss: 1.5112 - categorical_accuracy: 0.3790\n",
      "Epoch 24/200\n",
      "9/9 [==============================] - 3s 315ms/step - loss: 1.3908 - categorical_accuracy: 0.3714\n",
      "Epoch 25/200\n",
      "9/9 [==============================] - 3s 311ms/step - loss: 1.3152 - categorical_accuracy: 0.4524\n",
      "Epoch 26/200\n",
      "9/9 [==============================] - 3s 315ms/step - loss: 1.2854 - categorical_accuracy: 0.4152\n",
      "Epoch 27/200\n",
      "9/9 [==============================] - 3s 315ms/step - loss: 1.1909 - categorical_accuracy: 0.4867\n",
      "Epoch 28/200\n",
      "9/9 [==============================] - 3s 325ms/step - loss: 1.1906 - categorical_accuracy: 0.5495\n",
      "Epoch 29/200\n",
      "9/9 [==============================] - 3s 313ms/step - loss: 1.5690 - categorical_accuracy: 0.3267\n",
      "Epoch 30/200\n",
      "9/9 [==============================] - 3s 316ms/step - loss: 1.2525 - categorical_accuracy: 0.4467\n",
      "Epoch 31/200\n",
      "9/9 [==============================] - 3s 319ms/step - loss: 1.1382 - categorical_accuracy: 0.5105\n",
      "Epoch 32/200\n",
      "9/9 [==============================] - 3s 321ms/step - loss: 1.0760 - categorical_accuracy: 0.5219\n",
      "Epoch 33/200\n",
      "9/9 [==============================] - 3s 321ms/step - loss: 1.0615 - categorical_accuracy: 0.5390\n",
      "Epoch 34/200\n",
      "9/9 [==============================] - 3s 318ms/step - loss: 1.0128 - categorical_accuracy: 0.5610\n",
      "Epoch 35/200\n",
      "9/9 [==============================] - 3s 323ms/step - loss: 0.9821 - categorical_accuracy: 0.5705\n",
      "Epoch 36/200\n",
      "9/9 [==============================] - 3s 315ms/step - loss: 0.9869 - categorical_accuracy: 0.5990\n",
      "Epoch 37/200\n",
      "9/9 [==============================] - 3s 318ms/step - loss: 1.0165 - categorical_accuracy: 0.5343\n",
      "Epoch 38/200\n",
      "9/9 [==============================] - 3s 322ms/step - loss: 0.9917 - categorical_accuracy: 0.5657\n",
      "Epoch 39/200\n",
      "9/9 [==============================] - 3s 317ms/step - loss: 0.9459 - categorical_accuracy: 0.6200\n",
      "Epoch 40/200\n",
      "9/9 [==============================] - 3s 318ms/step - loss: 1.0256 - categorical_accuracy: 0.5600\n",
      "Epoch 41/200\n",
      "9/9 [==============================] - 3s 325ms/step - loss: 9.2088 - categorical_accuracy: 0.2190\n",
      "Epoch 42/200\n",
      "9/9 [==============================] - 3s 318ms/step - loss: 52.0304 - categorical_accuracy: 0.2019\n",
      "Epoch 43/200\n",
      "9/9 [==============================] - 3s 318ms/step - loss: 52.7157 - categorical_accuracy: 0.2048\n",
      "Epoch 44/200\n",
      "9/9 [==============================] - 3s 363ms/step - loss: 38.9940 - categorical_accuracy: 0.2143\n",
      "Epoch 45/200\n",
      "9/9 [==============================] - 3s 317ms/step - loss: 9.9946 - categorical_accuracy: 0.2105\n",
      "Epoch 46/200\n",
      "9/9 [==============================] - 3s 323ms/step - loss: 14.7701 - categorical_accuracy: 0.2095\n",
      "Epoch 47/200\n",
      "9/9 [==============================] - 3s 311ms/step - loss: 12.8669 - categorical_accuracy: 0.2524\n",
      "Epoch 48/200\n",
      "9/9 [==============================] - 3s 320ms/step - loss: 1.8497 - categorical_accuracy: 0.3000\n",
      "Epoch 49/200\n",
      "9/9 [==============================] - 3s 318ms/step - loss: 1.7450 - categorical_accuracy: 0.2838\n",
      "Epoch 50/200\n",
      "9/9 [==============================] - 3s 317ms/step - loss: 1.8667 - categorical_accuracy: 0.3219\n",
      "Epoch 51/200\n",
      "9/9 [==============================] - 3s 321ms/step - loss: 1.7059 - categorical_accuracy: 0.3171\n",
      "Epoch 52/200\n",
      "9/9 [==============================] - 3s 315ms/step - loss: 1.6632 - categorical_accuracy: 0.3200\n",
      "Epoch 53/200\n",
      "9/9 [==============================] - 3s 308ms/step - loss: 1.6423 - categorical_accuracy: 0.3267\n",
      "Epoch 54/200\n",
      "9/9 [==============================] - 3s 312ms/step - loss: 1.6248 - categorical_accuracy: 0.3343\n",
      "Epoch 55/200\n",
      "9/9 [==============================] - 3s 317ms/step - loss: 1.6060 - categorical_accuracy: 0.3429\n",
      "Epoch 56/200\n",
      "9/9 [==============================] - 3s 315ms/step - loss: 1.5826 - categorical_accuracy: 0.3581\n",
      "Epoch 57/200\n",
      "9/9 [==============================] - 3s 321ms/step - loss: 1.5836 - categorical_accuracy: 0.3724\n",
      "Epoch 58/200\n",
      "9/9 [==============================] - 3s 316ms/step - loss: 1.5658 - categorical_accuracy: 0.3857\n",
      "Epoch 59/200\n",
      "9/9 [==============================] - 3s 314ms/step - loss: 1.5527 - categorical_accuracy: 0.3810\n",
      "Epoch 60/200\n",
      "9/9 [==============================] - 3s 315ms/step - loss: 1.4619 - categorical_accuracy: 0.3810\n",
      "Epoch 61/200\n",
      "9/9 [==============================] - 3s 317ms/step - loss: 1.4422 - categorical_accuracy: 0.3676\n",
      "Epoch 62/200\n",
      "9/9 [==============================] - 3s 324ms/step - loss: 1.4115 - categorical_accuracy: 0.3848\n",
      "Epoch 63/200\n",
      "9/9 [==============================] - 3s 314ms/step - loss: 1.3283 - categorical_accuracy: 0.4762\n",
      "Epoch 64/200\n",
      "9/9 [==============================] - 3s 318ms/step - loss: 1.2612 - categorical_accuracy: 0.4648\n",
      "Epoch 65/200\n",
      "9/9 [==============================] - 3s 318ms/step - loss: 1.2077 - categorical_accuracy: 0.4857\n",
      "Epoch 66/200\n",
      "9/9 [==============================] - 3s 315ms/step - loss: 1.1668 - categorical_accuracy: 0.5029\n",
      "Epoch 67/200\n",
      "9/9 [==============================] - 3s 315ms/step - loss: 1.1378 - categorical_accuracy: 0.5267\n",
      "Epoch 68/200\n",
      "9/9 [==============================] - 3s 314ms/step - loss: 1.1223 - categorical_accuracy: 0.5229\n",
      "Epoch 69/200\n",
      "9/9 [==============================] - 3s 317ms/step - loss: 1.1474 - categorical_accuracy: 0.5295\n",
      "Epoch 70/200\n",
      "9/9 [==============================] - 3s 308ms/step - loss: 1.0738 - categorical_accuracy: 0.5200\n",
      "Epoch 71/200\n",
      "9/9 [==============================] - 3s 322ms/step - loss: 1.0493 - categorical_accuracy: 0.5381\n",
      "Epoch 72/200\n",
      "9/9 [==============================] - 3s 324ms/step - loss: 1.0239 - categorical_accuracy: 0.5524\n",
      "Epoch 73/200\n",
      "9/9 [==============================] - 3s 316ms/step - loss: 1.0014 - categorical_accuracy: 0.5610\n",
      "Epoch 74/200\n",
      "9/9 [==============================] - 3s 314ms/step - loss: 0.9673 - categorical_accuracy: 0.5619\n",
      "Epoch 75/200\n",
      "9/9 [==============================] - 3s 327ms/step - loss: 0.9405 - categorical_accuracy: 0.5638\n",
      "Epoch 76/200\n",
      "9/9 [==============================] - 3s 319ms/step - loss: 0.9166 - categorical_accuracy: 0.5924\n",
      "Epoch 77/200\n",
      "9/9 [==============================] - 3s 343ms/step - loss: 0.9025 - categorical_accuracy: 0.5714\n",
      "Epoch 78/200\n",
      "9/9 [==============================] - 3s 338ms/step - loss: 0.9741 - categorical_accuracy: 0.5800\n",
      "Epoch 79/200\n",
      "9/9 [==============================] - 3s 322ms/step - loss: 0.9295 - categorical_accuracy: 0.5790\n",
      "Epoch 80/200\n",
      "9/9 [==============================] - 3s 333ms/step - loss: 0.8926 - categorical_accuracy: 0.5867\n",
      "Epoch 81/200\n",
      "9/9 [==============================] - 3s 324ms/step - loss: 0.8748 - categorical_accuracy: 0.6143\n",
      "Epoch 82/200\n",
      "9/9 [==============================] - 3s 311ms/step - loss: 0.8846 - categorical_accuracy: 0.6248\n",
      "Epoch 83/200\n",
      "9/9 [==============================] - 3s 316ms/step - loss: 0.8477 - categorical_accuracy: 0.6229\n",
      "Epoch 84/200\n",
      "9/9 [==============================] - 3s 313ms/step - loss: 0.8815 - categorical_accuracy: 0.6438\n",
      "Epoch 85/200\n",
      "9/9 [==============================] - 3s 322ms/step - loss: 0.8748 - categorical_accuracy: 0.5905\n",
      "Epoch 86/200\n",
      "9/9 [==============================] - 3s 325ms/step - loss: 0.8898 - categorical_accuracy: 0.6143\n",
      "Epoch 87/200\n",
      "9/9 [==============================] - 3s 317ms/step - loss: 0.8591 - categorical_accuracy: 0.6448\n",
      "Epoch 88/200\n",
      "9/9 [==============================] - 3s 322ms/step - loss: 0.8398 - categorical_accuracy: 0.6362\n",
      "Epoch 89/200\n",
      "9/9 [==============================] - 3s 316ms/step - loss: 0.8021 - categorical_accuracy: 0.6448\n",
      "Epoch 90/200\n",
      "9/9 [==============================] - 3s 322ms/step - loss: 0.7805 - categorical_accuracy: 0.6476\n",
      "Epoch 91/200\n",
      "9/9 [==============================] - 3s 313ms/step - loss: 0.7661 - categorical_accuracy: 0.6724\n",
      "Epoch 92/200\n",
      "9/9 [==============================] - 3s 314ms/step - loss: 0.7954 - categorical_accuracy: 0.6486\n",
      "Epoch 93/200\n",
      "9/9 [==============================] - 3s 321ms/step - loss: 0.8048 - categorical_accuracy: 0.6543\n",
      "Epoch 94/200\n",
      "9/9 [==============================] - 3s 315ms/step - loss: 0.7816 - categorical_accuracy: 0.6571\n",
      "Epoch 95/200\n",
      "9/9 [==============================] - 3s 324ms/step - loss: 0.7852 - categorical_accuracy: 0.6448\n",
      "Epoch 96/200\n",
      "9/9 [==============================] - 3s 320ms/step - loss: 0.8071 - categorical_accuracy: 0.6381\n",
      "Epoch 97/200\n",
      "9/9 [==============================] - 3s 330ms/step - loss: 0.7785 - categorical_accuracy: 0.6343\n",
      "Epoch 98/200\n",
      "9/9 [==============================] - 3s 314ms/step - loss: 0.7543 - categorical_accuracy: 0.6762\n",
      "Epoch 99/200\n",
      "9/9 [==============================] - 3s 332ms/step - loss: 0.7489 - categorical_accuracy: 0.6762\n",
      "Epoch 100/200\n",
      "9/9 [==============================] - 3s 314ms/step - loss: 0.7390 - categorical_accuracy: 0.6838\n",
      "Epoch 101/200\n",
      "9/9 [==============================] - 3s 309ms/step - loss: 0.8158 - categorical_accuracy: 0.6390\n",
      "Epoch 102/200\n",
      "9/9 [==============================] - 3s 313ms/step - loss: 0.7949 - categorical_accuracy: 0.6610\n",
      "Epoch 103/200\n",
      "9/9 [==============================] - 3s 319ms/step - loss: 0.7477 - categorical_accuracy: 0.6638\n",
      "Epoch 104/200\n",
      "9/9 [==============================] - 3s 320ms/step - loss: 0.7145 - categorical_accuracy: 0.6905\n",
      "Epoch 105/200\n",
      "9/9 [==============================] - 3s 324ms/step - loss: 0.7303 - categorical_accuracy: 0.6676\n",
      "Epoch 106/200\n",
      "9/9 [==============================] - 3s 323ms/step - loss: 0.6966 - categorical_accuracy: 0.6829\n",
      "Epoch 107/200\n",
      "9/9 [==============================] - 3s 315ms/step - loss: 0.6767 - categorical_accuracy: 0.6943\n",
      "Epoch 108/200\n",
      "9/9 [==============================] - 3s 313ms/step - loss: 0.7042 - categorical_accuracy: 0.6924\n",
      "Epoch 109/200\n",
      "9/9 [==============================] - 3s 311ms/step - loss: 0.7181 - categorical_accuracy: 0.6429\n",
      "Epoch 110/200\n",
      "9/9 [==============================] - 3s 313ms/step - loss: 0.7252 - categorical_accuracy: 0.6714\n",
      "Epoch 111/200\n",
      "9/9 [==============================] - 3s 316ms/step - loss: 0.7163 - categorical_accuracy: 0.6848\n",
      "Epoch 112/200\n",
      "9/9 [==============================] - 3s 313ms/step - loss: 0.6749 - categorical_accuracy: 0.7238\n",
      "Epoch 113/200\n",
      "9/9 [==============================] - 3s 317ms/step - loss: 0.6664 - categorical_accuracy: 0.6971\n",
      "Epoch 114/200\n",
      "9/9 [==============================] - 3s 311ms/step - loss: 0.6600 - categorical_accuracy: 0.6981\n",
      "Epoch 115/200\n",
      "9/9 [==============================] - 3s 310ms/step - loss: 0.7158 - categorical_accuracy: 0.7019\n",
      "Epoch 116/200\n",
      "9/9 [==============================] - 3s 313ms/step - loss: 0.6746 - categorical_accuracy: 0.6886\n",
      "Epoch 117/200\n",
      "9/9 [==============================] - 3s 319ms/step - loss: 0.6346 - categorical_accuracy: 0.7095\n",
      "Epoch 118/200\n",
      "9/9 [==============================] - 3s 319ms/step - loss: 0.6316 - categorical_accuracy: 0.7162\n",
      "Epoch 119/200\n",
      "9/9 [==============================] - 3s 315ms/step - loss: 0.6203 - categorical_accuracy: 0.7248\n",
      "Epoch 120/200\n",
      "9/9 [==============================] - 3s 323ms/step - loss: 0.7044 - categorical_accuracy: 0.6705\n",
      "Epoch 121/200\n",
      "9/9 [==============================] - 3s 312ms/step - loss: 0.6743 - categorical_accuracy: 0.7038\n",
      "Epoch 122/200\n",
      "9/9 [==============================] - 3s 312ms/step - loss: 0.6360 - categorical_accuracy: 0.7305\n",
      "Epoch 123/200\n",
      "9/9 [==============================] - 3s 312ms/step - loss: 0.6135 - categorical_accuracy: 0.7419\n",
      "Epoch 124/200\n",
      "9/9 [==============================] - 3s 314ms/step - loss: 0.8407 - categorical_accuracy: 0.6733\n",
      "Epoch 125/200\n",
      "9/9 [==============================] - 3s 313ms/step - loss: 1.3067 - categorical_accuracy: 0.6057\n",
      "Epoch 126/200\n",
      "9/9 [==============================] - 3s 311ms/step - loss: 447.4715 - categorical_accuracy: 0.2143\n",
      "Epoch 127/200\n",
      "9/9 [==============================] - 3s 313ms/step - loss: 38.7144 - categorical_accuracy: 0.2200\n",
      "Epoch 128/200\n",
      "9/9 [==============================] - 3s 316ms/step - loss: 1.7970 - categorical_accuracy: 0.2495\n",
      "Epoch 129/200\n",
      "9/9 [==============================] - 3s 313ms/step - loss: 1.6366 - categorical_accuracy: 0.2267\n",
      "Epoch 130/200\n",
      "9/9 [==============================] - 3s 311ms/step - loss: 1.5682 - categorical_accuracy: 0.2333\n",
      "Epoch 131/200\n",
      "9/9 [==============================] - 3s 315ms/step - loss: 1.4932 - categorical_accuracy: 0.3448\n",
      "Epoch 132/200\n",
      "9/9 [==============================] - 3s 313ms/step - loss: 1.4180 - categorical_accuracy: 0.3933\n",
      "Epoch 133/200\n",
      "9/9 [==============================] - 3s 312ms/step - loss: 1.3588 - categorical_accuracy: 0.4600\n",
      "Epoch 134/200\n",
      "9/9 [==============================] - 3s 308ms/step - loss: 1.2928 - categorical_accuracy: 0.5181\n",
      "Epoch 135/200\n",
      "9/9 [==============================] - 3s 314ms/step - loss: 1.4166 - categorical_accuracy: 0.4590\n",
      "Epoch 136/200\n",
      "9/9 [==============================] - 3s 312ms/step - loss: 1.2565 - categorical_accuracy: 0.4838\n",
      "Epoch 137/200\n",
      "9/9 [==============================] - 3s 313ms/step - loss: 1.2027 - categorical_accuracy: 0.5143\n",
      "Epoch 138/200\n",
      "9/9 [==============================] - 3s 313ms/step - loss: 1.1556 - categorical_accuracy: 0.5381\n",
      "Epoch 139/200\n",
      "9/9 [==============================] - 3s 316ms/step - loss: 1.1196 - categorical_accuracy: 0.5429\n",
      "Epoch 140/200\n",
      "9/9 [==============================] - 3s 315ms/step - loss: 1.0806 - categorical_accuracy: 0.5714\n",
      "Epoch 141/200\n",
      "9/9 [==============================] - 3s 328ms/step - loss: 1.0883 - categorical_accuracy: 0.5581\n",
      "Epoch 142/200\n",
      "9/9 [==============================] - 3s 319ms/step - loss: 0.9961 - categorical_accuracy: 0.5924\n",
      "Epoch 143/200\n",
      "9/9 [==============================] - 3s 322ms/step - loss: 0.9298 - categorical_accuracy: 0.6324\n",
      "Epoch 144/200\n",
      "9/9 [==============================] - 3s 313ms/step - loss: 0.9221 - categorical_accuracy: 0.6181\n",
      "Epoch 145/200\n",
      "9/9 [==============================] - 3s 310ms/step - loss: 0.8389 - categorical_accuracy: 0.6819\n",
      "Epoch 146/200\n",
      "9/9 [==============================] - 3s 312ms/step - loss: 0.8902 - categorical_accuracy: 0.6086\n",
      "Epoch 147/200\n",
      "9/9 [==============================] - 3s 312ms/step - loss: 0.7800 - categorical_accuracy: 0.7219\n",
      "Epoch 148/200\n",
      "9/9 [==============================] - 3s 318ms/step - loss: 0.9106 - categorical_accuracy: 0.6514\n",
      "Epoch 149/200\n",
      "9/9 [==============================] - 3s 319ms/step - loss: 0.9283 - categorical_accuracy: 0.6124\n",
      "Epoch 150/200\n",
      "9/9 [==============================] - 3s 320ms/step - loss: 1.1256 - categorical_accuracy: 0.5714\n",
      "Epoch 151/200\n",
      "9/9 [==============================] - 3s 311ms/step - loss: 1.5936 - categorical_accuracy: 0.3438\n",
      "Epoch 152/200\n",
      "9/9 [==============================] - 3s 312ms/step - loss: 1.1412 - categorical_accuracy: 0.5610\n",
      "Epoch 153/200\n",
      "9/9 [==============================] - 3s 320ms/step - loss: 1.0433 - categorical_accuracy: 0.5571\n",
      "Epoch 154/200\n",
      "9/9 [==============================] - 3s 313ms/step - loss: 0.9678 - categorical_accuracy: 0.5876\n",
      "Epoch 155/200\n",
      "9/9 [==============================] - 3s 314ms/step - loss: 1.3271 - categorical_accuracy: 0.5305\n",
      "Epoch 156/200\n",
      "9/9 [==============================] - 3s 318ms/step - loss: 1.1710 - categorical_accuracy: 0.5429\n",
      "Epoch 157/200\n",
      "9/9 [==============================] - 3s 320ms/step - loss: 1.0996 - categorical_accuracy: 0.5476\n",
      "Epoch 158/200\n",
      "9/9 [==============================] - 3s 319ms/step - loss: 0.9805 - categorical_accuracy: 0.5686\n",
      "Epoch 159/200\n",
      "9/9 [==============================] - 3s 312ms/step - loss: 0.8949 - categorical_accuracy: 0.6210\n",
      "Epoch 160/200\n",
      "9/9 [==============================] - 3s 318ms/step - loss: 0.8249 - categorical_accuracy: 0.6476\n",
      "Epoch 161/200\n",
      "9/9 [==============================] - 3s 314ms/step - loss: 0.7594 - categorical_accuracy: 0.6695\n",
      "Epoch 162/200\n",
      "9/9 [==============================] - 3s 314ms/step - loss: 0.7425 - categorical_accuracy: 0.6876\n",
      "Epoch 163/200\n",
      "9/9 [==============================] - 3s 318ms/step - loss: 0.7343 - categorical_accuracy: 0.7029\n",
      "Epoch 164/200\n",
      "9/9 [==============================] - 3s 317ms/step - loss: 0.7173 - categorical_accuracy: 0.6962\n",
      "Epoch 165/200\n",
      "9/9 [==============================] - 3s 312ms/step - loss: 0.6838 - categorical_accuracy: 0.7124\n",
      "Epoch 166/200\n",
      "9/9 [==============================] - 3s 316ms/step - loss: 0.6360 - categorical_accuracy: 0.7390\n",
      "Epoch 167/200\n",
      "9/9 [==============================] - 3s 315ms/step - loss: 0.6907 - categorical_accuracy: 0.7114\n",
      "Epoch 168/200\n",
      "9/9 [==============================] - 3s 313ms/step - loss: 0.8882 - categorical_accuracy: 0.6438\n",
      "Epoch 169/200\n",
      "9/9 [==============================] - 3s 314ms/step - loss: 0.7824 - categorical_accuracy: 0.6743\n",
      "Epoch 170/200\n",
      "9/9 [==============================] - 3s 307ms/step - loss: 0.6855 - categorical_accuracy: 0.7267\n",
      "Epoch 171/200\n",
      "9/9 [==============================] - 3s 313ms/step - loss: 0.6174 - categorical_accuracy: 0.7543\n",
      "Epoch 172/200\n",
      "9/9 [==============================] - 3s 311ms/step - loss: 0.5737 - categorical_accuracy: 0.7657\n",
      "Epoch 173/200\n",
      "9/9 [==============================] - 3s 331ms/step - loss: 0.5680 - categorical_accuracy: 0.7419\n",
      "Epoch 174/200\n",
      "9/9 [==============================] - 3s 325ms/step - loss: 0.6004 - categorical_accuracy: 0.7610\n",
      "Epoch 175/200\n",
      "9/9 [==============================] - 3s 315ms/step - loss: 1.1723 - categorical_accuracy: 0.4743\n",
      "Epoch 176/200\n",
      "9/9 [==============================] - 3s 337ms/step - loss: 1.1458 - categorical_accuracy: 0.4533\n",
      "Epoch 177/200\n",
      "9/9 [==============================] - 3s 321ms/step - loss: 0.9679 - categorical_accuracy: 0.5257\n",
      "Epoch 178/200\n",
      "9/9 [==============================] - 3s 319ms/step - loss: 0.8352 - categorical_accuracy: 0.6305\n",
      "Epoch 179/200\n",
      "9/9 [==============================] - 3s 316ms/step - loss: 0.7530 - categorical_accuracy: 0.6914\n",
      "Epoch 180/200\n",
      "9/9 [==============================] - 3s 325ms/step - loss: 0.7076 - categorical_accuracy: 0.7105\n",
      "Epoch 181/200\n",
      "9/9 [==============================] - 3s 321ms/step - loss: 0.6568 - categorical_accuracy: 0.7343\n",
      "Epoch 182/200\n",
      "9/9 [==============================] - 3s 340ms/step - loss: 0.6261 - categorical_accuracy: 0.7362\n",
      "Epoch 183/200\n",
      "9/9 [==============================] - 3s 320ms/step - loss: 0.5979 - categorical_accuracy: 0.7505\n",
      "Epoch 184/200\n",
      "9/9 [==============================] - 3s 322ms/step - loss: 0.5754 - categorical_accuracy: 0.7524\n",
      "Epoch 185/200\n",
      "9/9 [==============================] - 3s 322ms/step - loss: 0.6341 - categorical_accuracy: 0.7590\n",
      "Epoch 186/200\n",
      "9/9 [==============================] - 3s 328ms/step - loss: 0.6042 - categorical_accuracy: 0.7581\n",
      "Epoch 187/200\n",
      "9/9 [==============================] - 3s 337ms/step - loss: 0.5573 - categorical_accuracy: 0.7781\n",
      "Epoch 188/200\n",
      "9/9 [==============================] - 3s 325ms/step - loss: 0.5255 - categorical_accuracy: 0.7895\n",
      "Epoch 189/200\n",
      "9/9 [==============================] - 3s 326ms/step - loss: 0.5464 - categorical_accuracy: 0.7933\n",
      "Epoch 190/200\n",
      "9/9 [==============================] - 3s 329ms/step - loss: 0.5146 - categorical_accuracy: 0.7990\n",
      "Epoch 191/200\n",
      "9/9 [==============================] - 3s 326ms/step - loss: 0.4682 - categorical_accuracy: 0.8238\n",
      "Epoch 192/200\n",
      "9/9 [==============================] - 3s 330ms/step - loss: 0.4789 - categorical_accuracy: 0.8133\n",
      "Epoch 193/200\n",
      "9/9 [==============================] - 3s 310ms/step - loss: 0.4435 - categorical_accuracy: 0.8371\n",
      "Epoch 194/200\n",
      "9/9 [==============================] - 3s 317ms/step - loss: 0.4426 - categorical_accuracy: 0.8210\n",
      "Epoch 195/200\n",
      "9/9 [==============================] - 3s 321ms/step - loss: 0.4858 - categorical_accuracy: 0.8057\n",
      "Epoch 196/200\n",
      "9/9 [==============================] - 3s 334ms/step - loss: 0.4759 - categorical_accuracy: 0.8086\n",
      "Epoch 197/200\n",
      "9/9 [==============================] - 3s 332ms/step - loss: 0.4650 - categorical_accuracy: 0.8000\n",
      "Epoch 198/200\n",
      "9/9 [==============================] - 3s 317ms/step - loss: 0.4181 - categorical_accuracy: 0.8371\n",
      "Epoch 199/200\n",
      "9/9 [==============================] - 3s 333ms/step - loss: 0.4213 - categorical_accuracy: 0.8305\n",
      "Epoch 200/200\n",
      "9/9 [==============================] - 3s 310ms/step - loss: 0.4191 - categorical_accuracy: 0.8343\n"
     ]
    },
    {
     "data": {
      "text/plain": [
       "<keras.src.callbacks.History at 0x7f37a8628970>"
      ]
     },
     "execution_count": 17,
     "metadata": {},
     "output_type": "execute_result"
    }
   ],
   "source": [
    "model.fit(X_train, y_train, epochs=200, batch_size=128)"
   ]
  },
  {
   "cell_type": "code",
   "execution_count": 18,
   "id": "73a775c0-abab-448e-b8be-88063ad94a6e",
   "metadata": {},
   "outputs": [
    {
     "name": "stdout",
     "output_type": "stream",
     "text": [
      "15/15 [==============================] - 2s 68ms/step\n"
     ]
    }
   ],
   "source": [
    "y_pred = model.predict(X_test)"
   ]
  },
  {
   "cell_type": "code",
   "execution_count": 19,
   "id": "9cb96bab-5148-4b35-9cbe-4d80d644ca38",
   "metadata": {},
   "outputs": [],
   "source": [
    "y_pred = np.argmax(y_pred, axis=1).tolist()"
   ]
  },
  {
   "cell_type": "code",
   "execution_count": 20,
   "id": "6012f4b5-67d7-46bc-8e64-c1f959a06bfd",
   "metadata": {},
   "outputs": [],
   "source": [
    "y_true = np.argmax(y_test, axis=1).tolist()"
   ]
  },
  {
   "cell_type": "code",
   "execution_count": 21,
   "id": "9839ad9f-a234-4fc7-a2e2-958819131aba",
   "metadata": {},
   "outputs": [],
   "source": [
    "from sklearn.metrics import multilabel_confusion_matrix, accuracy_score,ConfusionMatrixDisplay, confusion_matrix"
   ]
  },
  {
   "cell_type": "code",
   "execution_count": 22,
   "id": "e76600d4-93c7-4f59-a09c-c1f526e2b06e",
   "metadata": {},
   "outputs": [],
   "source": [
    "confusion_matrices = confusion_matrix(y_true, y_pred,labels=np.unique(y_pred), normalize='true')"
   ]
  },
  {
   "cell_type": "code",
   "execution_count": 23,
   "id": "54383999-5c63-413c-9471-7f9fb6552863",
   "metadata": {},
   "outputs": [
    {
     "data": {
      "text/plain": [
       "array([[0.79207921, 0.        , 0.08910891, 0.        , 0.11881188],\n",
       "       [0.        , 0.92391304, 0.        , 0.02173913, 0.05434783],\n",
       "       [0.12765957, 0.        , 0.85106383, 0.0106383 , 0.0106383 ],\n",
       "       [0.        , 0.        , 0.        , 0.82352941, 0.17647059],\n",
       "       [0.05128205, 0.01282051, 0.23076923, 0.15384615, 0.55128205]])"
      ]
     },
     "execution_count": 23,
     "metadata": {},
     "output_type": "execute_result"
    }
   ],
   "source": [
    "confusion_matrices"
   ]
  },
  {
   "cell_type": "code",
   "execution_count": 24,
   "id": "7b7fb0dc-1baf-4432-8c02-300125e6864b",
   "metadata": {},
   "outputs": [
    {
     "data": {
      "text/plain": [
       "<sklearn.metrics._plot.confusion_matrix.ConfusionMatrixDisplay at 0x7f38945004f0>"
      ]
     },
     "execution_count": 24,
     "metadata": {},
     "output_type": "execute_result"
    },
    {
     "data": {
      "image/png": "[encoded data removed]",
      "text/plain": [
       "<Figure size 640x480 with 2 Axes>"
      ]
     },
     "metadata": {},
     "output_type": "display_data"
    }
   ],
   "source": [
    "disp = ConfusionMatrixDisplay(confusion_matrices, display_labels=np.unique(y_pred))\n",
    "disp.plot()"
   ]
  },
  {
   "cell_type": "code",
   "execution_count": null,
   "id": "f2047f6c-c67d-4574-a7d7-553a1e4b01c7",
   "metadata": {},
   "outputs": [],
   "source": []
  }
 ],
 "metadata": {
  "kernelspec": {
   "display_name": "Python 3 (ipykernel)",
   "language": "python",
   "name": "python3"
  },
  "language_info": {
   "codemirror_mode": {
    "name": "ipython",
    "version": 3
   },
   "file_extension": ".py",
   "mimetype": "text/x-python",
   "name": "python",
   "nbconvert_exporter": "python",
   "pygments_lexer": "ipython3",
   "version": "3.10.9"
  }
 },
 "nbformat": 4,
 "nbformat_minor": 5
}
