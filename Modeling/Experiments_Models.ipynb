{
 "cells": [
  {
   "cell_type": "code",
   "execution_count": 16,
   "id": "c235c84e-96df-4c9c-af66-4c495812b9b4",
   "metadata": {},
   "outputs": [],
   "source": [
    "import pandas as pd\n",
    "import numpy as np\n",
    "from progress.bar import Bar\n",
    "#from hmmlearn import hmm\n",
    "from sklearn.model_selection import train_test_split\n",
    "from tensorflow.keras.models import Sequential\n",
    "from tensorflow.keras.layers import LSTM, Dense\n",
    "from tensorflow.keras.utils import to_categorical"
   ]
  },
  {
   "cell_type": "code",
   "execution_count": 9,
   "id": "16c960a1-e3e9-4203-aaa9-ecbb7bb9db51",
   "metadata": {},
   "outputs": [
    {
     "data": {
      "text/html": [
       "<div>\n",
       "<style scoped>\n",
       "    .dataframe tbody tr th:only-of-type {\n",
       "        vertical-align: middle;\n",
       "    }\n",
       "\n",
       "    .dataframe tbody tr th {\n",
       "        vertical-align: top;\n",
       "    }\n",
       "\n",
       "    .dataframe thead th {\n",
       "        text-align: right;\n",
       "    }\n",
       "</style>\n",
       "<table border=\"1\" class=\"dataframe\">\n",
       "  <thead>\n",
       "    <tr style=\"text-align: right;\">\n",
       "      <th></th>\n",
       "      <th>Class</th>\n",
       "    </tr>\n",
       "    <tr>\n",
       "      <th>File</th>\n",
       "      <th></th>\n",
       "    </tr>\n",
       "  </thead>\n",
       "  <tbody>\n",
       "    <tr>\n",
       "      <th>S1V3C1M3A Clip166.npy</th>\n",
       "      <td>1</td>\n",
       "    </tr>\n",
       "    <tr>\n",
       "      <th>S1V1C1M1A Clip18.npy</th>\n",
       "      <td>1</td>\n",
       "    </tr>\n",
       "    <tr>\n",
       "      <th>S1V4C1M4A Clip241.npy</th>\n",
       "      <td>1</td>\n",
       "    </tr>\n",
       "    <tr>\n",
       "      <th>S1V4C1M4A Clip239.npy</th>\n",
       "      <td>1</td>\n",
       "    </tr>\n",
       "    <tr>\n",
       "      <th>S1V4C1M4A Clip245.npy</th>\n",
       "      <td>1</td>\n",
       "    </tr>\n",
       "  </tbody>\n",
       "</table>\n",
       "</div>"
      ],
      "text/plain": [
       "                       Class\n",
       "File                        \n",
       "S1V3C1M3A Clip166.npy      1\n",
       "S1V1C1M1A Clip18.npy       1\n",
       "S1V4C1M4A Clip241.npy      1\n",
       "S1V4C1M4A Clip239.npy      1\n",
       "S1V4C1M4A Clip245.npy      1"
      ]
     },
     "execution_count": 9,
     "metadata": {},
     "output_type": "execute_result"
    }
   ],
   "source": [
    "df = pd.read_csv(\"./Metadata/data_curated.csv\")\n",
    "df.set_index(\"File\", inplace=True)\n",
    "df.head()"
   ]
  },
  {
   "cell_type": "code",
   "execution_count": 3,
   "id": "a82d777c-f87b-499d-b809-e30ba9bf1138",
   "metadata": {},
   "outputs": [],
   "source": [
    "X_list = []\n",
    "y_list = []\n",
    "with Bar(\"Processing...\", max = df.size) as bar:\n",
    "    for file_name, class_name in df.iterrows():\n",
    "        X_list.append(np.load(f\"../Clean_Data/{class_name.iloc[0]}/{file_name}\")[:33,:])\n",
    "        y_list.append(class_name.iloc[0])\n",
    "        bar.next()"
   ]
  },
  {
   "cell_type": "code",
   "execution_count": 4,
   "id": "37618267-575a-4e7b-95e1-936773813465",
   "metadata": {},
   "outputs": [
    {
     "name": "stdout",
     "output_type": "stream",
     "text": [
      "33\n"
     ]
    }
   ],
   "source": [
    "min_arr = 1000\n",
    "for arr in X_list:\n",
    "    aux_arr = arr.shape[0]\n",
    "    if aux_arr < min_arr:\n",
    "        min_arr = aux_arr\n",
    "print(min_arr)"
   ]
  },
  {
   "cell_type": "code",
   "execution_count": 5,
   "id": "ab290b93-48d3-414e-9080-109e740eb69b",
   "metadata": {},
   "outputs": [],
   "source": [
    "X = np.stack(X_list)\n",
    "y = np.array(y_list)"
   ]
  },
  {
   "cell_type": "code",
   "execution_count": 6,
   "id": "b07ceb75-9417-4900-9db8-4ee666513019",
   "metadata": {},
   "outputs": [
    {
     "data": {
      "text/plain": [
       "(1500, 33, 1662)"
      ]
     },
     "execution_count": 6,
     "metadata": {},
     "output_type": "execute_result"
    }
   ],
   "source": [
    "X.shape"
   ]
  },
  {
   "cell_type": "code",
   "execution_count": 7,
   "id": "0169b89e-c051-4b9f-9019-848a13432740",
   "metadata": {},
   "outputs": [
    {
     "data": {
      "text/plain": [
       "(1500,)"
      ]
     },
     "execution_count": 7,
     "metadata": {},
     "output_type": "execute_result"
    }
   ],
   "source": [
    "y.shape"
   ]
  },
  {
   "cell_type": "markdown",
   "id": "c5e17114-dd4b-4dc2-82b3-caa56a5b0f44",
   "metadata": {},
   "source": [
    "# GaussianHMM"
   ]
  },
  {
   "cell_type": "raw",
   "id": "623f64e9-efcb-46d2-85a8-885f1fe91403",
   "metadata": {},
   "source": [
    "model = hmm.GaussianHMM(n_components=3, covariance_type=\"full\", n_iter=100)\n",
    "lengths = [33]*1500\n",
    "model.fit(X, lengths=lengths)"
   ]
  },
  {
   "cell_type": "markdown",
   "id": "9e052a39-63c9-4444-a4ef-2b178c6c870f",
   "metadata": {},
   "source": [
    "# Recurrent Neural Networks"
   ]
  },
  {
   "cell_type": "code",
   "execution_count": 21,
   "id": "18cd7a29-4fae-491e-a835-0bab58c8b755",
   "metadata": {},
   "outputs": [],
   "source": [
    "model = Sequential()\n",
    "model.add(LSTM(64, return_sequences=True, activation='relu', input_shape=(33,1662)))\n",
    "model.add(LSTM(128, return_sequences=True, activation='relu'))\n",
    "model.add(LSTM(64, return_sequences=False, activation='relu'))\n",
    "model.add(Dense(64, activation='relu'))\n",
    "model.add(Dense(32, activation='relu'))\n",
    "model.add(Dense(6, activation='softmax'))"
   ]
  },
  {
   "cell_type": "code",
   "execution_count": 22,
   "id": "359c85f2-49f2-44be-9f33-2a3436bbff46",
   "metadata": {},
   "outputs": [],
   "source": [
    "model.compile(optimizer='Adam', loss='categorical_crossentropy', metrics=['categorical_accuracy'])"
   ]
  },
  {
   "cell_type": "code",
   "execution_count": 18,
   "id": "053cfc93-fc83-4dc3-8914-098f6d7e0d10",
   "metadata": {},
   "outputs": [],
   "source": [
    "y = to_categorical(y)"
   ]
  },
  {
   "cell_type": "code",
   "execution_count": 19,
   "id": "cc13d6ec-a7d3-401e-b8f5-fd214c1311e1",
   "metadata": {},
   "outputs": [],
   "source": [
    "X_train, X_test, y_train, y_test = train_test_split(X, y, test_size=0.3)"
   ]
  },
  {
   "cell_type": "code",
   "execution_count": 20,
   "id": "f90e16ee-2240-48f3-88ec-a061298deec1",
   "metadata": {},
   "outputs": [
    {
     "data": {
      "text/plain": [
       "(450, 6)"
      ]
     },
     "execution_count": 20,
     "metadata": {},
     "output_type": "execute_result"
    }
   ],
   "source": [
    "y_test.shape"
   ]
  },
  {
   "cell_type": "code",
   "execution_count": 23,
   "id": "ff7b975f-5de3-4809-8738-3b03c2ee0f0f",
   "metadata": {},
   "outputs": [
    {
     "name": "stdout",
     "output_type": "stream",
     "text": [
      "Model: \"sequential_1\"\n",
      "_________________________________________________________________\n",
      " Layer (type)                Output Shape              Param #   \n",
      "=================================================================\n",
      " lstm_3 (LSTM)               (None, 33, 64)            442112    \n",
      "                                                                 \n",
      " lstm_4 (LSTM)               (None, 33, 128)           98816     \n",
      "                                                                 \n",
      " lstm_5 (LSTM)               (None, 64)                49408     \n",
      "                                                                 \n",
      " dense_3 (Dense)             (None, 64)                4160      \n",
      "                                                                 \n",
      " dense_4 (Dense)             (None, 32)                2080      \n",
      "                                                                 \n",
      " dense_5 (Dense)             (None, 6)                 198       \n",
      "                                                                 \n",
      "=================================================================\n",
      "Total params: 596774 (2.28 MB)\n",
      "Trainable params: 596774 (2.28 MB)\n",
      "Non-trainable params: 0 (0.00 Byte)\n",
      "_________________________________________________________________\n"
     ]
    }
   ],
   "source": [
    "model.summary()"
   ]
  },
  {
   "cell_type": "code",
   "execution_count": 24,
   "id": "15bb6d23-fa43-4c00-8e4f-9ef3e1ed9b65",
   "metadata": {},
   "outputs": [
    {
     "name": "stderr",
     "output_type": "stream",
     "text": [
      "2023-10-23 11:10:31.163936: W tensorflow/tsl/framework/cpu_allocator_impl.cc:83] Allocation of 230353200 exceeds 10% of free system memory.\n"
     ]
    },
    {
     "name": "stdout",
     "output_type": "stream",
     "text": [
      "Epoch 1/200\n",
      "17/17 [==============================] - 13s 248ms/step - loss: 1.7224 - categorical_accuracy: 0.2190\n",
      "Epoch 2/200\n",
      "17/17 [==============================] - 5s 274ms/step - loss: 1.6699 - categorical_accuracy: 0.2390\n",
      "Epoch 3/200\n",
      "17/17 [==============================] - 5s 268ms/step - loss: 1.6183 - categorical_accuracy: 0.2714\n",
      "Epoch 4/200\n",
      "17/17 [==============================] - 5s 323ms/step - loss: 1.5979 - categorical_accuracy: 0.2743\n",
      "Epoch 5/200\n",
      "17/17 [==============================] - 5s 291ms/step - loss: 1.5134 - categorical_accuracy: 0.3324\n",
      "Epoch 6/200\n",
      "17/17 [==============================] - 5s 296ms/step - loss: 1.2416 - categorical_accuracy: 0.4829\n",
      "Epoch 7/200\n",
      "17/17 [==============================] - 4s 247ms/step - loss: 1.4309 - categorical_accuracy: 0.3962\n",
      "Epoch 8/200\n",
      "17/17 [==============================] - 4s 243ms/step - loss: 1.3366 - categorical_accuracy: 0.3933\n",
      "Epoch 9/200\n",
      "17/17 [==============================] - 4s 251ms/step - loss: 1.2991 - categorical_accuracy: 0.4390\n",
      "Epoch 10/200\n",
      "17/17 [==============================] - 4s 252ms/step - loss: 1.1582 - categorical_accuracy: 0.5076\n",
      "Epoch 11/200\n",
      "17/17 [==============================] - 5s 267ms/step - loss: 0.9671 - categorical_accuracy: 0.6000\n",
      "Epoch 12/200\n",
      "17/17 [==============================] - 4s 251ms/step - loss: 1.0577 - categorical_accuracy: 0.5476\n",
      "Epoch 13/200\n",
      "17/17 [==============================] - 4s 248ms/step - loss: 1.0817 - categorical_accuracy: 0.5952\n",
      "Epoch 14/200\n",
      "17/17 [==============================] - 4s 254ms/step - loss: 1.5378 - categorical_accuracy: 0.4838\n",
      "Epoch 15/200\n",
      "17/17 [==============================] - 4s 256ms/step - loss: 1.0773 - categorical_accuracy: 0.5657\n",
      "Epoch 16/200\n",
      "17/17 [==============================] - 5s 265ms/step - loss: 0.8791 - categorical_accuracy: 0.6181\n",
      "Epoch 17/200\n",
      "17/17 [==============================] - 5s 265ms/step - loss: 1.1568 - categorical_accuracy: 0.6257\n",
      "Epoch 18/200\n",
      "17/17 [==============================] - 5s 272ms/step - loss: 0.8287 - categorical_accuracy: 0.6933\n",
      "Epoch 19/200\n",
      "17/17 [==============================] - 4s 258ms/step - loss: 0.7692 - categorical_accuracy: 0.6771\n",
      "Epoch 20/200\n",
      "17/17 [==============================] - 5s 280ms/step - loss: 0.6778 - categorical_accuracy: 0.7276\n",
      "Epoch 21/200\n",
      "17/17 [==============================] - 4s 261ms/step - loss: 0.5717 - categorical_accuracy: 0.7781\n",
      "Epoch 22/200\n",
      "17/17 [==============================] - 4s 243ms/step - loss: 0.5305 - categorical_accuracy: 0.7971\n",
      "Epoch 23/200\n",
      "17/17 [==============================] - 4s 248ms/step - loss: 0.4879 - categorical_accuracy: 0.8171\n",
      "Epoch 24/200\n",
      "17/17 [==============================] - 4s 253ms/step - loss: 0.5672 - categorical_accuracy: 0.7771\n",
      "Epoch 25/200\n",
      "17/17 [==============================] - 4s 250ms/step - loss: 3.0417 - categorical_accuracy: 0.7562\n",
      "Epoch 26/200\n",
      "17/17 [==============================] - 4s 244ms/step - loss: 0.4953 - categorical_accuracy: 0.8095\n",
      "Epoch 27/200\n",
      "17/17 [==============================] - 4s 259ms/step - loss: 0.4846 - categorical_accuracy: 0.8143\n",
      "Epoch 28/200\n",
      "17/17 [==============================] - 4s 243ms/step - loss: 0.4037 - categorical_accuracy: 0.8286\n",
      "Epoch 29/200\n",
      "17/17 [==============================] - 4s 236ms/step - loss: 0.4046 - categorical_accuracy: 0.8362\n",
      "Epoch 30/200\n",
      "17/17 [==============================] - 5s 275ms/step - loss: 0.3360 - categorical_accuracy: 0.8752\n",
      "Epoch 31/200\n",
      "17/17 [==============================] - 4s 259ms/step - loss: 0.2975 - categorical_accuracy: 0.8819\n",
      "Epoch 32/200\n",
      "17/17 [==============================] - 5s 297ms/step - loss: 0.2683 - categorical_accuracy: 0.8914\n",
      "Epoch 33/200\n",
      "17/17 [==============================] - 4s 247ms/step - loss: 0.2739 - categorical_accuracy: 0.8924\n",
      "Epoch 34/200\n",
      "17/17 [==============================] - 4s 256ms/step - loss: 0.3438 - categorical_accuracy: 0.8533\n",
      "Epoch 35/200\n",
      "17/17 [==============================] - 5s 265ms/step - loss: 0.2472 - categorical_accuracy: 0.9124\n",
      "Epoch 36/200\n",
      "17/17 [==============================] - 5s 325ms/step - loss: 0.1992 - categorical_accuracy: 0.9257\n",
      "Epoch 37/200\n",
      "17/17 [==============================] - 5s 316ms/step - loss: 0.3131 - categorical_accuracy: 0.8733\n",
      "Epoch 38/200\n",
      "17/17 [==============================] - 6s 340ms/step - loss: 0.2241 - categorical_accuracy: 0.9105\n",
      "Epoch 39/200\n",
      "17/17 [==============================] - 6s 343ms/step - loss: 0.2369 - categorical_accuracy: 0.9038\n",
      "Epoch 40/200\n",
      "17/17 [==============================] - 5s 309ms/step - loss: 0.1976 - categorical_accuracy: 0.9210\n",
      "Epoch 41/200\n",
      "17/17 [==============================] - 5s 268ms/step - loss: 0.2077 - categorical_accuracy: 0.9219\n",
      "Epoch 42/200\n",
      "17/17 [==============================] - 5s 275ms/step - loss: 0.1524 - categorical_accuracy: 0.9429\n",
      "Epoch 43/200\n",
      "17/17 [==============================] - 4s 255ms/step - loss: 0.1325 - categorical_accuracy: 0.9514\n",
      "Epoch 44/200\n",
      "17/17 [==============================] - 5s 297ms/step - loss: 0.5720 - categorical_accuracy: 0.7610\n",
      "Epoch 45/200\n",
      "17/17 [==============================] - 4s 265ms/step - loss: 0.3509 - categorical_accuracy: 0.8676\n",
      "Epoch 46/200\n",
      "17/17 [==============================] - 5s 272ms/step - loss: 0.2015 - categorical_accuracy: 0.9295\n",
      "Epoch 47/200\n",
      "17/17 [==============================] - 4s 256ms/step - loss: 0.1344 - categorical_accuracy: 0.9533\n",
      "Epoch 48/200\n",
      "17/17 [==============================] - 5s 290ms/step - loss: 0.3184 - categorical_accuracy: 0.8657\n",
      "Epoch 49/200\n",
      "17/17 [==============================] - 5s 282ms/step - loss: 0.1922 - categorical_accuracy: 0.9248\n",
      "Epoch 50/200\n",
      "17/17 [==============================] - 4s 260ms/step - loss: 0.1327 - categorical_accuracy: 0.9543\n",
      "Epoch 51/200\n",
      "17/17 [==============================] - 5s 278ms/step - loss: 0.2724 - categorical_accuracy: 0.8981\n",
      "Epoch 52/200\n",
      "17/17 [==============================] - 5s 277ms/step - loss: 0.3486 - categorical_accuracy: 0.8590\n",
      "Epoch 53/200\n",
      "17/17 [==============================] - 4s 259ms/step - loss: 0.1642 - categorical_accuracy: 0.9419\n",
      "Epoch 54/200\n",
      "17/17 [==============================] - 4s 262ms/step - loss: 0.1372 - categorical_accuracy: 0.9524\n",
      "Epoch 55/200\n",
      "17/17 [==============================] - 5s 303ms/step - loss: 0.1646 - categorical_accuracy: 0.9390\n",
      "Epoch 56/200\n",
      "17/17 [==============================] - 6s 326ms/step - loss: 0.1030 - categorical_accuracy: 0.9619\n",
      "Epoch 57/200\n",
      "17/17 [==============================] - 5s 278ms/step - loss: 0.0825 - categorical_accuracy: 0.9676\n",
      "Epoch 58/200\n",
      "17/17 [==============================] - 5s 267ms/step - loss: 0.1068 - categorical_accuracy: 0.9581\n",
      "Epoch 59/200\n",
      "17/17 [==============================] - 5s 278ms/step - loss: 0.0868 - categorical_accuracy: 0.9657\n",
      "Epoch 60/200\n",
      "17/17 [==============================] - 5s 272ms/step - loss: 0.4043 - categorical_accuracy: 0.8752\n",
      "Epoch 61/200\n",
      "17/17 [==============================] - 5s 286ms/step - loss: 0.2399 - categorical_accuracy: 0.9162\n",
      "Epoch 62/200\n",
      "17/17 [==============================] - 5s 307ms/step - loss: 0.1164 - categorical_accuracy: 0.9667\n",
      "Epoch 63/200\n",
      "17/17 [==============================] - 5s 301ms/step - loss: 0.1197 - categorical_accuracy: 0.9581\n",
      "Epoch 64/200\n",
      "17/17 [==============================] - 5s 267ms/step - loss: 0.0965 - categorical_accuracy: 0.9610\n",
      "Epoch 65/200\n",
      "17/17 [==============================] - 5s 283ms/step - loss: 0.1102 - categorical_accuracy: 0.9590\n",
      "Epoch 66/200\n",
      "17/17 [==============================] - 5s 282ms/step - loss: 0.0984 - categorical_accuracy: 0.9667\n",
      "Epoch 67/200\n",
      "17/17 [==============================] - 5s 278ms/step - loss: 0.0906 - categorical_accuracy: 0.9724\n",
      "Epoch 68/200\n",
      "17/17 [==============================] - 5s 279ms/step - loss: 0.0894 - categorical_accuracy: 0.9695\n",
      "Epoch 69/200\n",
      "17/17 [==============================] - 5s 315ms/step - loss: 0.2427 - categorical_accuracy: 0.9219\n",
      "Epoch 70/200\n",
      "17/17 [==============================] - 5s 271ms/step - loss: 0.0869 - categorical_accuracy: 0.9667\n",
      "Epoch 71/200\n",
      "17/17 [==============================] - 5s 278ms/step - loss: 0.0669 - categorical_accuracy: 0.9810\n",
      "Epoch 72/200\n",
      "17/17 [==============================] - 5s 269ms/step - loss: 0.0559 - categorical_accuracy: 0.9867\n",
      "Epoch 73/200\n",
      "17/17 [==============================] - 5s 283ms/step - loss: 0.1271 - categorical_accuracy: 0.9590\n",
      "Epoch 74/200\n",
      "17/17 [==============================] - 5s 296ms/step - loss: 0.0940 - categorical_accuracy: 0.9676\n",
      "Epoch 75/200\n",
      "17/17 [==============================] - 5s 282ms/step - loss: 0.0581 - categorical_accuracy: 0.9829\n",
      "Epoch 76/200\n",
      "17/17 [==============================] - 5s 271ms/step - loss: 0.0514 - categorical_accuracy: 0.9829\n",
      "Epoch 77/200\n",
      "17/17 [==============================] - 5s 273ms/step - loss: 0.2662 - categorical_accuracy: 0.9267\n",
      "Epoch 78/200\n",
      "17/17 [==============================] - 5s 267ms/step - loss: 0.1308 - categorical_accuracy: 0.9533\n",
      "Epoch 79/200\n",
      "17/17 [==============================] - 5s 283ms/step - loss: 0.0802 - categorical_accuracy: 0.9714\n",
      "Epoch 80/200\n",
      "17/17 [==============================] - 5s 265ms/step - loss: 0.1032 - categorical_accuracy: 0.9686\n",
      "Epoch 81/200\n",
      "17/17 [==============================] - 5s 320ms/step - loss: 0.0934 - categorical_accuracy: 0.9648\n",
      "Epoch 82/200\n",
      "17/17 [==============================] - 5s 324ms/step - loss: 0.0670 - categorical_accuracy: 0.9724\n",
      "Epoch 83/200\n",
      "17/17 [==============================] - 5s 310ms/step - loss: 0.0478 - categorical_accuracy: 0.9867\n",
      "Epoch 84/200\n",
      "17/17 [==============================] - 5s 295ms/step - loss: 0.0325 - categorical_accuracy: 0.9914\n",
      "Epoch 85/200\n",
      "17/17 [==============================] - 5s 275ms/step - loss: 0.0218 - categorical_accuracy: 0.9924\n",
      "Epoch 86/200\n",
      "17/17 [==============================] - 5s 274ms/step - loss: 0.0248 - categorical_accuracy: 0.9905\n",
      "Epoch 87/200\n",
      "17/17 [==============================] - 4s 251ms/step - loss: 0.0444 - categorical_accuracy: 0.9819\n",
      "Epoch 88/200\n",
      "17/17 [==============================] - 5s 273ms/step - loss: 0.0422 - categorical_accuracy: 0.9829\n",
      "Epoch 89/200\n",
      "17/17 [==============================] - 5s 286ms/step - loss: 0.0454 - categorical_accuracy: 0.9838\n",
      "Epoch 90/200\n",
      "17/17 [==============================] - 5s 322ms/step - loss: 0.0174 - categorical_accuracy: 0.9981\n",
      "Epoch 91/200\n",
      "17/17 [==============================] - 5s 299ms/step - loss: 0.0201 - categorical_accuracy: 0.9924\n",
      "Epoch 92/200\n",
      "17/17 [==============================] - 5s 272ms/step - loss: 0.0315 - categorical_accuracy: 0.9886\n",
      "Epoch 93/200\n",
      "17/17 [==============================] - 4s 260ms/step - loss: 0.0262 - categorical_accuracy: 0.9905\n",
      "Epoch 94/200\n",
      "17/17 [==============================] - 5s 286ms/step - loss: 0.6838 - categorical_accuracy: 0.8333\n",
      "Epoch 95/200\n",
      "17/17 [==============================] - 4s 261ms/step - loss: 0.4024 - categorical_accuracy: 0.8533\n",
      "Epoch 96/200\n",
      "17/17 [==============================] - 4s 257ms/step - loss: 0.1858 - categorical_accuracy: 0.9390\n",
      "Epoch 97/200\n",
      "17/17 [==============================] - 4s 254ms/step - loss: 0.1002 - categorical_accuracy: 0.9695\n",
      "Epoch 98/200\n",
      "17/17 [==============================] - 5s 264ms/step - loss: 0.0661 - categorical_accuracy: 0.9810\n",
      "Epoch 99/200\n",
      "17/17 [==============================] - 5s 267ms/step - loss: 0.0374 - categorical_accuracy: 0.9914\n",
      "Epoch 100/200\n",
      "17/17 [==============================] - 5s 278ms/step - loss: 0.0393 - categorical_accuracy: 0.9848\n",
      "Epoch 101/200\n",
      "17/17 [==============================] - 5s 271ms/step - loss: 0.0523 - categorical_accuracy: 0.9848\n",
      "Epoch 102/200\n",
      "17/17 [==============================] - 4s 255ms/step - loss: 0.0335 - categorical_accuracy: 0.9886\n",
      "Epoch 103/200\n",
      "17/17 [==============================] - 4s 264ms/step - loss: 0.0182 - categorical_accuracy: 0.9962\n",
      "Epoch 104/200\n",
      "17/17 [==============================] - 5s 265ms/step - loss: 0.0702 - categorical_accuracy: 0.9733\n",
      "Epoch 105/200\n",
      "17/17 [==============================] - 5s 266ms/step - loss: 0.0704 - categorical_accuracy: 0.9781\n",
      "Epoch 106/200\n",
      "17/17 [==============================] - 5s 276ms/step - loss: 0.0751 - categorical_accuracy: 0.9724\n",
      "Epoch 107/200\n",
      "17/17 [==============================] - 5s 297ms/step - loss: 0.0663 - categorical_accuracy: 0.9714\n",
      "Epoch 108/200\n",
      "17/17 [==============================] - 4s 258ms/step - loss: 0.0440 - categorical_accuracy: 0.9867\n",
      "Epoch 109/200\n",
      "17/17 [==============================] - 5s 259ms/step - loss: 0.1044 - categorical_accuracy: 0.9562\n",
      "Epoch 110/200\n",
      "17/17 [==============================] - 4s 260ms/step - loss: 1.7565 - categorical_accuracy: 0.7933\n",
      "Epoch 111/200\n",
      "17/17 [==============================] - 4s 265ms/step - loss: 0.3492 - categorical_accuracy: 0.8781\n",
      "Epoch 112/200\n",
      "17/17 [==============================] - 4s 261ms/step - loss: 0.2619 - categorical_accuracy: 0.9333\n",
      "Epoch 113/200\n",
      "17/17 [==============================] - 5s 271ms/step - loss: 0.1179 - categorical_accuracy: 0.9629\n",
      "Epoch 114/200\n",
      "17/17 [==============================] - 4s 257ms/step - loss: 0.0860 - categorical_accuracy: 0.9771\n",
      "Epoch 115/200\n",
      "17/17 [==============================] - 4s 249ms/step - loss: 0.0631 - categorical_accuracy: 0.9838\n",
      "Epoch 116/200\n",
      "17/17 [==============================] - 4s 256ms/step - loss: 0.0466 - categorical_accuracy: 0.9867\n",
      "Epoch 117/200\n",
      "17/17 [==============================] - 5s 272ms/step - loss: 0.0348 - categorical_accuracy: 0.9924\n",
      "Epoch 118/200\n",
      "17/17 [==============================] - 4s 264ms/step - loss: 0.0400 - categorical_accuracy: 0.9857\n",
      "Epoch 119/200\n",
      "17/17 [==============================] - 5s 288ms/step - loss: 0.0351 - categorical_accuracy: 0.9895\n",
      "Epoch 120/200\n",
      "17/17 [==============================] - 5s 302ms/step - loss: 0.0360 - categorical_accuracy: 0.9886\n",
      "Epoch 121/200\n",
      "17/17 [==============================] - 5s 269ms/step - loss: 0.0257 - categorical_accuracy: 0.9933\n",
      "Epoch 122/200\n",
      "17/17 [==============================] - 5s 261ms/step - loss: 0.0513 - categorical_accuracy: 0.9867\n",
      "Epoch 123/200\n",
      "17/17 [==============================] - 5s 259ms/step - loss: 0.0517 - categorical_accuracy: 0.9810\n",
      "Epoch 124/200\n",
      "17/17 [==============================] - 4s 255ms/step - loss: 0.0338 - categorical_accuracy: 0.9886\n",
      "Epoch 125/200\n",
      "17/17 [==============================] - 5s 266ms/step - loss: 0.0186 - categorical_accuracy: 0.9971\n",
      "Epoch 126/200\n",
      "17/17 [==============================] - 4s 258ms/step - loss: 0.0097 - categorical_accuracy: 0.9990\n",
      "Epoch 127/200\n",
      "17/17 [==============================] - 4s 259ms/step - loss: 0.0307 - categorical_accuracy: 0.9895\n",
      "Epoch 128/200\n",
      "17/17 [==============================] - 5s 263ms/step - loss: 0.0184 - categorical_accuracy: 0.9952\n",
      "Epoch 129/200\n",
      "17/17 [==============================] - 4s 252ms/step - loss: 0.0086 - categorical_accuracy: 0.9981\n",
      "Epoch 130/200\n",
      "17/17 [==============================] - 4s 260ms/step - loss: 0.0079 - categorical_accuracy: 0.9990\n",
      "Epoch 131/200\n",
      "17/17 [==============================] - 4s 255ms/step - loss: 0.0132 - categorical_accuracy: 0.9962\n",
      "Epoch 132/200\n",
      "17/17 [==============================] - 4s 251ms/step - loss: 0.0083 - categorical_accuracy: 0.9971\n",
      "Epoch 133/200\n",
      "17/17 [==============================] - 4s 258ms/step - loss: 0.0066 - categorical_accuracy: 0.9990\n",
      "Epoch 134/200\n",
      "17/17 [==============================] - 5s 282ms/step - loss: 0.0028 - categorical_accuracy: 1.0000\n",
      "Epoch 135/200\n",
      "17/17 [==============================] - 4s 259ms/step - loss: 0.0025 - categorical_accuracy: 1.0000\n",
      "Epoch 136/200\n",
      "17/17 [==============================] - 4s 252ms/step - loss: 0.1694 - categorical_accuracy: 0.9590\n",
      "Epoch 137/200\n",
      "17/17 [==============================] - 4s 251ms/step - loss: 0.0986 - categorical_accuracy: 0.9676\n",
      "Epoch 138/200\n",
      "17/17 [==============================] - 4s 242ms/step - loss: 0.1051 - categorical_accuracy: 0.9705\n",
      "Epoch 139/200\n",
      "17/17 [==============================] - 4s 248ms/step - loss: 0.1247 - categorical_accuracy: 0.9562\n",
      "Epoch 140/200\n",
      "17/17 [==============================] - 4s 252ms/step - loss: 0.1409 - categorical_accuracy: 0.9495\n",
      "Epoch 141/200\n",
      "17/17 [==============================] - 4s 258ms/step - loss: 0.0724 - categorical_accuracy: 0.9781\n",
      "Epoch 142/200\n",
      "17/17 [==============================] - 4s 255ms/step - loss: 0.0551 - categorical_accuracy: 0.9819\n",
      "Epoch 143/200\n",
      "17/17 [==============================] - 4s 250ms/step - loss: 0.0458 - categorical_accuracy: 0.9857\n",
      "Epoch 144/200\n",
      "17/17 [==============================] - 4s 255ms/step - loss: 0.0328 - categorical_accuracy: 0.9886\n",
      "Epoch 145/200\n",
      "17/17 [==============================] - 4s 251ms/step - loss: 0.0293 - categorical_accuracy: 0.9895\n",
      "Epoch 146/200\n",
      "17/17 [==============================] - 4s 245ms/step - loss: 0.0172 - categorical_accuracy: 0.9962\n",
      "Epoch 147/200\n",
      "17/17 [==============================] - 4s 260ms/step - loss: 0.0143 - categorical_accuracy: 0.9971\n",
      "Epoch 148/200\n",
      "17/17 [==============================] - 5s 283ms/step - loss: 0.0104 - categorical_accuracy: 0.9990\n",
      "Epoch 149/200\n",
      "17/17 [==============================] - 5s 276ms/step - loss: 0.0079 - categorical_accuracy: 0.9990\n",
      "Epoch 150/200\n",
      "17/17 [==============================] - 4s 246ms/step - loss: 0.0067 - categorical_accuracy: 0.9990\n",
      "Epoch 151/200\n",
      "17/17 [==============================] - 5s 266ms/step - loss: 0.0079 - categorical_accuracy: 0.9981\n",
      "Epoch 152/200\n",
      "17/17 [==============================] - 4s 245ms/step - loss: 0.0086 - categorical_accuracy: 0.9981\n",
      "Epoch 153/200\n",
      "17/17 [==============================] - 4s 251ms/step - loss: 0.0069 - categorical_accuracy: 0.9981\n",
      "Epoch 154/200\n",
      "17/17 [==============================] - 4s 244ms/step - loss: 0.0041 - categorical_accuracy: 1.0000\n",
      "Epoch 155/200\n",
      "17/17 [==============================] - 4s 246ms/step - loss: 0.0026 - categorical_accuracy: 1.0000\n",
      "Epoch 156/200\n",
      "17/17 [==============================] - 4s 247ms/step - loss: 0.0023 - categorical_accuracy: 1.0000\n",
      "Epoch 157/200\n",
      "17/17 [==============================] - 4s 247ms/step - loss: 0.0018 - categorical_accuracy: 1.0000\n",
      "Epoch 158/200\n",
      "17/17 [==============================] - 4s 244ms/step - loss: 0.0012 - categorical_accuracy: 1.0000\n",
      "Epoch 159/200\n",
      "17/17 [==============================] - 4s 245ms/step - loss: 0.0010 - categorical_accuracy: 1.0000\n",
      "Epoch 160/200\n",
      "17/17 [==============================] - 4s 256ms/step - loss: 8.6288e-04 - categorical_accuracy: 1.0000\n",
      "Epoch 161/200\n",
      "17/17 [==============================] - 4s 260ms/step - loss: 7.4301e-04 - categorical_accuracy: 1.0000\n",
      "Epoch 162/200\n",
      "17/17 [==============================] - 4s 252ms/step - loss: 6.7271e-04 - categorical_accuracy: 1.0000\n",
      "Epoch 163/200\n",
      "17/17 [==============================] - 4s 251ms/step - loss: 6.0630e-04 - categorical_accuracy: 1.0000\n",
      "Epoch 164/200\n",
      "17/17 [==============================] - 4s 256ms/step - loss: 5.5844e-04 - categorical_accuracy: 1.0000\n",
      "Epoch 165/200\n",
      "17/17 [==============================] - 4s 256ms/step - loss: 5.1315e-04 - categorical_accuracy: 1.0000\n",
      "Epoch 166/200\n",
      "17/17 [==============================] - 4s 251ms/step - loss: 4.6209e-04 - categorical_accuracy: 1.0000\n",
      "Epoch 167/200\n",
      "17/17 [==============================] - 4s 255ms/step - loss: 4.3462e-04 - categorical_accuracy: 1.0000\n",
      "Epoch 168/200\n",
      "17/17 [==============================] - 4s 247ms/step - loss: 4.0210e-04 - categorical_accuracy: 1.0000\n",
      "Epoch 169/200\n",
      "17/17 [==============================] - 4s 250ms/step - loss: 3.8846e-04 - categorical_accuracy: 1.0000\n",
      "Epoch 170/200\n",
      "17/17 [==============================] - 4s 253ms/step - loss: 3.7123e-04 - categorical_accuracy: 1.0000\n",
      "Epoch 171/200\n",
      "17/17 [==============================] - 4s 256ms/step - loss: 3.2716e-04 - categorical_accuracy: 1.0000\n",
      "Epoch 172/200\n",
      "17/17 [==============================] - 4s 252ms/step - loss: 3.0975e-04 - categorical_accuracy: 1.0000\n",
      "Epoch 173/200\n",
      "17/17 [==============================] - 4s 250ms/step - loss: 2.9684e-04 - categorical_accuracy: 1.0000\n",
      "Epoch 174/200\n",
      "17/17 [==============================] - 4s 255ms/step - loss: 2.7756e-04 - categorical_accuracy: 1.0000\n",
      "Epoch 175/200\n",
      "17/17 [==============================] - 5s 268ms/step - loss: 2.6704e-04 - categorical_accuracy: 1.0000\n",
      "Epoch 176/200\n",
      "17/17 [==============================] - 5s 264ms/step - loss: 2.5045e-04 - categorical_accuracy: 1.0000\n",
      "Epoch 177/200\n",
      "17/17 [==============================] - 4s 255ms/step - loss: 2.3970e-04 - categorical_accuracy: 1.0000\n",
      "Epoch 178/200\n",
      "17/17 [==============================] - 4s 248ms/step - loss: 2.3055e-04 - categorical_accuracy: 1.0000\n",
      "Epoch 179/200\n",
      "17/17 [==============================] - 4s 254ms/step - loss: 2.2115e-04 - categorical_accuracy: 1.0000\n",
      "Epoch 180/200\n",
      "17/17 [==============================] - 4s 245ms/step - loss: 2.1234e-04 - categorical_accuracy: 1.0000\n",
      "Epoch 181/200\n",
      "17/17 [==============================] - 4s 251ms/step - loss: 2.0226e-04 - categorical_accuracy: 1.0000\n",
      "Epoch 182/200\n",
      "17/17 [==============================] - 4s 245ms/step - loss: 1.9179e-04 - categorical_accuracy: 1.0000\n",
      "Epoch 183/200\n",
      "17/17 [==============================] - 4s 249ms/step - loss: 1.8316e-04 - categorical_accuracy: 1.0000\n",
      "Epoch 184/200\n",
      "17/17 [==============================] - 4s 245ms/step - loss: 1.7479e-04 - categorical_accuracy: 1.0000\n",
      "Epoch 185/200\n",
      "17/17 [==============================] - 4s 241ms/step - loss: 1.6955e-04 - categorical_accuracy: 1.0000\n",
      "Epoch 186/200\n",
      "17/17 [==============================] - 4s 256ms/step - loss: 1.6214e-04 - categorical_accuracy: 1.0000\n",
      "Epoch 187/200\n",
      "17/17 [==============================] - 4s 249ms/step - loss: 1.5857e-04 - categorical_accuracy: 1.0000\n",
      "Epoch 188/200\n",
      "17/17 [==============================] - 4s 257ms/step - loss: 1.5505e-04 - categorical_accuracy: 1.0000\n",
      "Epoch 189/200\n",
      "17/17 [==============================] - 5s 271ms/step - loss: 1.4582e-04 - categorical_accuracy: 1.0000\n",
      "Epoch 190/200\n",
      "17/17 [==============================] - 4s 248ms/step - loss: 1.3850e-04 - categorical_accuracy: 1.0000\n",
      "Epoch 191/200\n",
      "17/17 [==============================] - 5s 269ms/step - loss: 1.3753e-04 - categorical_accuracy: 1.0000\n",
      "Epoch 192/200\n",
      "17/17 [==============================] - 4s 254ms/step - loss: 1.2958e-04 - categorical_accuracy: 1.0000\n",
      "Epoch 193/200\n",
      "17/17 [==============================] - 4s 247ms/step - loss: 1.2458e-04 - categorical_accuracy: 1.0000\n",
      "Epoch 194/200\n",
      "17/17 [==============================] - 4s 259ms/step - loss: 1.2085e-04 - categorical_accuracy: 1.0000\n",
      "Epoch 195/200\n",
      "17/17 [==============================] - 4s 257ms/step - loss: 1.1580e-04 - categorical_accuracy: 1.0000\n",
      "Epoch 196/200\n",
      "17/17 [==============================] - 4s 244ms/step - loss: 1.1208e-04 - categorical_accuracy: 1.0000\n",
      "Epoch 197/200\n",
      "17/17 [==============================] - 4s 255ms/step - loss: 1.0974e-04 - categorical_accuracy: 1.0000\n",
      "Epoch 198/200\n",
      "17/17 [==============================] - 4s 253ms/step - loss: 1.0602e-04 - categorical_accuracy: 1.0000\n",
      "Epoch 199/200\n",
      "17/17 [==============================] - 4s 256ms/step - loss: 1.0201e-04 - categorical_accuracy: 1.0000\n",
      "Epoch 200/200\n",
      "17/17 [==============================] - 4s 255ms/step - loss: 9.8871e-05 - categorical_accuracy: 1.0000\n"
     ]
    },
    {
     "data": {
      "text/plain": [
       "<keras.src.callbacks.History at 0x7fdbdba3a890>"
      ]
     },
     "execution_count": 24,
     "metadata": {},
     "output_type": "execute_result"
    }
   ],
   "source": [
    "model.fit(X_train, y_train, epochs=200, batch_size=64)"
   ]
  },
  {
   "cell_type": "code",
   "execution_count": 34,
   "id": "73a775c0-abab-448e-b8be-88063ad94a6e",
   "metadata": {},
   "outputs": [
    {
     "name": "stderr",
     "output_type": "stream",
     "text": [
      "2023-10-23 11:35:26.007860: W tensorflow/tsl/framework/cpu_allocator_impl.cc:83] Allocation of 98722800 exceeds 10% of free system memory.\n"
     ]
    },
    {
     "name": "stdout",
     "output_type": "stream",
     "text": [
      "15/15 [==============================] - 1s 66ms/step\n"
     ]
    }
   ],
   "source": [
    "y_pred = model.predict(X_test)"
   ]
  },
  {
   "cell_type": "code",
   "execution_count": 35,
   "id": "9cb96bab-5148-4b35-9cbe-4d80d644ca38",
   "metadata": {},
   "outputs": [],
   "source": [
    "y_pred = np.argmax(y_pred, axis=1).tolist()"
   ]
  },
  {
   "cell_type": "code",
   "execution_count": 36,
   "id": "6012f4b5-67d7-46bc-8e64-c1f959a06bfd",
   "metadata": {},
   "outputs": [],
   "source": [
    "y_true = np.argmax(y_test, axis=1).tolist()"
   ]
  },
  {
   "cell_type": "code",
   "execution_count": 72,
   "id": "9839ad9f-a234-4fc7-a2e2-958819131aba",
   "metadata": {},
   "outputs": [],
   "source": [
    "from sklearn.metrics import multilabel_confusion_matrix, accuracy_score,ConfusionMatrixDisplay, confusion_matrix"
   ]
  },
  {
   "cell_type": "code",
   "execution_count": 80,
   "id": "e76600d4-93c7-4f59-a09c-c1f526e2b06e",
   "metadata": {},
   "outputs": [],
   "source": [
    "confusion_matrices = confusion_matrix(y_true, y_pred,labels=np.unique(y_pred), normalize='true')"
   ]
  },
  {
   "cell_type": "code",
   "execution_count": 81,
   "id": "54383999-5c63-413c-9471-7f9fb6552863",
   "metadata": {},
   "outputs": [
    {
     "data": {
      "text/plain": [
       "array([[0.98979592, 0.        , 0.01020408, 0.        , 0.        ],\n",
       "       [0.        , 1.        , 0.        , 0.        , 0.        ],\n",
       "       [0.01149425, 0.        , 0.98850575, 0.        , 0.        ],\n",
       "       [0.        , 0.        , 0.        , 0.97727273, 0.02272727],\n",
       "       [0.01162791, 0.01162791, 0.01162791, 0.02325581, 0.94186047]])"
      ]
     },
     "execution_count": 81,
     "metadata": {},
     "output_type": "execute_result"
    }
   ],
   "source": [
    "confusion_matrices"
   ]
  },
  {
   "cell_type": "code",
   "execution_count": 82,
   "id": "7b7fb0dc-1baf-4432-8c02-300125e6864b",
   "metadata": {},
   "outputs": [
    {
     "data": {
      "text/plain": [
       "<sklearn.metrics._plot.confusion_matrix.ConfusionMatrixDisplay at 0x7fdc9a8f5090>"
      ]
     },
     "execution_count": 82,
     "metadata": {},
     "output_type": "execute_result"
    },
    {
     "data": {
      "image/png": "[encoded data removed]",
      "text/plain": [
       "<Figure size 640x480 with 2 Axes>"
      ]
     },
     "metadata": {},
     "output_type": "display_data"
    }
   ],
   "source": [
    "disp = ConfusionMatrixDisplay(confusion_matrices, display_labels=np.unique(y_pred))\n",
    "disp.plot()"
   ]
  },
  {
   "cell_type": "code",
   "execution_count": null,
   "id": "f2047f6c-c67d-4574-a7d7-553a1e4b01c7",
   "metadata": {},
   "outputs": [],
   "source": []
  }
 ],
 "metadata": {
  "kernelspec": {
   "display_name": "Python 3 (ipykernel)",
   "language": "python",
   "name": "python3"
  },
  "language_info": {
   "codemirror_mode": {
    "name": "ipython",
    "version": 3
   },
   "file_extension": ".py",
   "mimetype": "text/x-python",
   "name": "python",
   "nbconvert_exporter": "python",
   "pygments_lexer": "ipython3",
   "version": "3.10.9"
  }
 },
 "nbformat": 4,
 "nbformat_minor": 5
}
