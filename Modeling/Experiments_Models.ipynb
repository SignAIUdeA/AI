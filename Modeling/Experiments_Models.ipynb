{
 "cells": [
  {
   "cell_type": "code",
   "execution_count": 1,
   "id": "c235c84e-96df-4c9c-af66-4c495812b9b4",
   "metadata": {},
   "outputs": [
    {
     "name": "stderr",
     "output_type": "stream",
     "text": [
      "2023-10-29 20:56:14.644420: E tensorflow/compiler/xla/stream_executor/cuda/cuda_dnn.cc:9342] Unable to register cuDNN factory: Attempting to register factory for plugin cuDNN when one has already been registered\n",
      "2023-10-29 20:56:14.644498: E tensorflow/compiler/xla/stream_executor/cuda/cuda_fft.cc:609] Unable to register cuFFT factory: Attempting to register factory for plugin cuFFT when one has already been registered\n",
      "2023-10-29 20:56:14.647127: E tensorflow/compiler/xla/stream_executor/cuda/cuda_blas.cc:1518] Unable to register cuBLAS factory: Attempting to register factory for plugin cuBLAS when one has already been registered\n",
      "2023-10-29 20:56:14.890973: I tensorflow/core/platform/cpu_feature_guard.cc:182] This TensorFlow binary is optimized to use available CPU instructions in performance-critical operations.\n",
      "To enable the following instructions: AVX2 FMA, in other operations, rebuild TensorFlow with the appropriate compiler flags.\n",
      "2023-10-29 20:56:19.189348: W tensorflow/compiler/tf2tensorrt/utils/py_utils.cc:38] TF-TRT Warning: Could not find TensorRT\n"
     ]
    }
   ],
   "source": [
    "import pandas as pd\n",
    "import numpy as np\n",
    "from progress.bar import Bar\n",
    "#from hmmlearn import hmm\n",
    "from sklearn.model_selection import train_test_split\n",
    "from tensorflow.keras.models import Sequential\n",
    "from tensorflow.keras.layers import LSTM, Dense\n",
    "from tensorflow.keras.utils import to_categorical"
   ]
  },
  {
   "cell_type": "code",
   "execution_count": 3,
   "id": "16c960a1-e3e9-4203-aaa9-ecbb7bb9db51",
   "metadata": {},
   "outputs": [
    {
     "data": {
      "text/html": [
       "<div>\n",
       "<style scoped>\n",
       "    .dataframe tbody tr th:only-of-type {\n",
       "        vertical-align: middle;\n",
       "    }\n",
       "\n",
       "    .dataframe tbody tr th {\n",
       "        vertical-align: top;\n",
       "    }\n",
       "\n",
       "    .dataframe thead th {\n",
       "        text-align: right;\n",
       "    }\n",
       "</style>\n",
       "<table border=\"1\" class=\"dataframe\">\n",
       "  <thead>\n",
       "    <tr style=\"text-align: right;\">\n",
       "      <th></th>\n",
       "      <th>Class</th>\n",
       "    </tr>\n",
       "    <tr>\n",
       "      <th>File</th>\n",
       "      <th></th>\n",
       "    </tr>\n",
       "  </thead>\n",
       "  <tbody>\n",
       "    <tr>\n",
       "      <th>S1V3C1M3A Clip166.npy</th>\n",
       "      <td>1</td>\n",
       "    </tr>\n",
       "    <tr>\n",
       "      <th>S1V1C1M1A Clip18.npy</th>\n",
       "      <td>1</td>\n",
       "    </tr>\n",
       "    <tr>\n",
       "      <th>S1V4C1M4A Clip241.npy</th>\n",
       "      <td>1</td>\n",
       "    </tr>\n",
       "    <tr>\n",
       "      <th>S1V4C1M4A Clip239.npy</th>\n",
       "      <td>1</td>\n",
       "    </tr>\n",
       "    <tr>\n",
       "      <th>S1V4C1M4A Clip245.npy</th>\n",
       "      <td>1</td>\n",
       "    </tr>\n",
       "  </tbody>\n",
       "</table>\n",
       "</div>"
      ],
      "text/plain": [
       "                       Class\n",
       "File                        \n",
       "S1V3C1M3A Clip166.npy      1\n",
       "S1V1C1M1A Clip18.npy       1\n",
       "S1V4C1M4A Clip241.npy      1\n",
       "S1V4C1M4A Clip239.npy      1\n",
       "S1V4C1M4A Clip245.npy      1"
      ]
     },
     "execution_count": 3,
     "metadata": {},
     "output_type": "execute_result"
    }
   ],
   "source": [
    "df = pd.read_csv(\"../Metadata/data_curated.csv\")\n",
    "df.set_index(\"File\", inplace=True)\n",
    "df.head()"
   ]
  },
  {
   "cell_type": "code",
   "execution_count": 4,
   "id": "a82d777c-f87b-499d-b809-e30ba9bf1138",
   "metadata": {},
   "outputs": [],
   "source": [
    "X_list = []\n",
    "y_list = []\n",
    "with Bar(\"Processing...\", max = df.size) as bar:\n",
    "    for file_name, class_name in df.iterrows():\n",
    "        X_list.append(np.load(f\"../Clean_Data/{class_name.iloc[0]}/{file_name}\")[:33,:])\n",
    "        y_list.append(class_name.iloc[0])\n",
    "        bar.next()"
   ]
  },
  {
   "cell_type": "code",
   "execution_count": 5,
   "id": "37618267-575a-4e7b-95e1-936773813465",
   "metadata": {},
   "outputs": [
    {
     "name": "stdout",
     "output_type": "stream",
     "text": [
      "33\n"
     ]
    }
   ],
   "source": [
    "min_arr = 1000\n",
    "for arr in X_list:\n",
    "    aux_arr = arr.shape[0]\n",
    "    if aux_arr < min_arr:\n",
    "        min_arr = aux_arr\n",
    "print(min_arr)"
   ]
  },
  {
   "cell_type": "code",
   "execution_count": 6,
   "id": "ab290b93-48d3-414e-9080-109e740eb69b",
   "metadata": {},
   "outputs": [],
   "source": [
    "X = np.stack(X_list)\n",
    "y = np.array(y_list)"
   ]
  },
  {
   "cell_type": "code",
   "execution_count": 7,
   "id": "b07ceb75-9417-4900-9db8-4ee666513019",
   "metadata": {},
   "outputs": [
    {
     "data": {
      "text/plain": [
       "(1500, 33, 1662)"
      ]
     },
     "execution_count": 7,
     "metadata": {},
     "output_type": "execute_result"
    }
   ],
   "source": [
    "X.shape"
   ]
  },
  {
   "cell_type": "code",
   "execution_count": 8,
   "id": "0169b89e-c051-4b9f-9019-848a13432740",
   "metadata": {},
   "outputs": [
    {
     "data": {
      "text/plain": [
       "(1500,)"
      ]
     },
     "execution_count": 8,
     "metadata": {},
     "output_type": "execute_result"
    }
   ],
   "source": [
    "y.shape"
   ]
  },
  {
   "cell_type": "markdown",
   "id": "c5e17114-dd4b-4dc2-82b3-caa56a5b0f44",
   "metadata": {},
   "source": [
    "# GaussianHMM"
   ]
  },
  {
   "cell_type": "raw",
   "id": "623f64e9-efcb-46d2-85a8-885f1fe91403",
   "metadata": {},
   "source": [
    "model = hmm.GaussianHMM(n_components=3, covariance_type=\"full\", n_iter=100)\n",
    "lengths = [33]*1500\n",
    "model.fit(X, lengths=lengths)"
   ]
  },
  {
   "cell_type": "markdown",
   "id": "9e052a39-63c9-4444-a4ef-2b178c6c870f",
   "metadata": {},
   "source": [
    "# Recurrent Neural Networks"
   ]
  },
  {
   "cell_type": "code",
   "execution_count": 9,
   "id": "18cd7a29-4fae-491e-a835-0bab58c8b755",
   "metadata": {},
   "outputs": [],
   "source": [
    "model = Sequential()\n",
    "model.add(LSTM(64, return_sequences=True, activation='relu', input_shape=(33,1662)))\n",
    "model.add(LSTM(128, return_sequences=True, activation='relu'))\n",
    "model.add(LSTM(64, return_sequences=False, activation='relu'))\n",
    "model.add(Dense(64, activation='relu'))\n",
    "model.add(Dense(32, activation='relu'))\n",
    "model.add(Dense(6, activation='softmax'))"
   ]
  },
  {
   "cell_type": "code",
   "execution_count": 10,
   "id": "359c85f2-49f2-44be-9f33-2a3436bbff46",
   "metadata": {},
   "outputs": [],
   "source": [
    "model.compile(optimizer='Adam', loss='categorical_crossentropy', metrics=['categorical_accuracy'])"
   ]
  },
  {
   "cell_type": "code",
   "execution_count": 11,
   "id": "053cfc93-fc83-4dc3-8914-098f6d7e0d10",
   "metadata": {},
   "outputs": [],
   "source": [
    "y = to_categorical(y)"
   ]
  },
  {
   "cell_type": "code",
   "execution_count": 12,
   "id": "cc13d6ec-a7d3-401e-b8f5-fd214c1311e1",
   "metadata": {},
   "outputs": [],
   "source": [
    "X_train, X_test, y_train, y_test = train_test_split(X, y, test_size=0.3)"
   ]
  },
  {
   "cell_type": "code",
   "execution_count": 13,
   "id": "f90e16ee-2240-48f3-88ec-a061298deec1",
   "metadata": {},
   "outputs": [
    {
     "data": {
      "text/plain": [
       "(450, 6)"
      ]
     },
     "execution_count": 13,
     "metadata": {},
     "output_type": "execute_result"
    }
   ],
   "source": [
    "y_test.shape"
   ]
  },
  {
   "cell_type": "code",
   "execution_count": 14,
   "id": "ff7b975f-5de3-4809-8738-3b03c2ee0f0f",
   "metadata": {},
   "outputs": [
    {
     "name": "stdout",
     "output_type": "stream",
     "text": [
      "Model: \"sequential\"\n",
      "_________________________________________________________________\n",
      " Layer (type)                Output Shape              Param #   \n",
      "=================================================================\n",
      " lstm (LSTM)                 (None, 33, 64)            442112    \n",
      "                                                                 \n",
      " lstm_1 (LSTM)               (None, 33, 128)           98816     \n",
      "                                                                 \n",
      " lstm_2 (LSTM)               (None, 64)                49408     \n",
      "                                                                 \n",
      " dense (Dense)               (None, 64)                4160      \n",
      "                                                                 \n",
      " dense_1 (Dense)             (None, 32)                2080      \n",
      "                                                                 \n",
      " dense_2 (Dense)             (None, 6)                 198       \n",
      "                                                                 \n",
      "=================================================================\n",
      "Total params: 596774 (2.28 MB)\n",
      "Trainable params: 596774 (2.28 MB)\n",
      "Non-trainable params: 0 (0.00 Byte)\n",
      "_________________________________________________________________\n"
     ]
    }
   ],
   "source": [
    "model.summary()"
   ]
  },
  {
   "cell_type": "code",
   "execution_count": 15,
   "id": "15bb6d23-fa43-4c00-8e4f-9ef3e1ed9b65",
   "metadata": {},
   "outputs": [
    {
     "name": "stderr",
     "output_type": "stream",
     "text": [
      "2023-10-29 20:57:18.834601: W tensorflow/tsl/framework/cpu_allocator_impl.cc:83] Allocation of 230353200 exceeds 10% of free system memory.\n"
     ]
    },
    {
     "name": "stdout",
     "output_type": "stream",
     "text": [
      "Epoch 1/200\n",
      "17/17 [==============================] - 11s 222ms/step - loss: 3.5388 - categorical_accuracy: 0.1619\n",
      "Epoch 2/200\n",
      "17/17 [==============================] - 4s 254ms/step - loss: 1.7920 - categorical_accuracy: 0.2019\n",
      "Epoch 3/200\n",
      "17/17 [==============================] - 4s 225ms/step - loss: 1.3969 - categorical_accuracy: 0.4343\n",
      "Epoch 4/200\n",
      "17/17 [==============================] - 4s 227ms/step - loss: 1.1092 - categorical_accuracy: 0.5124\n",
      "Epoch 5/200\n",
      "17/17 [==============================] - 4s 225ms/step - loss: 1.0760 - categorical_accuracy: 0.5229\n",
      "Epoch 6/200\n",
      "17/17 [==============================] - 4s 233ms/step - loss: 1.0006 - categorical_accuracy: 0.5790\n",
      "Epoch 7/200\n",
      "17/17 [==============================] - 4s 224ms/step - loss: 0.7759 - categorical_accuracy: 0.7067\n",
      "Epoch 8/200\n",
      "17/17 [==============================] - 4s 227ms/step - loss: 0.6871 - categorical_accuracy: 0.7124\n",
      "Epoch 9/200\n",
      "17/17 [==============================] - 4s 238ms/step - loss: 0.6839 - categorical_accuracy: 0.7200\n",
      "Epoch 10/200\n",
      "17/17 [==============================] - 4s 244ms/step - loss: 0.5462 - categorical_accuracy: 0.7781\n",
      "Epoch 11/200\n",
      "17/17 [==============================] - 4s 233ms/step - loss: 0.5830 - categorical_accuracy: 0.7600\n",
      "Epoch 12/200\n",
      "17/17 [==============================] - 4s 231ms/step - loss: 0.5256 - categorical_accuracy: 0.7952\n",
      "Epoch 13/200\n",
      "17/17 [==============================] - 4s 235ms/step - loss: 0.5137 - categorical_accuracy: 0.7981\n",
      "Epoch 14/200\n",
      "17/17 [==============================] - 4s 231ms/step - loss: 0.5405 - categorical_accuracy: 0.7733\n",
      "Epoch 15/200\n",
      "17/17 [==============================] - 4s 224ms/step - loss: 0.4997 - categorical_accuracy: 0.8019\n",
      "Epoch 16/200\n",
      "17/17 [==============================] - 4s 229ms/step - loss: 0.3829 - categorical_accuracy: 0.8352\n",
      "Epoch 17/200\n",
      "17/17 [==============================] - 4s 245ms/step - loss: 0.5081 - categorical_accuracy: 0.7514\n",
      "Epoch 18/200\n",
      "17/17 [==============================] - 4s 230ms/step - loss: 0.4215 - categorical_accuracy: 0.8276\n",
      "Epoch 19/200\n",
      "17/17 [==============================] - 4s 225ms/step - loss: 0.4085 - categorical_accuracy: 0.8362\n",
      "Epoch 20/200\n",
      "17/17 [==============================] - 4s 226ms/step - loss: 0.3961 - categorical_accuracy: 0.8400\n",
      "Epoch 21/200\n",
      "17/17 [==============================] - 4s 223ms/step - loss: 0.4458 - categorical_accuracy: 0.8200\n",
      "Epoch 22/200\n",
      "17/17 [==============================] - 4s 221ms/step - loss: 0.3692 - categorical_accuracy: 0.8590\n",
      "Epoch 23/200\n",
      "17/17 [==============================] - 4s 224ms/step - loss: 0.3600 - categorical_accuracy: 0.8657\n",
      "Epoch 24/200\n",
      "17/17 [==============================] - 4s 236ms/step - loss: 0.3301 - categorical_accuracy: 0.8600\n",
      "Epoch 25/200\n",
      "17/17 [==============================] - 4s 239ms/step - loss: 0.2285 - categorical_accuracy: 0.9229\n",
      "Epoch 26/200\n",
      "17/17 [==============================] - 4s 226ms/step - loss: 0.2452 - categorical_accuracy: 0.9095\n",
      "Epoch 27/200\n",
      "17/17 [==============================] - 4s 227ms/step - loss: 0.4023 - categorical_accuracy: 0.8562\n",
      "Epoch 28/200\n",
      "17/17 [==============================] - 4s 226ms/step - loss: 0.2167 - categorical_accuracy: 0.9171\n",
      "Epoch 29/200\n",
      "17/17 [==============================] - 4s 236ms/step - loss: 0.1511 - categorical_accuracy: 0.9457\n",
      "Epoch 30/200\n",
      "17/17 [==============================] - 4s 228ms/step - loss: 0.1381 - categorical_accuracy: 0.9457\n",
      "Epoch 31/200\n",
      "17/17 [==============================] - 4s 231ms/step - loss: 0.1447 - categorical_accuracy: 0.9457\n",
      "Epoch 32/200\n",
      "17/17 [==============================] - 4s 233ms/step - loss: 0.4886 - categorical_accuracy: 0.8200\n",
      "Epoch 33/200\n",
      "17/17 [==============================] - 4s 249ms/step - loss: 0.3359 - categorical_accuracy: 0.8638\n",
      "Epoch 34/200\n",
      "17/17 [==============================] - 4s 228ms/step - loss: 0.1728 - categorical_accuracy: 0.9419\n",
      "Epoch 35/200\n",
      "17/17 [==============================] - 4s 227ms/step - loss: 0.2511 - categorical_accuracy: 0.9124\n",
      "Epoch 36/200\n",
      "17/17 [==============================] - 4s 227ms/step - loss: 0.2718 - categorical_accuracy: 0.8924\n",
      "Epoch 37/200\n",
      "17/17 [==============================] - 4s 232ms/step - loss: 0.1879 - categorical_accuracy: 0.9267\n",
      "Epoch 38/200\n",
      "17/17 [==============================] - 4s 223ms/step - loss: 0.1831 - categorical_accuracy: 0.9343\n",
      "Epoch 39/200\n",
      "17/17 [==============================] - 4s 229ms/step - loss: 0.1839 - categorical_accuracy: 0.9400\n",
      "Epoch 40/200\n",
      "17/17 [==============================] - 4s 226ms/step - loss: 0.1918 - categorical_accuracy: 0.9286\n",
      "Epoch 41/200\n",
      "17/17 [==============================] - 4s 233ms/step - loss: 0.1211 - categorical_accuracy: 0.9581\n",
      "Epoch 42/200\n",
      "17/17 [==============================] - 4s 231ms/step - loss: 0.3437 - categorical_accuracy: 0.8819\n",
      "Epoch 43/200\n",
      "17/17 [==============================] - 4s 223ms/step - loss: 0.2166 - categorical_accuracy: 0.9305\n",
      "Epoch 44/200\n",
      "17/17 [==============================] - 4s 224ms/step - loss: 0.5354 - categorical_accuracy: 0.8848\n",
      "Epoch 45/200\n",
      "17/17 [==============================] - 4s 235ms/step - loss: 0.9568 - categorical_accuracy: 0.6714\n",
      "Epoch 46/200\n",
      "17/17 [==============================] - 4s 233ms/step - loss: 0.5630 - categorical_accuracy: 0.7943\n",
      "Epoch 47/200\n",
      "17/17 [==============================] - 4s 244ms/step - loss: 0.4356 - categorical_accuracy: 0.8476\n",
      "Epoch 48/200\n",
      "17/17 [==============================] - 4s 240ms/step - loss: 0.3743 - categorical_accuracy: 0.8619\n",
      "Epoch 49/200\n",
      "17/17 [==============================] - 4s 228ms/step - loss: 0.2556 - categorical_accuracy: 0.9133\n",
      "Epoch 50/200\n",
      "17/17 [==============================] - 4s 223ms/step - loss: 0.1930 - categorical_accuracy: 0.9371\n",
      "Epoch 51/200\n",
      "17/17 [==============================] - 4s 222ms/step - loss: 0.1615 - categorical_accuracy: 0.9448\n",
      "Epoch 52/200\n",
      "17/17 [==============================] - 4s 220ms/step - loss: 0.4117 - categorical_accuracy: 0.8457\n",
      "Epoch 53/200\n",
      "17/17 [==============================] - 4s 226ms/step - loss: 0.3410 - categorical_accuracy: 0.8790\n",
      "Epoch 54/200\n",
      "17/17 [==============================] - 4s 226ms/step - loss: 0.1993 - categorical_accuracy: 0.9229\n",
      "Epoch 55/200\n",
      "17/17 [==============================] - 4s 228ms/step - loss: 0.1947 - categorical_accuracy: 0.9267\n",
      "Epoch 56/200\n",
      "17/17 [==============================] - 4s 222ms/step - loss: 0.1882 - categorical_accuracy: 0.9324\n",
      "Epoch 57/200\n",
      "17/17 [==============================] - 4s 223ms/step - loss: 0.1171 - categorical_accuracy: 0.9581\n",
      "Epoch 58/200\n",
      "17/17 [==============================] - 4s 225ms/step - loss: 0.0795 - categorical_accuracy: 0.9695\n",
      "Epoch 59/200\n",
      "17/17 [==============================] - 4s 225ms/step - loss: 0.1059 - categorical_accuracy: 0.9619\n",
      "Epoch 60/200\n",
      "17/17 [==============================] - 4s 233ms/step - loss: 0.1858 - categorical_accuracy: 0.9305\n",
      "Epoch 61/200\n",
      "17/17 [==============================] - 4s 222ms/step - loss: 0.0900 - categorical_accuracy: 0.9686\n",
      "Epoch 62/200\n",
      "17/17 [==============================] - 4s 227ms/step - loss: 0.0757 - categorical_accuracy: 0.9676\n",
      "Epoch 63/200\n",
      "17/17 [==============================] - 4s 232ms/step - loss: 0.0648 - categorical_accuracy: 0.9790\n",
      "Epoch 64/200\n",
      "17/17 [==============================] - 4s 228ms/step - loss: 0.0741 - categorical_accuracy: 0.9733\n",
      "Epoch 65/200\n",
      "17/17 [==============================] - 4s 219ms/step - loss: 0.0810 - categorical_accuracy: 0.9695\n",
      "Epoch 66/200\n",
      "17/17 [==============================] - 4s 222ms/step - loss: 0.2648 - categorical_accuracy: 0.9029\n",
      "Epoch 67/200\n",
      "17/17 [==============================] - 4s 224ms/step - loss: 0.0906 - categorical_accuracy: 0.9714\n",
      "Epoch 68/200\n",
      "17/17 [==============================] - 4s 238ms/step - loss: 0.2766 - categorical_accuracy: 0.9133\n",
      "Epoch 69/200\n",
      "17/17 [==============================] - 4s 229ms/step - loss: 0.4260 - categorical_accuracy: 0.8352\n",
      "Epoch 70/200\n",
      "17/17 [==============================] - 4s 230ms/step - loss: 0.2128 - categorical_accuracy: 0.9238\n",
      "Epoch 71/200\n",
      "17/17 [==============================] - 4s 233ms/step - loss: 0.0982 - categorical_accuracy: 0.9686\n",
      "Epoch 72/200\n",
      "17/17 [==============================] - 4s 232ms/step - loss: 0.0973 - categorical_accuracy: 0.9705\n",
      "Epoch 73/200\n",
      "17/17 [==============================] - 4s 231ms/step - loss: 0.0803 - categorical_accuracy: 0.9676\n",
      "Epoch 74/200\n",
      "17/17 [==============================] - 4s 221ms/step - loss: 0.1087 - categorical_accuracy: 0.9619\n",
      "Epoch 75/200\n",
      "17/17 [==============================] - 4s 219ms/step - loss: 0.1408 - categorical_accuracy: 0.9476\n",
      "Epoch 76/200\n",
      "17/17 [==============================] - 4s 222ms/step - loss: 0.1044 - categorical_accuracy: 0.9600\n",
      "Epoch 77/200\n",
      "17/17 [==============================] - 4s 219ms/step - loss: 0.0621 - categorical_accuracy: 0.9790\n",
      "Epoch 78/200\n",
      "17/17 [==============================] - 4s 226ms/step - loss: 0.0452 - categorical_accuracy: 0.9838\n",
      "Epoch 79/200\n",
      "17/17 [==============================] - 4s 253ms/step - loss: 0.0295 - categorical_accuracy: 0.9857\n",
      "Epoch 80/200\n",
      "17/17 [==============================] - 4s 248ms/step - loss: 0.0653 - categorical_accuracy: 0.9743\n",
      "Epoch 81/200\n",
      "17/17 [==============================] - 4s 254ms/step - loss: 0.2526 - categorical_accuracy: 0.9133\n",
      "Epoch 82/200\n",
      "17/17 [==============================] - 5s 286ms/step - loss: 0.1524 - categorical_accuracy: 0.9457\n",
      "Epoch 83/200\n",
      "17/17 [==============================] - 5s 306ms/step - loss: 0.0724 - categorical_accuracy: 0.9810\n",
      "Epoch 84/200\n",
      "17/17 [==============================] - 5s 271ms/step - loss: 0.0395 - categorical_accuracy: 0.9914\n",
      "Epoch 85/200\n",
      "17/17 [==============================] - 4s 245ms/step - loss: 0.0757 - categorical_accuracy: 0.9819\n",
      "Epoch 86/200\n",
      "17/17 [==============================] - 4s 250ms/step - loss: 0.0485 - categorical_accuracy: 0.9810\n",
      "Epoch 87/200\n",
      "17/17 [==============================] - 4s 252ms/step - loss: 0.0446 - categorical_accuracy: 0.9867\n",
      "Epoch 88/200\n",
      "17/17 [==============================] - 4s 247ms/step - loss: 0.0586 - categorical_accuracy: 0.9762\n",
      "Epoch 89/200\n",
      "17/17 [==============================] - 4s 256ms/step - loss: 0.0280 - categorical_accuracy: 0.9905\n",
      "Epoch 90/200\n",
      "17/17 [==============================] - 4s 252ms/step - loss: 0.0215 - categorical_accuracy: 0.9933\n",
      "Epoch 91/200\n",
      "17/17 [==============================] - 4s 246ms/step - loss: 0.0083 - categorical_accuracy: 0.9981\n",
      "Epoch 92/200\n",
      "17/17 [==============================] - 4s 263ms/step - loss: 0.0256 - categorical_accuracy: 0.9886\n",
      "Epoch 93/200\n",
      "17/17 [==============================] - 4s 259ms/step - loss: 0.1002 - categorical_accuracy: 0.9610\n",
      "Epoch 94/200\n",
      "17/17 [==============================] - 4s 248ms/step - loss: 0.2738 - categorical_accuracy: 0.9286\n",
      "Epoch 95/200\n",
      "17/17 [==============================] - 4s 254ms/step - loss: 0.5361 - categorical_accuracy: 0.8248\n",
      "Epoch 96/200\n",
      "17/17 [==============================] - 4s 261ms/step - loss: 0.2037 - categorical_accuracy: 0.9343\n",
      "Epoch 97/200\n",
      "17/17 [==============================] - 4s 244ms/step - loss: 0.0853 - categorical_accuracy: 0.9771\n",
      "Epoch 98/200\n",
      "17/17 [==============================] - 4s 258ms/step - loss: 0.0356 - categorical_accuracy: 0.9886\n",
      "Epoch 99/200\n",
      "17/17 [==============================] - 5s 267ms/step - loss: 0.0427 - categorical_accuracy: 0.9876\n",
      "Epoch 100/200\n",
      "17/17 [==============================] - 5s 269ms/step - loss: 0.6497 - categorical_accuracy: 0.8514\n",
      "Epoch 101/200\n",
      "17/17 [==============================] - 4s 256ms/step - loss: 0.3163 - categorical_accuracy: 0.8952\n",
      "Epoch 102/200\n",
      "17/17 [==============================] - 4s 241ms/step - loss: 0.1995 - categorical_accuracy: 0.9276\n",
      "Epoch 103/200\n",
      "17/17 [==============================] - 4s 252ms/step - loss: 0.1506 - categorical_accuracy: 0.9457\n",
      "Epoch 104/200\n",
      "17/17 [==============================] - 4s 248ms/step - loss: 0.0938 - categorical_accuracy: 0.9667\n",
      "Epoch 105/200\n",
      "17/17 [==============================] - 4s 255ms/step - loss: 0.0641 - categorical_accuracy: 0.9810\n",
      "Epoch 106/200\n",
      "17/17 [==============================] - 5s 278ms/step - loss: 0.3588 - categorical_accuracy: 0.8895\n",
      "Epoch 107/200\n",
      "17/17 [==============================] - 4s 261ms/step - loss: 0.4468 - categorical_accuracy: 0.8267\n",
      "Epoch 108/200\n",
      "17/17 [==============================] - 4s 262ms/step - loss: 0.2097 - categorical_accuracy: 0.9229\n",
      "Epoch 109/200\n",
      "17/17 [==============================] - 4s 255ms/step - loss: 0.1549 - categorical_accuracy: 0.9438\n",
      "Epoch 110/200\n",
      "17/17 [==============================] - 5s 287ms/step - loss: 0.1490 - categorical_accuracy: 0.9505\n",
      "Epoch 111/200\n",
      "17/17 [==============================] - 4s 244ms/step - loss: 0.1572 - categorical_accuracy: 0.9486\n",
      "Epoch 112/200\n",
      "17/17 [==============================] - 4s 245ms/step - loss: 0.1084 - categorical_accuracy: 0.9629\n",
      "Epoch 113/200\n",
      "17/17 [==============================] - 4s 248ms/step - loss: 0.1831 - categorical_accuracy: 0.9410\n",
      "Epoch 114/200\n",
      "17/17 [==============================] - 4s 249ms/step - loss: 0.2090 - categorical_accuracy: 0.9248\n",
      "Epoch 115/200\n",
      "17/17 [==============================] - 4s 255ms/step - loss: 0.0734 - categorical_accuracy: 0.9790\n",
      "Epoch 116/200\n",
      "17/17 [==============================] - 5s 265ms/step - loss: 0.0411 - categorical_accuracy: 0.9867\n",
      "Epoch 117/200\n",
      "17/17 [==============================] - 5s 292ms/step - loss: 0.0303 - categorical_accuracy: 0.9905\n",
      "Epoch 118/200\n",
      "17/17 [==============================] - 5s 270ms/step - loss: 0.0516 - categorical_accuracy: 0.9829\n",
      "Epoch 119/200\n",
      "17/17 [==============================] - 4s 261ms/step - loss: 0.1358 - categorical_accuracy: 0.9448\n",
      "Epoch 120/200\n",
      "17/17 [==============================] - 4s 259ms/step - loss: 0.0868 - categorical_accuracy: 0.9695\n",
      "Epoch 121/200\n",
      "17/17 [==============================] - 5s 273ms/step - loss: 0.0592 - categorical_accuracy: 0.9810\n",
      "Epoch 122/200\n",
      "17/17 [==============================] - 5s 272ms/step - loss: 0.0298 - categorical_accuracy: 0.9914\n",
      "Epoch 123/200\n",
      "17/17 [==============================] - 4s 263ms/step - loss: 0.0466 - categorical_accuracy: 0.9819\n",
      "Epoch 124/200\n",
      "17/17 [==============================] - 4s 259ms/step - loss: 0.0367 - categorical_accuracy: 0.9886\n",
      "Epoch 125/200\n",
      "17/17 [==============================] - 5s 266ms/step - loss: 0.0195 - categorical_accuracy: 0.9952\n",
      "Epoch 126/200\n",
      "17/17 [==============================] - 5s 276ms/step - loss: 0.0079 - categorical_accuracy: 0.9990\n",
      "Epoch 127/200\n",
      "17/17 [==============================] - 5s 292ms/step - loss: 0.0061 - categorical_accuracy: 0.9981\n",
      "Epoch 128/200\n",
      "17/17 [==============================] - 5s 284ms/step - loss: 0.0168 - categorical_accuracy: 0.9943\n",
      "Epoch 129/200\n",
      "17/17 [==============================] - 4s 228ms/step - loss: 0.0708 - categorical_accuracy: 0.9724\n",
      "Epoch 130/200\n",
      "17/17 [==============================] - 4s 237ms/step - loss: 0.0220 - categorical_accuracy: 0.9914\n",
      "Epoch 131/200\n",
      "17/17 [==============================] - 4s 236ms/step - loss: 0.0397 - categorical_accuracy: 0.9876\n",
      "Epoch 132/200\n",
      "17/17 [==============================] - 4s 245ms/step - loss: 0.0616 - categorical_accuracy: 0.9800\n",
      "Epoch 133/200\n",
      "17/17 [==============================] - 5s 267ms/step - loss: 0.0244 - categorical_accuracy: 0.9924\n",
      "Epoch 134/200\n",
      "17/17 [==============================] - 4s 241ms/step - loss: 0.0148 - categorical_accuracy: 0.9943\n",
      "Epoch 135/200\n",
      "17/17 [==============================] - 4s 241ms/step - loss: 0.0079 - categorical_accuracy: 0.9971\n",
      "Epoch 136/200\n",
      "17/17 [==============================] - 4s 239ms/step - loss: 0.0061 - categorical_accuracy: 0.9981\n",
      "Epoch 137/200\n",
      "17/17 [==============================] - 4s 238ms/step - loss: 0.0022 - categorical_accuracy: 1.0000\n",
      "Epoch 138/200\n",
      "17/17 [==============================] - 4s 240ms/step - loss: 0.0018 - categorical_accuracy: 1.0000\n",
      "Epoch 139/200\n",
      "17/17 [==============================] - 4s 238ms/step - loss: 0.0012 - categorical_accuracy: 1.0000\n",
      "Epoch 140/200\n",
      "17/17 [==============================] - 4s 246ms/step - loss: 9.1931e-04 - categorical_accuracy: 1.0000\n",
      "Epoch 141/200\n",
      "17/17 [==============================] - 4s 232ms/step - loss: 7.8479e-04 - categorical_accuracy: 1.0000\n",
      "Epoch 142/200\n",
      "17/17 [==============================] - 4s 248ms/step - loss: 7.1061e-04 - categorical_accuracy: 1.0000\n",
      "Epoch 143/200\n",
      "17/17 [==============================] - 4s 227ms/step - loss: 6.1423e-04 - categorical_accuracy: 1.0000\n",
      "Epoch 144/200\n",
      "17/17 [==============================] - 4s 241ms/step - loss: 5.8028e-04 - categorical_accuracy: 1.0000\n",
      "Epoch 145/200\n",
      "17/17 [==============================] - 4s 238ms/step - loss: 5.3431e-04 - categorical_accuracy: 1.0000\n",
      "Epoch 146/200\n",
      "17/17 [==============================] - 4s 232ms/step - loss: 4.5452e-04 - categorical_accuracy: 1.0000\n",
      "Epoch 147/200\n",
      "17/17 [==============================] - 5s 266ms/step - loss: 4.3846e-04 - categorical_accuracy: 1.0000\n",
      "Epoch 148/200\n",
      "17/17 [==============================] - 5s 271ms/step - loss: 3.8641e-04 - categorical_accuracy: 1.0000\n",
      "Epoch 149/200\n",
      "17/17 [==============================] - 4s 249ms/step - loss: 3.6443e-04 - categorical_accuracy: 1.0000\n",
      "Epoch 150/200\n",
      "17/17 [==============================] - 4s 259ms/step - loss: 3.3063e-04 - categorical_accuracy: 1.0000\n",
      "Epoch 151/200\n",
      "17/17 [==============================] - 4s 254ms/step - loss: 3.2071e-04 - categorical_accuracy: 1.0000\n",
      "Epoch 152/200\n",
      "17/17 [==============================] - 4s 259ms/step - loss: 2.8462e-04 - categorical_accuracy: 1.0000\n",
      "Epoch 153/200\n",
      "17/17 [==============================] - 4s 262ms/step - loss: 2.6023e-04 - categorical_accuracy: 1.0000\n",
      "Epoch 154/200\n",
      "17/17 [==============================] - 5s 267ms/step - loss: 2.5342e-04 - categorical_accuracy: 1.0000\n",
      "Epoch 155/200\n",
      "17/17 [==============================] - 5s 263ms/step - loss: 2.2239e-04 - categorical_accuracy: 1.0000\n",
      "Epoch 156/200\n",
      "17/17 [==============================] - 4s 254ms/step - loss: 2.1522e-04 - categorical_accuracy: 1.0000\n",
      "Epoch 157/200\n",
      "17/17 [==============================] - 4s 246ms/step - loss: 2.0153e-04 - categorical_accuracy: 1.0000\n",
      "Epoch 158/200\n",
      "17/17 [==============================] - 4s 256ms/step - loss: 1.9120e-04 - categorical_accuracy: 1.0000\n",
      "Epoch 159/200\n",
      "17/17 [==============================] - 4s 252ms/step - loss: 1.7965e-04 - categorical_accuracy: 1.0000\n",
      "Epoch 160/200\n",
      "17/17 [==============================] - 4s 258ms/step - loss: 1.7008e-04 - categorical_accuracy: 1.0000\n",
      "Epoch 161/200\n",
      "17/17 [==============================] - 5s 280ms/step - loss: 1.6391e-04 - categorical_accuracy: 1.0000\n",
      "Epoch 162/200\n",
      "17/17 [==============================] - 5s 265ms/step - loss: 1.5528e-04 - categorical_accuracy: 1.0000\n",
      "Epoch 163/200\n",
      "17/17 [==============================] - 4s 259ms/step - loss: 1.5041e-04 - categorical_accuracy: 1.0000\n",
      "Epoch 164/200\n",
      "17/17 [==============================] - 4s 259ms/step - loss: 1.4219e-04 - categorical_accuracy: 1.0000\n",
      "Epoch 165/200\n",
      "17/17 [==============================] - 4s 255ms/step - loss: 1.3428e-04 - categorical_accuracy: 1.0000\n",
      "Epoch 166/200\n",
      "17/17 [==============================] - 4s 259ms/step - loss: 1.3196e-04 - categorical_accuracy: 1.0000\n",
      "Epoch 167/200\n",
      "17/17 [==============================] - 4s 260ms/step - loss: 1.2453e-04 - categorical_accuracy: 1.0000\n",
      "Epoch 168/200\n",
      "17/17 [==============================] - 4s 261ms/step - loss: 1.1837e-04 - categorical_accuracy: 1.0000\n",
      "Epoch 169/200\n",
      "17/17 [==============================] - 5s 282ms/step - loss: 1.1450e-04 - categorical_accuracy: 1.0000\n",
      "Epoch 170/200\n",
      "17/17 [==============================] - 5s 266ms/step - loss: 1.0930e-04 - categorical_accuracy: 1.0000\n",
      "Epoch 171/200\n",
      "17/17 [==============================] - 5s 282ms/step - loss: 1.0566e-04 - categorical_accuracy: 1.0000\n",
      "Epoch 172/200\n",
      "17/17 [==============================] - 5s 267ms/step - loss: 1.0179e-04 - categorical_accuracy: 1.0000\n",
      "Epoch 173/200\n",
      "17/17 [==============================] - 5s 267ms/step - loss: 9.8444e-05 - categorical_accuracy: 1.0000\n",
      "Epoch 174/200\n",
      "17/17 [==============================] - 5s 308ms/step - loss: 9.9392e-05 - categorical_accuracy: 1.0000\n",
      "Epoch 175/200\n",
      "17/17 [==============================] - 4s 248ms/step - loss: 9.1330e-05 - categorical_accuracy: 1.0000\n",
      "Epoch 176/200\n",
      "17/17 [==============================] - 4s 235ms/step - loss: 8.6735e-05 - categorical_accuracy: 1.0000\n",
      "Epoch 177/200\n",
      "17/17 [==============================] - 4s 251ms/step - loss: 8.3586e-05 - categorical_accuracy: 1.0000\n",
      "Epoch 178/200\n",
      "17/17 [==============================] - 4s 252ms/step - loss: 8.0112e-05 - categorical_accuracy: 1.0000\n",
      "Epoch 179/200\n",
      "17/17 [==============================] - 4s 252ms/step - loss: 7.7921e-05 - categorical_accuracy: 1.0000\n",
      "Epoch 180/200\n",
      "17/17 [==============================] - 4s 240ms/step - loss: 7.5242e-05 - categorical_accuracy: 1.0000\n",
      "Epoch 181/200\n",
      "17/17 [==============================] - 4s 247ms/step - loss: 7.2635e-05 - categorical_accuracy: 1.0000\n",
      "Epoch 182/200\n",
      "17/17 [==============================] - 4s 240ms/step - loss: 6.9869e-05 - categorical_accuracy: 1.0000\n",
      "Epoch 183/200\n",
      "17/17 [==============================] - 5s 266ms/step - loss: 6.7494e-05 - categorical_accuracy: 1.0000\n",
      "Epoch 184/200\n",
      "17/17 [==============================] - 5s 267ms/step - loss: 6.5588e-05 - categorical_accuracy: 1.0000\n",
      "Epoch 185/200\n",
      "17/17 [==============================] - 4s 247ms/step - loss: 6.2992e-05 - categorical_accuracy: 1.0000\n",
      "Epoch 186/200\n",
      "17/17 [==============================] - 4s 241ms/step - loss: 6.1219e-05 - categorical_accuracy: 1.0000\n",
      "Epoch 187/200\n",
      "17/17 [==============================] - 4s 243ms/step - loss: 5.9138e-05 - categorical_accuracy: 1.0000\n",
      "Epoch 188/200\n",
      "17/17 [==============================] - 4s 240ms/step - loss: 5.6957e-05 - categorical_accuracy: 1.0000\n",
      "Epoch 189/200\n",
      "17/17 [==============================] - 4s 234ms/step - loss: 5.5708e-05 - categorical_accuracy: 1.0000\n",
      "Epoch 190/200\n",
      "17/17 [==============================] - 4s 235ms/step - loss: 5.3923e-05 - categorical_accuracy: 1.0000\n",
      "Epoch 191/200\n",
      "17/17 [==============================] - 4s 238ms/step - loss: 5.2816e-05 - categorical_accuracy: 1.0000\n",
      "Epoch 192/200\n",
      "17/17 [==============================] - 4s 246ms/step - loss: 5.0938e-05 - categorical_accuracy: 1.0000\n",
      "Epoch 193/200\n",
      "17/17 [==============================] - 4s 235ms/step - loss: 5.0493e-05 - categorical_accuracy: 1.0000\n",
      "Epoch 194/200\n",
      "17/17 [==============================] - 4s 237ms/step - loss: 4.8179e-05 - categorical_accuracy: 1.0000\n",
      "Epoch 195/200\n",
      "17/17 [==============================] - 4s 238ms/step - loss: 4.6006e-05 - categorical_accuracy: 1.0000\n",
      "Epoch 196/200\n",
      "17/17 [==============================] - 4s 234ms/step - loss: 4.5067e-05 - categorical_accuracy: 1.0000\n",
      "Epoch 197/200\n",
      "17/17 [==============================] - 4s 231ms/step - loss: 4.3237e-05 - categorical_accuracy: 1.0000\n",
      "Epoch 198/200\n",
      "17/17 [==============================] - 4s 238ms/step - loss: 4.2685e-05 - categorical_accuracy: 1.0000\n",
      "Epoch 199/200\n",
      "17/17 [==============================] - 4s 233ms/step - loss: 4.0742e-05 - categorical_accuracy: 1.0000\n",
      "Epoch 200/200\n",
      "17/17 [==============================] - 4s 234ms/step - loss: 3.9484e-05 - categorical_accuracy: 1.0000\n"
     ]
    },
    {
     "data": {
      "text/plain": [
       "<keras.src.callbacks.History at 0x7fd5a82bff10>"
      ]
     },
     "execution_count": 15,
     "metadata": {},
     "output_type": "execute_result"
    }
   ],
   "source": [
    "model.fit(X_train, y_train, epochs=200, batch_size=64)"
   ]
  },
  {
   "cell_type": "code",
   "execution_count": 16,
   "id": "73a775c0-abab-448e-b8be-88063ad94a6e",
   "metadata": {},
   "outputs": [
    {
     "name": "stderr",
     "output_type": "stream",
     "text": [
      "2023-10-29 21:11:27.641312: W tensorflow/tsl/framework/cpu_allocator_impl.cc:83] Allocation of 98722800 exceeds 10% of free system memory.\n"
     ]
    },
    {
     "name": "stdout",
     "output_type": "stream",
     "text": [
      "15/15 [==============================] - 2s 65ms/step\n"
     ]
    }
   ],
   "source": [
    "y_pred = model.predict(X_test)"
   ]
  },
  {
   "cell_type": "code",
   "execution_count": 17,
   "id": "9cb96bab-5148-4b35-9cbe-4d80d644ca38",
   "metadata": {},
   "outputs": [],
   "source": [
    "y_pred = np.argmax(y_pred, axis=1).tolist()"
   ]
  },
  {
   "cell_type": "code",
   "execution_count": 18,
   "id": "6012f4b5-67d7-46bc-8e64-c1f959a06bfd",
   "metadata": {},
   "outputs": [],
   "source": [
    "y_true = np.argmax(y_test, axis=1).tolist()"
   ]
  },
  {
   "cell_type": "code",
   "execution_count": 19,
   "id": "9839ad9f-a234-4fc7-a2e2-958819131aba",
   "metadata": {},
   "outputs": [],
   "source": [
    "from sklearn.metrics import multilabel_confusion_matrix, accuracy_score,ConfusionMatrixDisplay, confusion_matrix"
   ]
  },
  {
   "cell_type": "code",
   "execution_count": 20,
   "id": "e76600d4-93c7-4f59-a09c-c1f526e2b06e",
   "metadata": {},
   "outputs": [],
   "source": [
    "confusion_matrices = confusion_matrix(y_true, y_pred,labels=np.unique(y_pred), normalize='true')"
   ]
  },
  {
   "cell_type": "code",
   "execution_count": 21,
   "id": "54383999-5c63-413c-9471-7f9fb6552863",
   "metadata": {},
   "outputs": [
    {
     "data": {
      "text/plain": [
       "array([[1.        , 0.        , 0.        , 0.        , 0.        ],\n",
       "       [0.        , 1.        , 0.        , 0.        , 0.        ],\n",
       "       [0.03703704, 0.        , 0.96296296, 0.        , 0.        ],\n",
       "       [0.        , 0.02040816, 0.        , 0.92857143, 0.05102041],\n",
       "       [0.00990099, 0.00990099, 0.        , 0.04950495, 0.93069307]])"
      ]
     },
     "execution_count": 21,
     "metadata": {},
     "output_type": "execute_result"
    }
   ],
   "source": [
    "confusion_matrices"
   ]
  },
  {
   "cell_type": "code",
   "execution_count": 22,
   "id": "7b7fb0dc-1baf-4432-8c02-300125e6864b",
   "metadata": {},
   "outputs": [
    {
     "data": {
      "text/plain": [
       "<sklearn.metrics._plot.confusion_matrix.ConfusionMatrixDisplay at 0x7fd5d13d7b50>"
      ]
     },
     "execution_count": 22,
     "metadata": {},
     "output_type": "execute_result"
    },
    {
     "data": {
      "image/png": "[encoded data removed]",
      "text/plain": [
       "<Figure size 640x480 with 2 Axes>"
      ]
     },
     "metadata": {},
     "output_type": "display_data"
    }
   ],
   "source": [
    "disp = ConfusionMatrixDisplay(confusion_matrices, display_labels=np.unique(y_pred))\n",
    "disp.plot()"
   ]
  },
  {
   "cell_type": "code",
   "execution_count": 24,
   "id": "f2047f6c-c67d-4574-a7d7-553a1e4b01c7",
   "metadata": {},
   "outputs": [],
   "source": [
    "model.save(\"../Models/rnn33.keras\")"
   ]
  },
  {
   "cell_type": "code",
   "execution_count": null,
   "id": "0f205e29-a07a-4368-b420-63fa61d027b8",
   "metadata": {},
   "outputs": [],
   "source": []
  }
 ],
 "metadata": {
  "kernelspec": {
   "display_name": "Python 3 (ipykernel)",
   "language": "python",
   "name": "python3"
  },
  "language_info": {
   "codemirror_mode": {
    "name": "ipython",
    "version": 3
   },
   "file_extension": ".py",
   "mimetype": "text/x-python",
   "name": "python",
   "nbconvert_exporter": "python",
   "pygments_lexer": "ipython3",
   "version": "3.10.9"
  }
 },
 "nbformat": 4,
 "nbformat_minor": 5
}
