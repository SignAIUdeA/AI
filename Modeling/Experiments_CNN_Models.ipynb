{
 "cells": [
  {
   "cell_type": "code",
   "execution_count": 1,
   "id": "c235c84e-96df-4c9c-af66-4c495812b9b4",
   "metadata": {},
   "outputs": [
    {
     "name": "stderr",
     "output_type": "stream",
     "text": [
      "2023-10-31 13:58:06.137031: I tensorflow/tsl/cuda/cudart_stub.cc:28] Could not find cuda drivers on your machine, GPU will not be used.\n",
      "2023-10-31 13:58:06.684342: E tensorflow/compiler/xla/stream_executor/cuda/cuda_dnn.cc:9342] Unable to register cuDNN factory: Attempting to register factory for plugin cuDNN when one has already been registered\n",
      "2023-10-31 13:58:06.684463: E tensorflow/compiler/xla/stream_executor/cuda/cuda_fft.cc:609] Unable to register cuFFT factory: Attempting to register factory for plugin cuFFT when one has already been registered\n",
      "2023-10-31 13:58:06.686868: E tensorflow/compiler/xla/stream_executor/cuda/cuda_blas.cc:1518] Unable to register cuBLAS factory: Attempting to register factory for plugin cuBLAS when one has already been registered\n",
      "2023-10-31 13:58:06.930474: I tensorflow/tsl/cuda/cudart_stub.cc:28] Could not find cuda drivers on your machine, GPU will not be used.\n",
      "2023-10-31 13:58:06.933310: I tensorflow/core/platform/cpu_feature_guard.cc:182] This TensorFlow binary is optimized to use available CPU instructions in performance-critical operations.\n",
      "To enable the following instructions: AVX2 FMA, in other operations, rebuild TensorFlow with the appropriate compiler flags.\n",
      "2023-10-31 13:58:11.074826: W tensorflow/compiler/tf2tensorrt/utils/py_utils.cc:38] TF-TRT Warning: Could not find TensorRT\n"
     ]
    }
   ],
   "source": [
    "import pandas as pd\n",
    "import numpy as np\n",
    "from progress.bar import Bar\n",
    "#from hmmlearn import hmm\n",
    "from sklearn.model_selection import train_test_split\n",
    "from tensorflow.keras.models import Sequential\n",
    "from tensorflow.keras.layers import LSTM, Dense\n",
    "from tensorflow.keras.utils import to_categorical"
   ]
  },
  {
   "cell_type": "code",
   "execution_count": 2,
   "id": "16c960a1-e3e9-4203-aaa9-ecbb7bb9db51",
   "metadata": {},
   "outputs": [
    {
     "data": {
      "text/html": [
       "<div>\n",
       "<style scoped>\n",
       "    .dataframe tbody tr th:only-of-type {\n",
       "        vertical-align: middle;\n",
       "    }\n",
       "\n",
       "    .dataframe tbody tr th {\n",
       "        vertical-align: top;\n",
       "    }\n",
       "\n",
       "    .dataframe thead th {\n",
       "        text-align: right;\n",
       "    }\n",
       "</style>\n",
       "<table border=\"1\" class=\"dataframe\">\n",
       "  <thead>\n",
       "    <tr style=\"text-align: right;\">\n",
       "      <th></th>\n",
       "      <th>Class</th>\n",
       "    </tr>\n",
       "    <tr>\n",
       "      <th>File</th>\n",
       "      <th></th>\n",
       "    </tr>\n",
       "  </thead>\n",
       "  <tbody>\n",
       "    <tr>\n",
       "      <th>S1V3C1M3A Clip166.npy</th>\n",
       "      <td>1</td>\n",
       "    </tr>\n",
       "    <tr>\n",
       "      <th>S1V1C1M1A Clip18.npy</th>\n",
       "      <td>1</td>\n",
       "    </tr>\n",
       "    <tr>\n",
       "      <th>S1V4C1M4A Clip241.npy</th>\n",
       "      <td>1</td>\n",
       "    </tr>\n",
       "    <tr>\n",
       "      <th>S1V4C1M4A Clip239.npy</th>\n",
       "      <td>1</td>\n",
       "    </tr>\n",
       "    <tr>\n",
       "      <th>S1V4C1M4A Clip245.npy</th>\n",
       "      <td>1</td>\n",
       "    </tr>\n",
       "  </tbody>\n",
       "</table>\n",
       "</div>"
      ],
      "text/plain": [
       "                       Class\n",
       "File                        \n",
       "S1V3C1M3A Clip166.npy      1\n",
       "S1V1C1M1A Clip18.npy       1\n",
       "S1V4C1M4A Clip241.npy      1\n",
       "S1V4C1M4A Clip239.npy      1\n",
       "S1V4C1M4A Clip245.npy      1"
      ]
     },
     "execution_count": 2,
     "metadata": {},
     "output_type": "execute_result"
    }
   ],
   "source": [
    "df = pd.read_csv(\"../Metadata/data_curated.csv\")\n",
    "df.set_index(\"File\", inplace=True)\n",
    "df.head()"
   ]
  },
  {
   "cell_type": "code",
   "execution_count": 3,
   "id": "a82d777c-f87b-499d-b809-e30ba9bf1138",
   "metadata": {},
   "outputs": [],
   "source": [
    "X_list = []\n",
    "y_list = []\n",
    "with Bar(\"Processing...\", max = df.size) as bar:\n",
    "    for file_name, class_name in df.iterrows():\n",
    "        X_list.append(np.load(f\"../Clean_Data/{class_name.iloc[0]}/{file_name}\")[:33,:])\n",
    "        X_list.append(np.load(f\"../Data_Augmented_Clean/{class_name.iloc[0]}/{file_name}\")[:33,:])\n",
    "        y_list.append(class_name.iloc[0])\n",
    "        y_list.append(class_name.iloc[0])\n",
    "        bar.next()"
   ]
  },
  {
   "cell_type": "code",
   "execution_count": 4,
   "id": "37618267-575a-4e7b-95e1-936773813465",
   "metadata": {},
   "outputs": [
    {
     "name": "stdout",
     "output_type": "stream",
     "text": [
      "33\n"
     ]
    }
   ],
   "source": [
    "min_arr = 1000\n",
    "for arr in X_list:\n",
    "    aux_arr = arr.shape[0]\n",
    "    if aux_arr < min_arr:\n",
    "        min_arr = aux_arr\n",
    "print(min_arr)"
   ]
  },
  {
   "cell_type": "code",
   "execution_count": 5,
   "id": "ab290b93-48d3-414e-9080-109e740eb69b",
   "metadata": {},
   "outputs": [],
   "source": [
    "X = np.stack(X_list)\n",
    "y = np.array(y_list)"
   ]
  },
  {
   "cell_type": "code",
   "execution_count": 6,
   "id": "b07ceb75-9417-4900-9db8-4ee666513019",
   "metadata": {},
   "outputs": [
    {
     "data": {
      "text/plain": [
       "(3000, 33, 1662)"
      ]
     },
     "execution_count": 6,
     "metadata": {},
     "output_type": "execute_result"
    }
   ],
   "source": [
    "X.shape"
   ]
  },
  {
   "cell_type": "code",
   "execution_count": 7,
   "id": "0169b89e-c051-4b9f-9019-848a13432740",
   "metadata": {},
   "outputs": [
    {
     "data": {
      "text/plain": [
       "(3000,)"
      ]
     },
     "execution_count": 7,
     "metadata": {},
     "output_type": "execute_result"
    }
   ],
   "source": [
    "y.shape"
   ]
  },
  {
   "cell_type": "markdown",
   "id": "c5e17114-dd4b-4dc2-82b3-caa56a5b0f44",
   "metadata": {},
   "source": [
    "# GaussianHMM"
   ]
  },
  {
   "cell_type": "raw",
   "id": "623f64e9-efcb-46d2-85a8-885f1fe91403",
   "metadata": {},
   "source": [
    "model = hmm.GaussianHMM(n_components=3, covariance_type=\"full\", n_iter=100)\n",
    "lengths = [33]*1500\n",
    "model.fit(X, lengths=lengths)"
   ]
  },
  {
   "cell_type": "markdown",
   "id": "9e052a39-63c9-4444-a4ef-2b178c6c870f",
   "metadata": {},
   "source": [
    "# Recurrent Neural Networks"
   ]
  },
  {
   "cell_type": "code",
   "execution_count": 8,
   "id": "18cd7a29-4fae-491e-a835-0bab58c8b755",
   "metadata": {},
   "outputs": [],
   "source": [
    "model = Sequential()\n",
    "model.add(LSTM(64, return_sequences=True, activation='relu', input_shape=(33,1662)))\n",
    "model.add(LSTM(128, return_sequences=True, activation='relu'))\n",
    "model.add(LSTM(64, return_sequences=False, activation='relu'))\n",
    "model.add(Dense(64, activation='relu'))\n",
    "model.add(Dense(32, activation='relu'))\n",
    "model.add(Dense(6, activation='softmax'))"
   ]
  },
  {
   "cell_type": "code",
   "execution_count": 9,
   "id": "359c85f2-49f2-44be-9f33-2a3436bbff46",
   "metadata": {},
   "outputs": [],
   "source": [
    "model.compile(optimizer='Adam', loss='categorical_crossentropy', metrics=['categorical_accuracy'])"
   ]
  },
  {
   "cell_type": "code",
   "execution_count": 10,
   "id": "053cfc93-fc83-4dc3-8914-098f6d7e0d10",
   "metadata": {},
   "outputs": [],
   "source": [
    "y = to_categorical(y)"
   ]
  },
  {
   "cell_type": "code",
   "execution_count": 11,
   "id": "cc13d6ec-a7d3-401e-b8f5-fd214c1311e1",
   "metadata": {},
   "outputs": [],
   "source": [
    "X_train, X_test, y_train, y_test = train_test_split(X, y, test_size=0.3)"
   ]
  },
  {
   "cell_type": "code",
   "execution_count": 12,
   "id": "f90e16ee-2240-48f3-88ec-a061298deec1",
   "metadata": {},
   "outputs": [
    {
     "data": {
      "text/plain": [
       "(900, 6)"
      ]
     },
     "execution_count": 12,
     "metadata": {},
     "output_type": "execute_result"
    }
   ],
   "source": [
    "y_test.shape"
   ]
  },
  {
   "cell_type": "code",
   "execution_count": 14,
   "id": "ff7b975f-5de3-4809-8738-3b03c2ee0f0f",
   "metadata": {},
   "outputs": [
    {
     "name": "stdout",
     "output_type": "stream",
     "text": [
      "Model: \"sequential\"\n",
      "_________________________________________________________________\n",
      " Layer (type)                Output Shape              Param #   \n",
      "=================================================================\n",
      " lstm (LSTM)                 (None, 33, 64)            442112    \n",
      "                                                                 \n",
      " lstm_1 (LSTM)               (None, 33, 128)           98816     \n",
      "                                                                 \n",
      " lstm_2 (LSTM)               (None, 64)                49408     \n",
      "                                                                 \n",
      " dense (Dense)               (None, 64)                4160      \n",
      "                                                                 \n",
      " dense_1 (Dense)             (None, 32)                2080      \n",
      "                                                                 \n",
      " dense_2 (Dense)             (None, 6)                 198       \n",
      "                                                                 \n",
      "=================================================================\n",
      "Total params: 596774 (2.28 MB)\n",
      "Trainable params: 596774 (2.28 MB)\n",
      "Non-trainable params: 0 (0.00 Byte)\n",
      "_________________________________________________________________\n"
     ]
    }
   ],
   "source": [
    "model.summary()"
   ]
  },
  {
   "cell_type": "code",
   "execution_count": 13,
   "id": "15bb6d23-fa43-4c00-8e4f-9ef3e1ed9b65",
   "metadata": {},
   "outputs": [
    {
     "name": "stderr",
     "output_type": "stream",
     "text": [
      "2023-10-31 14:02:27.206830: W tensorflow/tsl/framework/cpu_allocator_impl.cc:83] Allocation of 460706400 exceeds 10% of free system memory.\n"
     ]
    },
    {
     "name": "stdout",
     "output_type": "stream",
     "text": [
      "Epoch 1/50\n",
      "33/33 [==============================] - 20s 300ms/step - loss: 2.9743 - categorical_accuracy: 0.2086\n",
      "Epoch 2/50\n",
      "33/33 [==============================] - 10s 311ms/step - loss: 1.6380 - categorical_accuracy: 0.2452\n",
      "Epoch 3/50\n",
      "33/33 [==============================] - 10s 302ms/step - loss: 1.6314 - categorical_accuracy: 0.2467\n",
      "Epoch 4/50\n",
      "33/33 [==============================] - 10s 296ms/step - loss: 1.5403 - categorical_accuracy: 0.2962\n",
      "Epoch 5/50\n",
      "33/33 [==============================] - 10s 294ms/step - loss: 1.3360 - categorical_accuracy: 0.3943\n",
      "Epoch 6/50\n",
      "33/33 [==============================] - 10s 308ms/step - loss: 1.5058 - categorical_accuracy: 0.3319\n",
      "Epoch 7/50\n",
      "33/33 [==============================] - 11s 320ms/step - loss: 1.3588 - categorical_accuracy: 0.3962\n",
      "Epoch 8/50\n",
      "33/33 [==============================] - 10s 294ms/step - loss: 1.1338 - categorical_accuracy: 0.5462\n",
      "Epoch 9/50\n",
      "33/33 [==============================] - 10s 318ms/step - loss: 1.8421 - categorical_accuracy: 0.3133\n",
      "Epoch 10/50\n",
      "33/33 [==============================] - 9s 261ms/step - loss: 1.2354 - categorical_accuracy: 0.4576\n",
      "Epoch 11/50\n",
      "33/33 [==============================] - 10s 294ms/step - loss: 1.0411 - categorical_accuracy: 0.5476\n",
      "Epoch 12/50\n",
      "33/33 [==============================] - 9s 284ms/step - loss: 0.9278 - categorical_accuracy: 0.6114\n",
      "Epoch 13/50\n",
      "33/33 [==============================] - 9s 259ms/step - loss: 0.7151 - categorical_accuracy: 0.7167\n",
      "Epoch 14/50\n",
      "33/33 [==============================] - 9s 275ms/step - loss: 0.9800 - categorical_accuracy: 0.6152\n",
      "Epoch 15/50\n",
      "33/33 [==============================] - 9s 275ms/step - loss: 0.7746 - categorical_accuracy: 0.7014\n",
      "Epoch 16/50\n",
      "33/33 [==============================] - 9s 279ms/step - loss: 0.5145 - categorical_accuracy: 0.7924\n",
      "Epoch 17/50\n",
      "33/33 [==============================] - 10s 296ms/step - loss: 0.4801 - categorical_accuracy: 0.8152\n",
      "Epoch 18/50\n",
      "33/33 [==============================] - 9s 270ms/step - loss: 0.3859 - categorical_accuracy: 0.8448\n",
      "Epoch 19/50\n",
      "33/33 [==============================] - 10s 299ms/step - loss: 0.3389 - categorical_accuracy: 0.8657\n",
      "Epoch 20/50\n",
      "33/33 [==============================] - 9s 277ms/step - loss: 0.3663 - categorical_accuracy: 0.8571\n",
      "Epoch 21/50\n",
      "33/33 [==============================] - 10s 294ms/step - loss: 0.3317 - categorical_accuracy: 0.8705\n",
      "Epoch 22/50\n",
      "33/33 [==============================] - 9s 286ms/step - loss: 0.3413 - categorical_accuracy: 0.8657\n",
      "Epoch 23/50\n",
      "33/33 [==============================] - 10s 300ms/step - loss: 0.2265 - categorical_accuracy: 0.9119\n",
      "Epoch 24/50\n",
      "33/33 [==============================] - 10s 301ms/step - loss: 0.2806 - categorical_accuracy: 0.8862\n",
      "Epoch 25/50\n",
      "33/33 [==============================] - 9s 280ms/step - loss: 0.2719 - categorical_accuracy: 0.8867\n",
      "Epoch 26/50\n",
      "33/33 [==============================] - 9s 269ms/step - loss: 0.1809 - categorical_accuracy: 0.9310\n",
      "Epoch 27/50\n",
      "33/33 [==============================] - 10s 293ms/step - loss: 0.2261 - categorical_accuracy: 0.9143\n",
      "Epoch 28/50\n",
      "33/33 [==============================] - 9s 283ms/step - loss: 0.2449 - categorical_accuracy: 0.9005\n",
      "Epoch 29/50\n",
      "33/33 [==============================] - 10s 299ms/step - loss: 0.1892 - categorical_accuracy: 0.9314\n",
      "Epoch 30/50\n",
      "33/33 [==============================] - 9s 265ms/step - loss: 0.1824 - categorical_accuracy: 0.9276\n",
      "Epoch 31/50\n",
      "33/33 [==============================] - 8s 254ms/step - loss: 0.1466 - categorical_accuracy: 0.9476\n",
      "Epoch 32/50\n",
      "33/33 [==============================] - 10s 296ms/step - loss: 0.1587 - categorical_accuracy: 0.9395\n",
      "Epoch 33/50\n",
      "33/33 [==============================] - 10s 290ms/step - loss: 0.3207 - categorical_accuracy: 0.8852\n",
      "Epoch 34/50\n",
      "33/33 [==============================] - 10s 293ms/step - loss: 0.1428 - categorical_accuracy: 0.9486\n",
      "Epoch 35/50\n",
      "33/33 [==============================] - 9s 275ms/step - loss: 0.1872 - categorical_accuracy: 0.9305\n",
      "Epoch 36/50\n",
      "33/33 [==============================] - 9s 273ms/step - loss: 0.1341 - categorical_accuracy: 0.9505\n",
      "Epoch 37/50\n",
      "33/33 [==============================] - 9s 270ms/step - loss: 0.1149 - categorical_accuracy: 0.9610\n",
      "Epoch 38/50\n",
      "33/33 [==============================] - 9s 272ms/step - loss: 0.1058 - categorical_accuracy: 0.9629\n",
      "Epoch 39/50\n",
      "33/33 [==============================] - 9s 273ms/step - loss: 0.1669 - categorical_accuracy: 0.9462\n",
      "Epoch 40/50\n",
      "33/33 [==============================] - 9s 278ms/step - loss: 0.2302 - categorical_accuracy: 0.9181\n",
      "Epoch 41/50\n",
      "33/33 [==============================] - 9s 271ms/step - loss: 0.1200 - categorical_accuracy: 0.9590\n",
      "Epoch 42/50\n",
      "33/33 [==============================] - 10s 292ms/step - loss: 0.1162 - categorical_accuracy: 0.9624\n",
      "Epoch 43/50\n",
      "33/33 [==============================] - 10s 305ms/step - loss: 0.4092 - categorical_accuracy: 0.8571\n",
      "Epoch 44/50\n",
      "33/33 [==============================] - 9s 287ms/step - loss: 0.2733 - categorical_accuracy: 0.9171\n",
      "Epoch 45/50\n",
      "33/33 [==============================] - 9s 275ms/step - loss: 0.3045 - categorical_accuracy: 0.8810\n",
      "Epoch 46/50\n",
      "33/33 [==============================] - 10s 292ms/step - loss: 0.1912 - categorical_accuracy: 0.9276\n",
      "Epoch 47/50\n",
      "33/33 [==============================] - 10s 297ms/step - loss: 0.1139 - categorical_accuracy: 0.9638\n",
      "Epoch 48/50\n",
      "33/33 [==============================] - 9s 287ms/step - loss: 0.1028 - categorical_accuracy: 0.9638\n",
      "Epoch 49/50\n",
      "33/33 [==============================] - 10s 299ms/step - loss: 0.1118 - categorical_accuracy: 0.9562\n",
      "Epoch 50/50\n",
      "33/33 [==============================] - 9s 260ms/step - loss: 0.1191 - categorical_accuracy: 0.9524\n"
     ]
    },
    {
     "data": {
      "text/plain": [
       "<keras.src.callbacks.History at 0x7f57341db730>"
      ]
     },
     "execution_count": 13,
     "metadata": {},
     "output_type": "execute_result"
    }
   ],
   "source": [
    "model.fit(X_train, y_train, epochs=50, batch_size=64)"
   ]
  },
  {
   "cell_type": "code",
   "execution_count": 14,
   "id": "73a775c0-abab-448e-b8be-88063ad94a6e",
   "metadata": {},
   "outputs": [
    {
     "name": "stderr",
     "output_type": "stream",
     "text": [
      "2023-10-31 14:10:42.751985: W tensorflow/tsl/framework/cpu_allocator_impl.cc:83] Allocation of 197445600 exceeds 10% of free system memory.\n"
     ]
    },
    {
     "name": "stdout",
     "output_type": "stream",
     "text": [
      "29/29 [==============================] - 4s 89ms/step\n"
     ]
    }
   ],
   "source": [
    "y_pred = model.predict(X_test)"
   ]
  },
  {
   "cell_type": "code",
   "execution_count": 15,
   "id": "9cb96bab-5148-4b35-9cbe-4d80d644ca38",
   "metadata": {},
   "outputs": [],
   "source": [
    "y_pred = np.argmax(y_pred, axis=1).tolist()"
   ]
  },
  {
   "cell_type": "code",
   "execution_count": 16,
   "id": "6012f4b5-67d7-46bc-8e64-c1f959a06bfd",
   "metadata": {},
   "outputs": [],
   "source": [
    "y_true = np.argmax(y_test, axis=1).tolist()"
   ]
  },
  {
   "cell_type": "code",
   "execution_count": 17,
   "id": "9839ad9f-a234-4fc7-a2e2-958819131aba",
   "metadata": {},
   "outputs": [],
   "source": [
    "from sklearn.metrics import multilabel_confusion_matrix, accuracy_score,ConfusionMatrixDisplay, confusion_matrix"
   ]
  },
  {
   "cell_type": "code",
   "execution_count": 18,
   "id": "e76600d4-93c7-4f59-a09c-c1f526e2b06e",
   "metadata": {},
   "outputs": [],
   "source": [
    "confusion_matrices = confusion_matrix(y_true, y_pred,labels=np.unique(y_pred), normalize='true')"
   ]
  },
  {
   "cell_type": "code",
   "execution_count": 19,
   "id": "54383999-5c63-413c-9471-7f9fb6552863",
   "metadata": {},
   "outputs": [
    {
     "data": {
      "text/plain": [
       "array([[0.98360656, 0.        , 0.01092896, 0.00546448, 0.        ],\n",
       "       [0.        , 0.99342105, 0.        , 0.00657895, 0.        ],\n",
       "       [0.        , 0.        , 0.97727273, 0.01136364, 0.01136364],\n",
       "       [0.        , 0.        , 0.        , 0.93596059, 0.06403941],\n",
       "       [0.01612903, 0.        , 0.01075269, 0.06451613, 0.90860215]])"
      ]
     },
     "execution_count": 19,
     "metadata": {},
     "output_type": "execute_result"
    }
   ],
   "source": [
    "confusion_matrices"
   ]
  },
  {
   "cell_type": "code",
   "execution_count": 20,
   "id": "7b7fb0dc-1baf-4432-8c02-300125e6864b",
   "metadata": {},
   "outputs": [
    {
     "data": {
      "text/plain": [
       "<sklearn.metrics._plot.confusion_matrix.ConfusionMatrixDisplay at 0x7f5785c11360>"
      ]
     },
     "execution_count": 20,
     "metadata": {},
     "output_type": "execute_result"
    },
    {
     "data": {
      "image/png": "[encoded data removed]",
      "text/plain": [
       "<Figure size 640x480 with 2 Axes>"
      ]
     },
     "metadata": {},
     "output_type": "display_data"
    }
   ],
   "source": [
    "disp = ConfusionMatrixDisplay(confusion_matrices, display_labels=np.unique(y_pred))\n",
    "disp.plot()"
   ]
  },
  {
   "cell_type": "code",
   "execution_count": 21,
   "id": "f2047f6c-c67d-4574-a7d7-553a1e4b01c7",
   "metadata": {},
   "outputs": [],
   "source": [
    "model.save(\"../Models/rnn33.keras\")"
   ]
  },
  {
   "cell_type": "code",
   "execution_count": null,
   "id": "0f205e29-a07a-4368-b420-63fa61d027b8",
   "metadata": {},
   "outputs": [],
   "source": []
  }
 ],
 "metadata": {
  "kernelspec": {
   "display_name": "Python 3 (ipykernel)",
   "language": "python",
   "name": "python3"
  },
  "language_info": {
   "codemirror_mode": {
    "name": "ipython",
    "version": 3
   },
   "file_extension": ".py",
   "mimetype": "text/x-python",
   "name": "python",
   "nbconvert_exporter": "python",
   "pygments_lexer": "ipython3",
   "version": "3.10.9"
  }
 },
 "nbformat": 4,
 "nbformat_minor": 5
}
