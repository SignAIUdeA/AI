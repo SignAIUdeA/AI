{
 "cells": [
  {
   "cell_type": "code",
   "execution_count": 1,
   "id": "c235c84e-96df-4c9c-af66-4c495812b9b4",
   "metadata": {},
   "outputs": [
    {
     "name": "stderr",
     "output_type": "stream",
     "text": [
      "2024-01-06 20:45:14.279008: I tensorflow/tsl/cuda/cudart_stub.cc:28] Could not find cuda drivers on your machine, GPU will not be used.\n",
      "2024-01-06 20:45:14.922815: E tensorflow/compiler/xla/stream_executor/cuda/cuda_dnn.cc:9342] Unable to register cuDNN factory: Attempting to register factory for plugin cuDNN when one has already been registered\n",
      "2024-01-06 20:45:14.923268: E tensorflow/compiler/xla/stream_executor/cuda/cuda_fft.cc:609] Unable to register cuFFT factory: Attempting to register factory for plugin cuFFT when one has already been registered\n",
      "2024-01-06 20:45:14.925917: E tensorflow/compiler/xla/stream_executor/cuda/cuda_blas.cc:1518] Unable to register cuBLAS factory: Attempting to register factory for plugin cuBLAS when one has already been registered\n",
      "2024-01-06 20:45:15.192939: I tensorflow/tsl/cuda/cudart_stub.cc:28] Could not find cuda drivers on your machine, GPU will not be used.\n",
      "2024-01-06 20:45:15.209189: I tensorflow/core/platform/cpu_feature_guard.cc:182] This TensorFlow binary is optimized to use available CPU instructions in performance-critical operations.\n",
      "To enable the following instructions: AVX2 FMA, in other operations, rebuild TensorFlow with the appropriate compiler flags.\n",
      "2024-01-06 20:45:20.048228: W tensorflow/compiler/tf2tensorrt/utils/py_utils.cc:38] TF-TRT Warning: Could not find TensorRT\n"
     ]
    }
   ],
   "source": [
    "import pandas as pd\n",
    "import numpy as np\n",
    "from progress.bar import Bar\n",
    "from utils.load import load_data_methodology_cutting\n",
    "from sklearn.model_selection import train_test_split\n",
    "from tensorflow.keras.models import Sequential\n",
    "from tensorflow.keras.layers import LSTM, Dense\n",
    "from tensorflow.keras.utils import to_categorical\n",
    "import tensorflow.keras.backend as K\n",
    "from utils.metrics import f1, confusion_matrix_plot\n",
    "from utils.tuner import CVTuner\n",
    "from iterstrat.ml_stratifiers import MultilabelStratifiedKFold\n",
    "import joblib\n",
    "import keras_tuner\n",
    "import tensorflow as tf"
   ]
  },
  {
   "cell_type": "code",
   "execution_count": 2,
   "id": "16c960a1-e3e9-4203-aaa9-ecbb7bb9db51",
   "metadata": {},
   "outputs": [
    {
     "data": {
      "text/html": [
       "<div>\n",
       "<style scoped>\n",
       "    .dataframe tbody tr th:only-of-type {\n",
       "        vertical-align: middle;\n",
       "    }\n",
       "\n",
       "    .dataframe tbody tr th {\n",
       "        vertical-align: top;\n",
       "    }\n",
       "\n",
       "    .dataframe thead th {\n",
       "        text-align: right;\n",
       "    }\n",
       "</style>\n",
       "<table border=\"1\" class=\"dataframe\">\n",
       "  <thead>\n",
       "    <tr style=\"text-align: right;\">\n",
       "      <th></th>\n",
       "      <th>Class</th>\n",
       "    </tr>\n",
       "    <tr>\n",
       "      <th>File</th>\n",
       "      <th></th>\n",
       "    </tr>\n",
       "  </thead>\n",
       "  <tbody>\n",
       "    <tr>\n",
       "      <th>S1V3C1M3A Clip166.npy</th>\n",
       "      <td>1</td>\n",
       "    </tr>\n",
       "    <tr>\n",
       "      <th>S1V1C1M1A Clip18.npy</th>\n",
       "      <td>1</td>\n",
       "    </tr>\n",
       "    <tr>\n",
       "      <th>S1V4C1M4A Clip241.npy</th>\n",
       "      <td>1</td>\n",
       "    </tr>\n",
       "    <tr>\n",
       "      <th>S1V4C1M4A Clip239.npy</th>\n",
       "      <td>1</td>\n",
       "    </tr>\n",
       "    <tr>\n",
       "      <th>S1V4C1M4A Clip245.npy</th>\n",
       "      <td>1</td>\n",
       "    </tr>\n",
       "  </tbody>\n",
       "</table>\n",
       "</div>"
      ],
      "text/plain": [
       "                       Class\n",
       "File                        \n",
       "S1V3C1M3A Clip166.npy      1\n",
       "S1V1C1M1A Clip18.npy       1\n",
       "S1V4C1M4A Clip241.npy      1\n",
       "S1V4C1M4A Clip239.npy      1\n",
       "S1V4C1M4A Clip245.npy      1"
      ]
     },
     "execution_count": 2,
     "metadata": {},
     "output_type": "execute_result"
    }
   ],
   "source": [
    "df = pd.read_csv(\"../Metadata/data_curated.csv\")\n",
    "df.set_index(\"File\", inplace=True)\n",
    "df.head()"
   ]
  },
  {
   "cell_type": "code",
   "execution_count": 3,
   "id": "eb9ab8b5-a77b-4c0d-8ce1-f782642034a9",
   "metadata": {},
   "outputs": [],
   "source": [
    "X_train, y_train, X_val, y_val = load_data_methodology_cutting(df,30,\"M1\")"
   ]
  },
  {
   "cell_type": "code",
   "execution_count": 4,
   "id": "b07ceb75-9417-4900-9db8-4ee666513019",
   "metadata": {},
   "outputs": [
    {
     "data": {
      "text/plain": [
       "(2250, 30, 1662)"
      ]
     },
     "execution_count": 4,
     "metadata": {},
     "output_type": "execute_result"
    }
   ],
   "source": [
    "X_train.shape"
   ]
  },
  {
   "cell_type": "code",
   "execution_count": 5,
   "id": "0169b89e-c051-4b9f-9019-848a13432740",
   "metadata": {},
   "outputs": [
    {
     "data": {
      "text/plain": [
       "(2250, 6)"
      ]
     },
     "execution_count": 5,
     "metadata": {},
     "output_type": "execute_result"
    }
   ],
   "source": [
    "y_train.shape"
   ]
  },
  {
   "cell_type": "code",
   "execution_count": 6,
   "id": "06999fef-c5f0-48eb-9698-9e32c01ffdf9",
   "metadata": {},
   "outputs": [
    {
     "data": {
      "text/plain": [
       "(750, 30, 1662)"
      ]
     },
     "execution_count": 6,
     "metadata": {},
     "output_type": "execute_result"
    }
   ],
   "source": [
    "X_val.shape"
   ]
  },
  {
   "cell_type": "code",
   "execution_count": 7,
   "id": "61458d3e-979f-417d-a246-4f7ae6791cd1",
   "metadata": {},
   "outputs": [
    {
     "data": {
      "text/plain": [
       "(750, 6)"
      ]
     },
     "execution_count": 7,
     "metadata": {},
     "output_type": "execute_result"
    }
   ],
   "source": [
    "y_val.shape"
   ]
  },
  {
   "cell_type": "markdown",
   "id": "a2308e99-28c2-448e-a7e4-caa905383ff0",
   "metadata": {},
   "source": [
    "# Cross Validation"
   ]
  },
  {
   "cell_type": "code",
   "execution_count": 8,
   "id": "d6e6c180-d9eb-4d0a-8859-b3a2c3c10e28",
   "metadata": {},
   "outputs": [
    {
     "data": {
      "text/plain": [
       "['./cv/cv.joblib']"
      ]
     },
     "execution_count": 8,
     "metadata": {},
     "output_type": "execute_result"
    }
   ],
   "source": [
    "cv = MultilabelStratifiedKFold(n_splits=5)\n",
    "joblib.dump(cv, './cv/cv.joblib')"
   ]
  },
  {
   "cell_type": "markdown",
   "id": "9e052a39-63c9-4444-a4ef-2b178c6c870f",
   "metadata": {},
   "source": [
    "# Hyper Parameter Tunning Recurrent Neural Networks"
   ]
  },
  {
   "cell_type": "code",
   "execution_count": 9,
   "id": "c7970b71-fe23-4706-b9b1-6b1001509061",
   "metadata": {},
   "outputs": [],
   "source": [
    "def build_model_LSTM(hp):\n",
    "    \n",
    "    model = Sequential()\n",
    "    model.add(LSTM(hp.Int('input_units',min_value=30,max_value=200,step=20), return_sequences=True, activation='relu', input_shape=(30,1662)))\n",
    "    model.add(LSTM(hp.Int('LSTM_1',min_value=100,max_value=200,step=20), return_sequences=True, activation='relu'))\n",
    "    model.add(LSTM(hp.Int('LSTM_2',min_value=30,max_value=100,step=20), return_sequences=False, activation='relu'))\n",
    "    model.add(Dense(hp.Int(f\"Dense_units_1\",min_value=10,max_value=60,step=10), activation='relu'))\n",
    "    model.add(Dense(hp.Int(f\"Dense_units_2\",min_value=10,max_value=30,step=10), activation='relu'))\n",
    "    model.add(Dense(6, activation='softmax'))\n",
    "\n",
    "    opt = tf.keras.optimizers.Nadam(clipnorm = 1.0)\n",
    "    model.compile(optimizer=opt, loss=\"binary_crossentropy\",metrics=[f1])\n",
    "    return model"
   ]
  },
  {
   "cell_type": "code",
   "execution_count": 12,
   "id": "6286937d-9b8f-4a6e-96ea-3b4a87006d4e",
   "metadata": {},
   "outputs": [],
   "source": [
    "tuner_LSTM = CVTuner(\n",
    "                    data_cv= cv,\n",
    "                    goal = 'f1',\n",
    "                    hypermodel=build_model_LSTM,\n",
    "                    oracle=keras_tuner.oracles.BayesianOptimizationOracle(\n",
    "                    objective=keras_tuner.Objective('f1',direction = \"max\"),\n",
    "                        max_trials=5                  \n",
    "                    ),\n",
    "                    directory='./experiments/',\n",
    "                    project_name = 'LSTM',\n",
    "                    overwrite=True\n",
    "                    )"
   ]
  },
  {
   "cell_type": "code",
   "execution_count": 13,
   "id": "537a0059-b70e-4046-bc76-b635b930dd59",
   "metadata": {},
   "outputs": [
    {
     "name": "stdout",
     "output_type": "stream",
     "text": [
      "Trial 5 Complete [00h 11m 28s]\n",
      "f1: 0.28008725345134733\n",
      "\n",
      "Best f1 So Far: 0.3620250649750233\n",
      "Total elapsed time: 01h 16m 09s\n",
      "INFO:tensorflow:Oracle triggered exit\n"
     ]
    }
   ],
   "source": [
    "tuner_LSTM.search(X_train, y_train, 128, epochs=40)"
   ]
  },
  {
   "cell_type": "code",
   "execution_count": 15,
   "id": "8b227600-a225-43ac-b0ff-1eebb9b131c2",
   "metadata": {},
   "outputs": [],
   "source": [
    "df_LSTM = pd.DataFrame(tuner_LSTM.trial_scores)"
   ]
  },
  {
   "cell_type": "code",
   "execution_count": 16,
   "id": "67099288-3f31-4657-bde1-3c9358b2df43",
   "metadata": {},
   "outputs": [],
   "source": [
    "df_LSTM.to_csv(\"./experiments/LSTM.csv\")"
   ]
  },
  {
   "cell_type": "code",
   "execution_count": null,
   "id": "a5b851dd-9c9e-455a-9ba8-a72310220ce2",
   "metadata": {},
   "outputs": [],
   "source": []
  },
  {
   "cell_type": "code",
   "execution_count": null,
   "id": "c1a9af8f-3a81-41be-98c7-fa3b24f7d86f",
   "metadata": {},
   "outputs": [],
   "source": []
  },
  {
   "cell_type": "code",
   "execution_count": null,
   "id": "a351feb2-20cb-448f-9c51-2b261e03f0dc",
   "metadata": {},
   "outputs": [],
   "source": []
  },
  {
   "cell_type": "code",
   "execution_count": null,
   "id": "9edf6f1b-11be-4729-b04c-3a1d1c9062b3",
   "metadata": {},
   "outputs": [],
   "source": [
    "#disp = confusion_matrix_plot(y_val, y_pred)\n",
    "#disp.plot()"
   ]
  }
 ],
 "metadata": {
  "kernelspec": {
   "display_name": "Python 3 (ipykernel)",
   "language": "python",
   "name": "python3"
  },
  "language_info": {
   "codemirror_mode": {
    "name": "ipython",
    "version": 3
   },
   "file_extension": ".py",
   "mimetype": "text/x-python",
   "name": "python",
   "nbconvert_exporter": "python",
   "pygments_lexer": "ipython3",
   "version": "3.10.9"
  }
 },
 "nbformat": 4,
 "nbformat_minor": 5
}
